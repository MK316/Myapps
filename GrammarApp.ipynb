{
  "nbformat": 4,
  "nbformat_minor": 0,
  "metadata": {
    "colab": {
      "private_outputs": true,
      "provenance": [],
      "authorship_tag": "ABX9TyPwZX5r85jVAlSrce9cbuEp",
      "include_colab_link": true
    },
    "kernelspec": {
      "name": "python3",
      "display_name": "Python 3"
    },
    "language_info": {
      "name": "python"
    }
  },
  "cells": [
    {
      "cell_type": "markdown",
      "metadata": {
        "id": "view-in-github",
        "colab_type": "text"
      },
      "source": [
        "<a href=\"https://colab.research.google.com/github/MK316/Myapps/blob/main/GrammarApp.ipynb\" target=\"_parent\"><img src=\"https://colab.research.google.com/assets/colab-badge.svg\" alt=\"Open In Colab\"/></a>"
      ]
    },
    {
      "cell_type": "markdown",
      "source": [
        "# 🍀 Writing application"
      ],
      "metadata": {
        "id": "bFjYJ0ZZ0bgw"
      }
    },
    {
      "cell_type": "code",
      "execution_count": null,
      "metadata": {
        "id": "W3SmTLPc0a19"
      },
      "outputs": [],
      "source": [
        "!pip install language-tool-python"
      ]
    },
    {
      "cell_type": "code",
      "source": [
        "import language_tool_python\n",
        "\n",
        "def correct_sentence(input_sentence):\n",
        "    tool = language_tool_python.LanguageTool('en-US')\n",
        "    matches = tool.check(input_sentence)\n",
        "    corrected_sentence = language_tool_python.utils.correct(input_sentence, matches)\n",
        "    return corrected_sentence\n",
        "\n",
        "# Example usage\n",
        "user_input = input(\"Type a sentence here: when done, hit 'ENTER' key.\")\n",
        "corrected = correct_sentence(user_input)\n",
        "print(\"Original:\", user_input)\n",
        "print(\"Corrected:\", corrected)\n"
      ],
      "metadata": {
        "id": "u_b8IyX20kgq"
      },
      "execution_count": null,
      "outputs": []
    },
    {
      "cell_type": "markdown",
      "source": [
        "## Gradio"
      ],
      "metadata": {
        "id": "ggHwDP7l1FIu"
      }
    },
    {
      "cell_type": "code",
      "source": [
        "!pip install gradio"
      ],
      "metadata": {
        "id": "gQggymaY1Gqq"
      },
      "execution_count": null,
      "outputs": []
    },
    {
      "cell_type": "code",
      "source": [
        "import gradio as gr\n",
        "import language_tool_python\n",
        "\n",
        "def correct_sentence(input_sentence):\n",
        "    tool = language_tool_python.LanguageTool('en-US')\n",
        "    matches = tool.check(input_sentence)\n",
        "    corrected_sentence = language_tool_python.utils.correct(input_sentence, matches)\n",
        "    return corrected_sentence\n",
        "\n",
        "iface = gr.Interface(\n",
        "    fn=correct_sentence,\n",
        "    inputs=gr.Textbox(lines=2, placeholder=\"Enter a sentence here...\"),\n",
        "    outputs=\"text\",\n",
        "    title=\"Grammar Corrector\",\n",
        "    description=\"Enter a sentence to see the corrected version.\"\n",
        ")\n",
        "\n",
        "iface.launch()\n"
      ],
      "metadata": {
        "id": "hKjVm2S-1Jv7"
      },
      "execution_count": null,
      "outputs": []
    },
    {
      "cell_type": "code",
      "source": [
        "import language_tool_python\n",
        "import gradio as gr\n",
        "\n",
        "def correct_sentence(input_sentence, sentence_type):\n",
        "    tool = language_tool_python.LanguageTool('en-US')\n",
        "    matches = tool.check(input_sentence)\n",
        "    corrected_sentence = language_tool_python.utils.correct(input_sentence, matches)\n",
        "\n",
        "    if sentence_type == \"Statement\" and not corrected_sentence.strip().endswith('.'):\n",
        "        corrected_sentence = corrected_sentence.strip() + '.'\n",
        "    elif sentence_type == \"Question\" and not corrected_sentence.strip().endswith('?'):\n",
        "        corrected_sentence = corrected_sentence.strip() + '?'\n",
        "    # No additional punctuation for \"Word\" type\n",
        "\n",
        "    return corrected_sentence\n",
        "\n",
        "iface = gr.Interface(\n",
        "    fn=correct_sentence,\n",
        "    inputs=[gr.Textbox(lines=2, placeholder=\"Enter a sentence or a word here...\"), gr.Radio([\"Statement\", \"Question\", \"Word\"])],\n",
        "    outputs=\"text\",\n",
        "    title=\"Grammar and Punctuation Corrector\",\n",
        "    description=\"Enter a sentence or a word and select its type (Statement, Question, or Word) to get grammar corrections with appropriate punctuation.\"\n",
        ")\n",
        "\n",
        "iface.launch()\n"
      ],
      "metadata": {
        "id": "KWdbCRTb1vgF"
      },
      "execution_count": null,
      "outputs": []
    },
    {
      "cell_type": "markdown",
      "source": [
        "## QR code to share the link"
      ],
      "metadata": {
        "id": "cfH25UQO3ujN"
      }
    },
    {
      "cell_type": "code",
      "source": [
        "!pip install qrcode"
      ],
      "metadata": {
        "id": "LFfG_GXr34qi"
      },
      "execution_count": null,
      "outputs": []
    },
    {
      "cell_type": "code",
      "source": [
        "#@markdown 🌀 QR code (link should be provided)\n",
        "import qrcode\n",
        "from IPython.display import display\n",
        "from PIL import Image\n",
        "\n",
        "# Replace YOUR_URL_HERE with the URL you copied from the Gradio output\n",
        "url = input()\n",
        "\n",
        "# Generate QR code\n",
        "qr = qrcode.QRCode(\n",
        "    version=1,\n",
        "    error_correction=qrcode.constants.ERROR_CORRECT_H,\n",
        "    box_size=16,\n",
        "    border=4,\n",
        ")\n",
        "qr.add_data(url)\n",
        "qr.make(fit=True)\n",
        "img = qr.make_image(fill_color=\"black\", back_color=\"white\")\n",
        "display(img)\n"
      ],
      "metadata": {
        "cellView": "form",
        "id": "LXZ9Po6Masw_"
      },
      "execution_count": null,
      "outputs": []
    }
  ]
}