{
  "nbformat": 4,
  "nbformat_minor": 0,
  "metadata": {
    "colab": {
      "private_outputs": true,
      "provenance": [],
      "authorship_tag": "ABX9TyOJWRFgnCIQtHKW6/hSajDW",
      "include_colab_link": true
    },
    "kernelspec": {
      "name": "python3",
      "display_name": "Python 3"
    },
    "language_info": {
      "name": "python"
    }
  },
  "cells": [
    {
      "cell_type": "markdown",
      "metadata": {
        "id": "view-in-github",
        "colab_type": "text"
      },
      "source": [
        "<a href=\"https://colab.research.google.com/github/MK316/Myapps/blob/main/18Sentences.ipynb\" target=\"_parent\"><img src=\"https://colab.research.google.com/assets/colab-badge.svg\" alt=\"Open In Colab\"/></a>"
      ]
    },
    {
      "cell_type": "markdown",
      "source": [
        "# Assessing English pronunciation"
      ],
      "metadata": {
        "id": "F-TGyZecLM7n"
      }
    },
    {
      "cell_type": "code",
      "execution_count": null,
      "metadata": {
        "id": "10TOC6ywLKFK"
      },
      "outputs": [],
      "source": [
        "%%capture\n",
        "!pip install gTTS"
      ]
    },
    {
      "cell_type": "code",
      "source": [
        "#@markdown gTTS (output.mp3) based on input\n",
        "from gtts import gTTS\n",
        "import os\n",
        "\n",
        "def text_to_speech(text, language='en'):\n",
        "    # Pass the text and language to the engine,\n",
        "    # here 'en' is the language code for English\n",
        "    speech = gTTS(text=text, lang=language, slow=False)\n",
        "\n",
        "    # Save the speech to an MP3 file\n",
        "    speech.save(\"output.mp3\")\n",
        "    print(\"Speech has been saved as output.mp3.\")\n",
        "\n",
        "# User input\n",
        "user_text = input(\"Enter the text you want to convert to speech: \")\n",
        "\n",
        "# Convert the user input to speech\n",
        "text_to_speech(user_text)\n",
        "\n",
        "from IPython.display import Audio\n",
        "\n",
        "# Assume `mp3_data` is a bytes object containing MP3 data\n",
        "mp3_data = open('/content/output.mp3', 'rb').read()\n",
        "\n",
        "# Play the audio file\n",
        "Audio(mp3_data)\n"
      ],
      "metadata": {
        "cellView": "form",
        "id": "n7xeZBPrLTnW"
      },
      "execution_count": null,
      "outputs": []
    },
    {
      "cell_type": "markdown",
      "source": [
        "# Sampe sentences"
      ],
      "metadata": {
        "id": "BwTkdLrdLm4D"
      }
    },
    {
      "cell_type": "code",
      "source": [
        "from gtts import gTTS\n",
        "import os"
      ],
      "metadata": {
        "id": "vLqfgClUQFo9"
      },
      "execution_count": null,
      "outputs": []
    },
    {
      "cell_type": "code",
      "source": [
        "#@markdown gTTS\n",
        "\n",
        "Sentence = \"5\" #@param = [1, 2, 3, 4, 5, 6, 7, 8, 9, 10, 11, 12, 13, 14, 15, 16, 17, 18, 19]\n",
        "sn = int(Sentence)\n",
        "\n",
        "sents = [\"1. Please believe that sweet peas and beans are good to eat. Eat them at least twice a week.\",\n",
        "\"2. Tim's sister swims a little bit. It keeps her fit, slim, and trim.\",\n",
        "\n",
        "\"3. Ten times seven is seventy. Seven times eleven is seventy-seven.\",\n",
        "\"4. Many animals inhabit Africa. Africa has camels, giraffes, parrots, and bats.\",\n",
        "\"5. Doctors say jogging is good for the body. Lots of starch causes heart problems.\",\n",
        "\"6. Who flew to the moon? Numerous lunar flights are in the news. We'll soon put a person on Jupiter and Pluto.\",\n",
        "\"7. Would you look for my cookbook? It should be full of hints for good cookies and pudding.\",\n",
        "\"8. The southern governor is Republican. The public election was fun. She won by one hundred votes.\",\n",
        "\"9. The author gave a long talk in the office. The small audience thought it was boring.\",\n",
        "\"10. Nurses do worthy work. They certainly deserve a word of praise.\",\n",
        "\"11. Labor Day is in September. Workers are honored.\",\n",
        "\"12. Maine is a state in the northern United States. It's a great place for a vacation.\",\n",
        "\"13. The North Pole is close to the Arctic Ocean. It's known for polar bears, snow, and severe cold.\",\n",
        "\"14. Owls are now found throughout the world. They avoid crowds and make loud sounds.\",\n",
        "\"15. Eyesight is vital for a normal life. I prize mine highly.\",\n",
        "\"16. The auto industry is a loyal employer in Detroit. People enjoy their choice of cars.\",\n",
        "\"17. Africa, Asia, Australia, South America, and Europe comprise five of the continents. North America is another continent.\",\n",
        "\"18. I have televisions in the bedroom, living room, and dining room. The programs about detectives and hospitals are my favorites.\"]\n",
        "\n",
        "mytext = sents[sn-1]\n",
        "\n",
        "def text_to_speech(text, language='en'):\n",
        "    # Pass the text and language to the engine,\n",
        "    # here 'en' is the language code for English\n",
        "    speech = gTTS(text=text, lang=language, slow=False)\n",
        "\n",
        "    # Save the speech to an MP3 file\n",
        "    speech.save(\"output.mp3\")\n",
        "    print(\"Speech has been saved as output.mp3.\")\n",
        "\n",
        "# Convert the user input to speech\n",
        "text_to_speech(mytext)\n",
        "\n",
        "from IPython.display import Audio\n",
        "\n",
        "# Assume `mp3_data` is a bytes object containing MP3 data\n",
        "mp3_data = open('/content/output.mp3', 'rb').read()\n",
        "\n",
        "# Play the audio file\n",
        "Audio(mp3_data)"
      ],
      "metadata": {
        "id": "PWhoW4ciQAPT"
      },
      "execution_count": null,
      "outputs": []
    },
    {
      "cell_type": "code",
      "source": [
        "#@markdown gTTS\n",
        "\n",
        "from gtts import gTTS\n",
        "from IPython.display import Audio\n",
        "import tempfile\n",
        "\n",
        "Sentence = \"6\" #@param = [1, 2, 3, 4, 5, 6, 7, 8, 9, 10, 11, 12, 13, 14, 15, 16, 17, 18, 19]\n",
        "sn = int(Sentence)\n",
        "\n",
        "sents = [\"1. Please believe that sweet peas and beans are good to eat. Eat them at least twice a week.\",\n",
        "\"2. Tim's sister swims a little bit. It keeps her fit, slim, and trim.\",\n",
        "\n",
        "\"3. Ten times seven is seventy. Seven times eleven is seventy-seven.\",\n",
        "\"4. Many animals inhabit Africa. Africa has camels, giraffes, parrots, and bats.\",\n",
        "\"5. Doctors say jogging is good for the body. Lots of starch causes heart problems.\",\n",
        "\"6. Who flew to the moon? Numerous lunar flights are in the news. We'll soon put a person on Jupiter and Pluto.\",\n",
        "\"7. Would you look for my cookbook? It should be full of hints for good cookies and pudding.\",\n",
        "\"8. The southern governor is Republican. The public election was fun. She won by one hundred votes.\",\n",
        "\"9. The author gave a long talk in the office. The small audience thought it was boring.\",\n",
        "\"10. Nurses do worthy work. They certainly deserve a word of praise.\",\n",
        "\"11. Labor Day is in September. Workers are honored.\",\n",
        "\"12. Maine is a state in the northern United States. It's a great place for a vacation.\",\n",
        "\"13. The North Pole is close to the Arctic Ocean. It's known for polar bears, snow, and severe cold.\",\n",
        "\"14. Owls are now found throughout the world. They avoid crowds and make loud sounds.\",\n",
        "\"15. Eyesight is vital for a normal life. I prize mine highly.\",\n",
        "\"16. The auto industry is a loyal employer in Detroit. People enjoy their choice of cars.\",\n",
        "\"17. Africa, Asia, Australia, South America, and Europe comprise five of the continents. North America is another continent.\",\n",
        "\"18. I have televisions in the bedroom, living room, and dining room. The programs about detectives and hospitals are my favorites.\"]\n",
        "\n",
        "mytext = sents[sn-1]\n",
        "\n",
        "def text_to_speech(text, language='en'):\n",
        "    # Define language codes for English, Korean, and Russian\n",
        "    language_codes = {'en': 'en', 'ko': 'ko', 'ru': 'ru'}\n",
        "\n",
        "    # Pass the text and language to the engine\n",
        "    speech = gTTS(text=text, lang=language_codes.get(language, 'en'), slow=False)\n",
        "\n",
        "    # Save the speech to a temporary file\n",
        "    with tempfile.NamedTemporaryFile(delete=False, suffix=\".mp3\") as temp_mp3:\n",
        "        temp_mp3_path = temp_mp3.name\n",
        "        speech.save(temp_mp3_path)\n",
        "\n",
        "    return temp_mp3_path\n",
        "\n",
        "# Convert the user input to speech with language options\n",
        "language_option = \"Korean\" #@param [\"English\", \"Korean\", \"Russian\"]\n",
        "mp3_path = text_to_speech(mytext, language_option.lower())\n",
        "\n",
        "# Play the audio file\n",
        "mp3_data = open(mp3_path, 'rb').read()\n",
        "Audio(mp3_data)\n"
      ],
      "metadata": {
        "id": "uQbDa4oZNTzH"
      },
      "execution_count": null,
      "outputs": []
    },
    {
      "cell_type": "code",
      "source": [
        "#@markdown gTTS\n",
        "\n",
        "Sentence = \"5\" #@param = [1, 2, 3, 4, 5, 6, 7, 8, 9, 10, 11, 12, 13, 14, 15, 16, 17, 18, 19]\n",
        "sn = int(Sentence)\n",
        "\n",
        "sents = [\"1. Please believe that sweet peas and beans are good to eat. Eat them at least twice a week.\",\n",
        "\"2. Tim's sister swims a little bit. It keeps her fit, slim, and trim.\",\n",
        "\n",
        "\"3. Ten times seven is seventy. Seven times eleven is seventy-seven.\",\n",
        "\"4. Many animals inhabit Africa. Africa has camels, giraffes, parrots, and bats.\",\n",
        "\"5. Doctors say jogging is good for the body. Lots of starch causes heart problems.\",\n",
        "\"6. Who flew to the moon? Numerous lunar flights are in the news. We'll soon put a person on Jupiter and Pluto.\",\n",
        "\"7. Would you look for my cookbook? It should be full of hints for good cookies and pudding.\",\n",
        "\"8. The southern governor is Republican. The public election was fun. She won by one hundred votes.\",\n",
        "\"9. The author gave a long talk in the office. The small audience thought it was boring.\",\n",
        "\"10. Nurses do worthy work. They certainly deserve a word of praise.\",\n",
        "\"11. Labor Day is in September. Workers are honored.\",\n",
        "\"12. Maine is a state in the northern United States. It's a great place for a vacation.\",\n",
        "\"13. The North Pole is close to the Arctic Ocean. It's known for polar bears, snow, and severe cold.\",\n",
        "\"14. Owls are now found throughout the world. They avoid crowds and make loud sounds.\",\n",
        "\"15. Eyesight is vital for a normal life. I prize mine highly.\",\n",
        "\"16. The auto industry is a loyal employer in Detroit. People enjoy their choice of cars.\",\n",
        "\"17. Africa, Asia, Australia, South America, and Europe comprise five of the continents. North America is another continent.\",\n",
        "\"18. I have televisions in the bedroom, living room, and dining room. The programs about detectives and hospitals are my favorites.\"]\n",
        "\n",
        "mytext = sents[sn-1]\n",
        "\n",
        "print(mytext)"
      ],
      "metadata": {
        "id": "ZZ59ExgnMriY"
      },
      "execution_count": null,
      "outputs": []
    },
    {
      "cell_type": "markdown",
      "source": [
        "# Accented speech"
      ],
      "metadata": {
        "id": "yBTWGytjOWqn"
      }
    },
    {
      "cell_type": "code",
      "source": [
        "#@markdown Text-to-Speech\n",
        "\n",
        "from gtts import gTTS\n",
        "from IPython.display import Audio\n",
        "\n",
        "# Input sentence selection\n",
        "Sentence = \"5\" #@param [1, 2, 3, 4, 5, 6, 7, 8, 9, 10, 11, 12, 13, 14, 15, 16, 17, 18, 19]\n",
        "sn = int(Sentence)\n",
        "\n",
        "# List of sentences (updated)\n",
        "sents = [\n",
        "    \"1. Please believe that sweet peas and beans are good to eat. Eat them at least twice a week.\",\n",
        "    \"2. Tim's sister swims a little bit. It keeps her fit, slim, and trim.\",\n",
        "    \"3. Ten times seven is seventy. Seven times eleven is seventy-seven.\",\n",
        "    \"4. Many animals inhabit Africa. Africa has camels, giraffes, parrots, and bats.\",\n",
        "    \"5. Doctors say jogging is good for the body. Lots of starch causes heart problems.\",\n",
        "    \"6. Who flew to the moon? Numerous lunar flights are in the news. We'll soon put a person on Jupiter and Pluto.\",\n",
        "    \"7. Would you look for my cookbook? It should be full of hints for good cookies and pudding.\",\n",
        "    \"8. The southern governor is Republican. The public election was fun. She won by one hundred votes.\",\n",
        "    \"9. The author gave a long talk in the office. The small audience thought it was boring.\",\n",
        "    \"10. Nurses do worthy work. They certainly deserve a word of praise.\",\n",
        "    \"11. Labor Day is in September. Workers are honored.\",\n",
        "    \"12. Maine is a state in the northern United States. It's a great place for a vacation.\",\n",
        "    \"13. The North Pole is close to the Arctic Ocean. It's known for polar bears, snow, and severe cold.\",\n",
        "    \"14. Owls are now found throughout the world. They avoid crowds and make loud sounds.\",\n",
        "    \"15. Eyesight is vital for a normal life. I prize mine highly.\",\n",
        "    \"16. The auto industry is a loyal employer in Detroit. People enjoy their choice of cars.\",\n",
        "    \"17. Africa, Asia, Australia, South America, and Europe comprise five of the continents. North America is another continent.\",\n",
        "    \"18. I have televisions in the bedroom, living room, and dining room. The programs about detectives and hospitals are my favorites.\"\n",
        "]\n",
        "\n",
        "if sn >= 1 and sn <= len(sents):\n",
        "    mytext = sents[sn - 1]\n",
        "else:\n",
        "    mytext = \"Invalid sentence selection.\"\n",
        "\n",
        "# Choose the language for speech output\n",
        "language_option = \"Russian\" #@param [\"English\", \"Korean\", \"Russian\"]\n",
        "language = language_option\n",
        "\n",
        "# Function to convert text to speech\n",
        "def text_to_speech(text, language):\n",
        "    # Define language codes for English, Korean, and Russian\n",
        "    language_codes = {'Enlish': 'en', 'Korean': 'ko', 'Russian': 'ru'}\n",
        "\n",
        "    # Create a gTTS object with the selected language\n",
        "    tts = gTTS(text=text, lang=language_codes[language], slow=False)\n",
        "\n",
        "    # Save the speech to an MP3 file\n",
        "    tts.save(\"output.mp3\")\n",
        "\n",
        "\n",
        "# Convert the user input to speech with the selected language\n",
        "text_to_speech(mytext, language)\n",
        "\n",
        "# Play the audio file\n",
        "mp3_data = open(\"output.mp3\", 'rb').read()\n",
        "Audio(mp3_data)\n"
      ],
      "metadata": {
        "cellView": "form",
        "id": "rZanrK0xOVzV"
      },
      "execution_count": null,
      "outputs": []
    },
    {
      "cell_type": "markdown",
      "source": [
        "# Gradio"
      ],
      "metadata": {
        "id": "viQkeewfM3mk"
      }
    },
    {
      "cell_type": "code",
      "source": [
        "%%capture\n",
        "!pip install gtts gradio\n",
        "!pip install qrcode"
      ],
      "metadata": {
        "id": "rjVEgTeNgcMi"
      },
      "execution_count": null,
      "outputs": []
    },
    {
      "cell_type": "code",
      "execution_count": null,
      "metadata": {
        "id": "9qCb7eZLSQf5"
      },
      "outputs": [],
      "source": [
        "%%capture\n",
        "!pip install gTTS"
      ]
    },
    {
      "cell_type": "code",
      "source": [
        "# Gradio app with pre-given texts\n",
        "import gradio as gr\n",
        "from gtts import gTTS\n",
        "import os\n",
        "\n",
        "# List of sentences\n",
        "sents = [\n",
        "    \"Please believe that sweet peas and beans are good to eat. Eat them at least twice a week.\",\n",
        "    \"Tim's sister swims a little bit. It keeps her fit, slim, and trim.\",\n",
        "    \"Ten times seven is seventy. Seven times eleven is seventy-seven.\",\n",
        "    \"Many animals inhabit Africa. Africa has camels, giraffes, parrots, and bats.\",\n",
        "    \"Doctors say jogging is good for the body. Lots of starch causes heart problems.\",\n",
        "    \"Who flew to the moon? Numerous lunar flights are in the news. We'll soon put a person on Jupiter and Pluto.\",\n",
        "    \"Would you look for my cookbook? It should be full of hints for good cookies and pudding.\",\n",
        "    \"The southern governor is Republican. The public election was fun. She won by one hundred votes.\",\n",
        "    \"The author gave a long talk in the office. The small audience thought it was boring.\",\n",
        "    \"Nurses do worthy work. They certainly deserve a word of praise.\",\n",
        "    \"Labor Day is in September. Workers are honored.\",\n",
        "    \"Maine is a state in the northern United States. It's a great place for a vacation.\",\n",
        "    \"The North Pole is close to the Arctic Ocean. It's known for polar bears, snow, and severe cold.\",\n",
        "    \"Owls are now found throughout the world. They avoid crowds and make loud sounds.\",\n",
        "    \"Eyesight is vital for a normal life. I prize mine highly.\",\n",
        "    \"The auto industry is a loyal employer in Detroit. People enjoy their choice of cars.\",\n",
        "    \"Africa, Asia, Australia, South America, and Europe comprise five of the continents. North America is another continent.\",\n",
        "    \"I have televisions in the bedroom, living room, and dining room. The programs about detectives and hospitals are my favorites.\"\n",
        "]\n",
        "\n",
        "def text_to_speech(selected_sentence, language):\n",
        "    sn = int(selected_sentence.split(\".\")[0])  # Extract the sentence number\n",
        "    mytext = sents[sn - 1]  # Get the selected sentence\n",
        "\n",
        "    # Define language codes for English, Korean, and Russian\n",
        "    language_codes = {'English': 'en', 'Korean': 'ko', 'Russian': 'ru'}\n",
        "\n",
        "    # Create a gTTS object with the selected language\n",
        "    tts = gTTS(text=mytext, lang=language_codes[language], slow=False)\n",
        "\n",
        "    # Save the speech to a temporary file\n",
        "    filename = 'output.mp3'\n",
        "    tts.save(filename)\n",
        "    return filename\n",
        "\n",
        "iface = gr.Interface(\n",
        "    fn=text_to_speech,\n",
        "    inputs=[\n",
        "        gr.Dropdown(choices=[f\"{i}. {sents[i-1]}\" for i in range(1, len(sents) + 1)], label=\"Select Sentence\"),\n",
        "        gr.Radio(choices=['English', 'Korean', 'Russian'], label=\"Language\")\n",
        "    ],\n",
        "    outputs=gr.Audio(type=\"filepath\", label=\"Output Audio\"),\n",
        "    title=\"Text-to-Speech Converter\",\n",
        "    description=\"Select a sentence and language to convert it to speech.\"\n",
        ")\n",
        "\n",
        "iface.launch()\n"
      ],
      "metadata": {
        "id": "WRIjsJFlRJdv"
      },
      "execution_count": null,
      "outputs": []
    },
    {
      "cell_type": "code",
      "source": [
        "#@markdown Gradio app\n",
        "import gradio as gr\n",
        "from gtts import gTTS\n",
        "import os\n",
        "\n",
        "def text_to_speech(text, language):\n",
        "    tts = gTTS(text=text, lang='en' if language == 'English' else 'ko')\n",
        "    filename = 'output.mp3'\n",
        "    tts.save(filename)\n",
        "    return filename\n",
        "\n",
        "iface = gr.Interface(\n",
        "    fn=text_to_speech,\n",
        "    inputs=[\n",
        "        gr.Textbox(lines=2, placeholder=\"Enter text here...\"),\n",
        "        gr.Radio(choices=['English', 'Korean'], label=\"Language\")\n",
        "    ],\n",
        "    outputs=gr.Audio(type=\"filepath\", label=\"Output Audio\"),\n",
        "    title=\"Text-to-Speech Converter\",\n",
        "    description=\"Select a language and enter text to convert it to speech.\"\n",
        ")\n",
        "\n",
        "\n",
        "iface.launch()\n"
      ],
      "metadata": {
        "id": "mQDUQR2mf-Ym"
      },
      "execution_count": null,
      "outputs": []
    },
    {
      "cell_type": "code",
      "source": [
        "#@markdown QR code (link should be provided)\n",
        "import qrcode\n",
        "from IPython.display import display\n",
        "from PIL import Image\n",
        "\n",
        "# Replace YOUR_URL_HERE with the URL you copied from the Gradio output\n",
        "url = input()\n",
        "\n",
        "# Generate QR code\n",
        "qr = qrcode.QRCode(\n",
        "    version=1,\n",
        "    error_correction=qrcode.constants.ERROR_CORRECT_H,\n",
        "    box_size=16,\n",
        "    border=4,\n",
        ")\n",
        "qr.add_data(url)\n",
        "qr.make(fit=True)\n",
        "img = qr.make_image(fill_color=\"black\", back_color=\"white\")\n",
        "display(img)\n"
      ],
      "metadata": {
        "cellView": "form",
        "id": "lEa80FZVhRiB"
      },
      "execution_count": null,
      "outputs": []
    }
  ]
}