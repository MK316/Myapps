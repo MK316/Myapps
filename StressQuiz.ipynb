{
  "nbformat": 4,
  "nbformat_minor": 0,
  "metadata": {
    "colab": {
      "private_outputs": true,
      "provenance": [],
      "authorship_tag": "ABX9TyOTyyXaqVyi+qgDXt9ho3m2",
      "include_colab_link": true
    },
    "kernelspec": {
      "name": "python3",
      "display_name": "Python 3"
    },
    "language_info": {
      "name": "python"
    }
  },
  "cells": [
    {
      "cell_type": "markdown",
      "metadata": {
        "id": "view-in-github",
        "colab_type": "text"
      },
      "source": [
        "<a href=\"https://colab.research.google.com/github/MK316/Myapps/blob/main/StressQuiz.ipynb\" target=\"_parent\"><img src=\"https://colab.research.google.com/assets/colab-badge.svg\" alt=\"Open In Colab\"/></a>"
      ]
    },
    {
      "cell_type": "markdown",
      "source": [
        "# Stress placement quiz"
      ],
      "metadata": {
        "id": "aqMhtmzpLzOf"
      }
    },
    {
      "cell_type": "code",
      "execution_count": null,
      "metadata": {
        "id": "C49Rj6TfIbuc",
        "cellView": "form"
      },
      "outputs": [],
      "source": [
        "#@markdown [1] Install packages (getting ready)\n",
        "%%capture\n",
        "!pip install pandas ipywidgets gradio pyqrcode"
      ]
    },
    {
      "cell_type": "code",
      "source": [
        "# File link (or upload your file and use the second line after removing the # and put it to the first line)\n",
        "csv_url = \"https://raw.githubusercontent.com/MK316/Myapps/main/TCEapps/data/test.csv\"\n",
        "#csv_url =\"/content/yourfilename.csv\""
      ],
      "metadata": {
        "id": "nvfbkw5RNKcF"
      },
      "execution_count": null,
      "outputs": []
    },
    {
      "cell_type": "code",
      "source": [
        "#@markdown Play the quiz!\n",
        "import pandas as pd\n",
        "import random\n",
        "import ipywidgets as widgets\n",
        "from IPython.display import display, clear_output\n",
        "\n",
        "# Load CSV from GitHub\n",
        "# csv_url = 'YOUR_CSV_FILE_URL_ON_GITHUB'  # Replace with your GitHub CSV URL\n",
        "df = pd.read_csv(csv_url)\n",
        "\n",
        "# Quiz variables\n",
        "score = 0\n",
        "total_questions = 0\n",
        "\n",
        "# Function to display a new question\n",
        "def display_question():\n",
        "    global total_questions\n",
        "    random_row = df.sample().iloc[0]\n",
        "    word = random_row['Words']\n",
        "    pos = random_row['POS']  # Assuming 'POS' is the column name\n",
        "    position = random_row['Position']\n",
        "\n",
        "    # Update question text with POS information\n",
        "    question_label.value = f'Word: {word} ({pos})'\n",
        "\n",
        "    # Store the correct answer in a hidden widget\n",
        "    correct_answer.value = position\n",
        "\n",
        "    total_questions += 1\n",
        "    result_label.value = ''  # Clear previous result\n",
        "\n",
        "# Function to handle answer button click\n",
        "def on_button_clicked(b):\n",
        "    global score\n",
        "    user_answer = b.description\n",
        "    if user_answer == correct_answer.value:\n",
        "        score += 1\n",
        "        result_label.value = 'Good job!'\n",
        "    else:\n",
        "        result_label.value = f'The correct answer was: {correct_answer.value}'\n",
        "\n",
        "# Create widgets\n",
        "question_label = widgets.Label()\n",
        "result_label = widgets.Label()\n",
        "correct_answer = widgets.Label()  # This will be hidden\n",
        "answer_buttons = [widgets.Button(description=p) for p in ['antepenultimate', 'penultimate', 'ultimate' ]]\n",
        "continue_button = widgets.Button(description='Continue', button_style='success')  # Green color\n",
        "finish_button = widgets.Button(description='Finish', button_style='danger')  # Red color\n",
        "\n",
        "# Bind button events\n",
        "for button in answer_buttons:\n",
        "    button.on_click(on_button_clicked)\n",
        "\n",
        "def continue_button_clicked(b):\n",
        "    display_question()\n",
        "\n",
        "continue_button.on_click(continue_button_clicked)\n",
        "\n",
        "def finish_button_clicked(b):\n",
        "    global score, total_questions\n",
        "    clear_output()\n",
        "    print(f'Your final Score is: {score}/{total_questions}')\n",
        "    score = 0\n",
        "    total_questions = 0\n",
        "\n",
        "finish_button.on_click(finish_button_clicked)\n",
        "\n",
        "# Layout for answer and control buttons\n",
        "answer_buttons_box = widgets.HBox(answer_buttons)\n",
        "control_buttons_box = widgets.VBox([continue_button, finish_button])\n",
        "main_box = widgets.HBox([answer_buttons_box, control_buttons_box])\n",
        "\n",
        "# Display widgets\n",
        "display(question_label, result_label, main_box)\n",
        "\n",
        "# Initial call to display the first question\n",
        "display_question()\n"
      ],
      "metadata": {
        "cellView": "form",
        "id": "caXVtZKEPV_c"
      },
      "execution_count": null,
      "outputs": []
    },
    {
      "cell_type": "markdown",
      "source": [
        "# Demo (file from Google sheet)\n"
      ],
      "metadata": {
        "id": "BB84tLPMJ5Zo"
      }
    },
    {
      "cell_type": "code",
      "source": [
        "%%capture\n",
        "# !pip install --upgrade gspread pandas\n",
        "!pip install --upgrade gspread google-auth pandas"
      ],
      "metadata": {
        "id": "--KKpNpkJ8Ss"
      },
      "execution_count": null,
      "outputs": []
    },
    {
      "cell_type": "code",
      "source": [
        "from google.colab import auth\n",
        "from google.auth import default\n",
        "import gspread\n",
        "\n",
        "auth.authenticate_user()\n",
        "creds, _ = default()\n",
        "gc = gspread.authorize(creds)"
      ],
      "metadata": {
        "id": "yzvpeAoBKbFx"
      },
      "execution_count": null,
      "outputs": []
    },
    {
      "cell_type": "code",
      "source": [
        "import pandas as pd\n",
        "\n",
        "# Open the Google Sheet\n",
        "sheet = gc.open('Stress160words').sheet1  # Replace with your sheet name\n",
        "\n",
        "# Read data into a DataFrame\n",
        "values = sheet.get_all_values()\n",
        "df = pd.DataFrame(values)\n",
        "df.columns = df.iloc[0]  # Set the first row as column names\n",
        "df = df.drop(0)  # Drop the first row as it is now the header\n",
        "\n",
        "# Display the DataFrame\n",
        "print(df)\n"
      ],
      "metadata": {
        "id": "px-VCy94KAsA"
      },
      "execution_count": null,
      "outputs": []
    },
    {
      "cell_type": "code",
      "source": [
        "#@markdown Play the quiz!\n",
        "import pandas as pd\n",
        "import random\n",
        "import ipywidgets as widgets\n",
        "from IPython.display import display, clear_output\n",
        "\n",
        "# Load CSV from GitHub\n",
        "# csv_url = 'YOUR_CSV_FILE_URL_ON_GITHUB'  # Replace with your GitHub CSV URL\n",
        "\n",
        "\n",
        "# Quiz variables\n",
        "score = 0\n",
        "total_questions = 0\n",
        "\n",
        "# Function to display a new question\n",
        "def display_question():\n",
        "    global total_questions\n",
        "    random_row = df.sample().iloc[0]\n",
        "    word = random_row['Words']\n",
        "    pos = random_row['POS']  # Assuming 'POS' is the column name\n",
        "    position = random_row['Position']\n",
        "\n",
        "    # Update question text with POS information\n",
        "    question_label.value = f'Word: {word} ({pos})'\n",
        "\n",
        "    # Store the correct answer in a hidden widget\n",
        "    correct_answer.value = position\n",
        "\n",
        "    total_questions += 1\n",
        "    result_label.value = ''  # Clear previous result\n",
        "\n",
        "# Function to handle answer button click\n",
        "def on_button_clicked(b):\n",
        "    global score\n",
        "    user_answer = b.description\n",
        "    if user_answer == correct_answer.value:\n",
        "        score += 1\n",
        "        result_label.value = 'Good job!'\n",
        "    else:\n",
        "        result_label.value = f'The correct answer was: {correct_answer.value}'\n",
        "\n",
        "# Create widgets\n",
        "question_label = widgets.Label()\n",
        "result_label = widgets.Label()\n",
        "correct_answer = widgets.Label()  # This will be hidden\n",
        "answer_buttons = [widgets.Button(description=p) for p in ['antepenultimate', 'penultimate', 'ultimate' ]]\n",
        "continue_button = widgets.Button(description='Continue', button_style='success')  # Green color\n",
        "finish_button = widgets.Button(description='Finish', button_style='danger')  # Red color\n",
        "\n",
        "# Bind button events\n",
        "for button in answer_buttons:\n",
        "    button.on_click(on_button_clicked)\n",
        "\n",
        "def continue_button_clicked(b):\n",
        "    display_question()\n",
        "\n",
        "continue_button.on_click(continue_button_clicked)\n",
        "\n",
        "def finish_button_clicked(b):\n",
        "    global score, total_questions\n",
        "    clear_output()\n",
        "    print(f'Your final Score is: {score}/{total_questions}')\n",
        "    score = 0\n",
        "    total_questions = 0\n",
        "\n",
        "finish_button.on_click(finish_button_clicked)\n",
        "\n",
        "# Layout for answer and control buttons\n",
        "answer_buttons_box = widgets.HBox(answer_buttons)\n",
        "control_buttons_box = widgets.VBox([continue_button, finish_button])\n",
        "main_box = widgets.HBox([answer_buttons_box, control_buttons_box])\n",
        "\n",
        "# Display widgets\n",
        "display(question_label, result_label, main_box)\n",
        "\n",
        "# Initial call to display the first question\n",
        "display_question()\n"
      ],
      "metadata": {
        "cellView": "form",
        "id": "JbIym4aPLK9r"
      },
      "execution_count": null,
      "outputs": []
    },
    {
      "cell_type": "markdown",
      "source": [
        "# QR code (if you need)"
      ],
      "metadata": {
        "id": "7kUF-P40ZDnU"
      }
    },
    {
      "cell_type": "markdown",
      "source": [
        "[QR link](https://docs.google.com/spreadsheets/d/14zkLsjeqKYgQEQ4uXjgmfX0cMe5vMHwA/edit?usp=drive_link&ouid=105815276171464608659&rtpof=true&sd=true)"
      ],
      "metadata": {
        "id": "zqrp7w75ZHpk"
      }
    },
    {
      "cell_type": "code",
      "source": [
        "#@markdown Enter the link, save it as a file, and display\n",
        "\n",
        "import pyqrcode\n",
        "from pyqrcode import QRCode\n",
        "\n",
        "s = input(\"Paste the link: \")\n",
        "\n",
        "# Generate QR code\n",
        "url = pyqrcode.create(s)\n",
        "\n",
        "# Create and save the png file naming \"myqr.png\"\n",
        "url.svg(\"myqrcode.svg\", scale=10)\n",
        "\n",
        "from IPython.display import SVG, display\n",
        "def show_svg(file):\n",
        "    display(SVG(file))\n",
        "\n",
        "show_svg(\"myqrcode.svg\")"
      ],
      "metadata": {
        "cellView": "form",
        "id": "iWFGlyYSYsDM"
      },
      "execution_count": null,
      "outputs": []
    }
  ]
}