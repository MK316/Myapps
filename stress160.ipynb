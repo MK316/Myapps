{
  "nbformat": 4,
  "nbformat_minor": 0,
  "metadata": {
    "colab": {
      "private_outputs": true,
      "provenance": [],
      "authorship_tag": "ABX9TyN2//yihBEGx+OQDQGUFyn+",
      "include_colab_link": true
    },
    "kernelspec": {
      "name": "python3",
      "display_name": "Python 3"
    },
    "language_info": {
      "name": "python"
    }
  },
  "cells": [
    {
      "cell_type": "markdown",
      "metadata": {
        "id": "view-in-github",
        "colab_type": "text"
      },
      "source": [
        "<a href=\"https://colab.research.google.com/github/MK316/Myapps/blob/main/stress160.ipynb\" target=\"_parent\"><img src=\"https://colab.research.google.com/assets/colab-badge.svg\" alt=\"Open In Colab\"/></a>"
      ]
    },
    {
      "cell_type": "markdown",
      "source": [
        "# Chapter 7 Words with stress (F23)"
      ],
      "metadata": {
        "id": "zhqKIwu7w8Kn"
      }
    },
    {
      "cell_type": "markdown",
      "source": [
        "[Wordlist 160](https://raw.githubusercontent.com/MK316/Myapps/main/data/stress160.csv)"
      ],
      "metadata": {
        "id": "y6vJiTHDu5RH"
      }
    },
    {
      "cell_type": "code",
      "execution_count": null,
      "metadata": {
        "id": "s-mB6lyMyFr5"
      },
      "outputs": [],
      "source": [
        "%%capture\n",
        "!pip install gradio pandas gtts requests"
      ]
    },
    {
      "cell_type": "code",
      "source": [
        "#@markdown Gradio link\n",
        "import gradio as gr\n",
        "import pandas as pd\n",
        "import requests\n",
        "from gtts import gTTS\n",
        "from io import BytesIO\n",
        "\n",
        "# URL of the raw CSV file on GitHub\n",
        "csv_url = 'https://raw.githubusercontent.com/MK316/Myapps/main/data/stress160.csv'\n",
        "\n",
        "# Use requests to get the CSV file content from GitHub\n",
        "response = requests.get(csv_url)\n",
        "assert response.status_code == 200, 'Failed to download CSV file'\n",
        "\n",
        "# Load the CSV content into a DataFrame\n",
        "df = pd.read_csv(BytesIO(response.content))\n",
        "\n",
        "def generate_audio_by_id(word_id):\n",
        "    word = df.loc[df['ID'] == word_id, 'Words'].values[0]\n",
        "    return text_to_speech(word)\n",
        "\n",
        "def generate_audio_by_word(word):\n",
        "    if word in df['Words'].values:\n",
        "        audio_path = text_to_speech(word)\n",
        "        return audio_path, \"\"  # Return the path and an empty status message\n",
        "    else:\n",
        "        return None, \"Word not found in the list.\"  # Return None and a status message\n",
        "\n",
        "\n",
        "import os\n",
        "import tempfile\n",
        "\n",
        "def text_to_speech(text):\n",
        "    tts = gTTS(text=text, lang='en')\n",
        "    with tempfile.NamedTemporaryFile(delete=False, suffix='.mp3') as f:\n",
        "        tts.save(f.name)\n",
        "        return f.name  # Return the path to the saved file\n",
        "\n",
        "\n",
        "def search_and_generate_audio(search_by, query):\n",
        "    if search_by == 'ID':\n",
        "        try:\n",
        "            query = int(query)  # Convert ID to integer\n",
        "            audio_path = generate_audio_by_id(query)\n",
        "            return audio_path, \"\"\n",
        "        except ValueError:\n",
        "            return None, \"ID must be an integer.\"\n",
        "    elif search_by == 'Words':\n",
        "        audio_path, status = generate_audio_by_word(query)\n",
        "        return audio_path, status\n",
        "    else:\n",
        "        return None, \"Please select a valid search option.\"\n",
        "\n",
        "\n",
        "# Define the Gradio interface\n",
        "iface = gr.Interface(\n",
        "    fn=search_and_generate_audio,\n",
        "    inputs=[\n",
        "        gr.Radio(['ID', 'Words'], label=\"Search by:\"),\n",
        "        gr.Textbox(label=\"Enter ID or Word:\")\n",
        "    ],\n",
        "    outputs=[\n",
        "        gr.Audio(label=\"Audio of the word\"),\n",
        "        gr.Textbox(label=\"Status\")\n",
        "    ],\n",
        "    title=\"Word Audio Generator\"\n",
        ")\n",
        "\n",
        "# Launch the interface\n",
        "iface.launch(debug=True)\n"
      ],
      "metadata": {
        "cellView": "form",
        "id": "E00LZprLu-SZ"
      },
      "execution_count": null,
      "outputs": []
    }
  ]
}