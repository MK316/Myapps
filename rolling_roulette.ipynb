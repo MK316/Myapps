{
  "nbformat": 4,
  "nbformat_minor": 0,
  "metadata": {
    "colab": {
      "private_outputs": true,
      "provenance": [],
      "authorship_tag": "ABX9TyMeUrq/Ha56GZVkUwb4U7LE",
      "include_colab_link": true
    },
    "kernelspec": {
      "name": "python3",
      "display_name": "Python 3"
    },
    "language_info": {
      "name": "python"
    }
  },
  "cells": [
    {
      "cell_type": "markdown",
      "metadata": {
        "id": "view-in-github",
        "colab_type": "text"
      },
      "source": [
        "<a href=\"https://colab.research.google.com/github/MK316/Myapps/blob/main/rolling_roulette.ipynb\" target=\"_parent\"><img src=\"https://colab.research.google.com/assets/colab-badge.svg\" alt=\"Open In Colab\"/></a>"
      ]
    },
    {
      "cell_type": "code",
      "execution_count": null,
      "metadata": {
        "id": "-x1Hv_30BOkO"
      },
      "outputs": [],
      "source": [
        "import random\n",
        "import time"
      ]
    },
    {
      "cell_type": "code",
      "source": [
        "def roll_roulette():\n",
        "    wheel = [0, 32, 15, 19, 4, 21, 2, 25, 17, 34, 6, 27, 13, 36, 11, 30, 8, 23, 10, 5, 24, 16, 33, 1, 20, 14, 31, 9, 22, 18, 29, 7, 28, 12, 35, 3, 26]\n",
        "    result = random.choice(wheel)\n",
        "    return result\n"
      ],
      "metadata": {
        "id": "FrmDGm0EBQ5m"
      },
      "execution_count": null,
      "outputs": []
    },
    {
      "cell_type": "code",
      "source": [
        "def spin_roulette():\n",
        "    spins = random.randint(5, 15)\n",
        "    for _ in range(spins):\n",
        "        result = roll_roulette()\n",
        "        print(f\"Spinning... Result: {result}\")\n",
        "        time.sleep(0.5)  # Sleep for half a second to create the spinning effect\n",
        "    return result\n"
      ],
      "metadata": {
        "id": "TfIjtZunBSP9"
      },
      "execution_count": null,
      "outputs": []
    },
    {
      "cell_type": "code",
      "source": [
        "final_result = spin_roulette()\n",
        "print(f\"The ball landed on {final_result}!\")\n"
      ],
      "metadata": {
        "id": "xVXQ1f5DBUAI"
      },
      "execution_count": null,
      "outputs": []
    },
    {
      "cell_type": "code",
      "source": [
        "import random\n",
        "import time\n",
        "import matplotlib.pyplot as plt\n",
        "from IPython.display import display, clear_output\n",
        "\n",
        "# Define the numbers on the roulette wheel\n",
        "wheel = [0, 32, 15, 19, 4, 21, 2, 25, 17, 34, 6, 27, 13, 36, 11, 30, 8, 23, 10, 5, 24, 16, 33, 1, 20, 14, 31, 9, 22, 18, 29, 7, 28, 12, 35, 3, 26]\n",
        "\n",
        "# Function to simulate the rolling of the roulette wheel\n",
        "def roll_roulette():\n",
        "    return random.choice(wheel)\n",
        "\n",
        "# Function to display the rolling animation as an image\n",
        "def spin_roulette():\n",
        "    spins = random.randint(5, 15)\n",
        "    for _ in range(spins):\n",
        "        result = roll_roulette()\n",
        "        plt.clf()  # Clear the previous plot\n",
        "        plt.figure(figsize=(6, 6))\n",
        "        plt.pie([1] * 37, labels=[str(i) for i in wheel], startangle=90, counterclock=False)\n",
        "        plt.title(f\"Spinning... Result: {result}\")\n",
        "        display(plt.gcf())\n",
        "        clear_output(wait=True)\n",
        "        time.sleep(0.5)  # Sleep for half a second to create the spinning effect\n",
        "\n",
        "    return result\n",
        "\n",
        "# Run the game by calling the spin_roulette() function\n",
        "final_result = spin_roulette()\n",
        "plt.clf()  # Clear the final plot\n",
        "plt.figure(figsize=(6, 6))\n",
        "plt.pie([1] * 37, labels=[str(i) for i in wheel], startangle=90, counterclock=False)\n",
        "plt.title(f\"The ball landed on {final_result}!\")\n",
        "display(plt.gcf())\n"
      ],
      "metadata": {
        "id": "oXMGDo5yBeOa"
      },
      "execution_count": null,
      "outputs": []
    },
    {
      "cell_type": "code",
      "source": [
        "from IPython.display import HTML, display, clear_output\n",
        "import random\n",
        "import time\n",
        "\n",
        "# Define the numbers on the roulette wheel\n",
        "wheel = [0, 32, 15, 19, 4, 21, 2, 25, 17, 34, 6, 27, 13, 36, 11, 30, 8, 23, 10, 5, 24, 16, 33, 1, 20, 14, 31, 9, 22, 18, 29, 7, 28, 12, 35, 3, 26]\n",
        "\n",
        "# Function to simulate the rolling of the roulette wheel\n",
        "def roll_roulette():\n",
        "    return random.choice(wheel)\n",
        "\n",
        "# Function to display the rolling animation using HTML and JavaScript\n",
        "def spin_roulette():\n",
        "    spins = random.randint(5, 15)\n",
        "    result = None\n",
        "    for _ in range(spins):\n",
        "        result = roll_roulette()\n",
        "        clear_output(wait=True)\n",
        "        display(HTML(f'<h1 style=\"text-align:center\">Spinning... Result: {result}</h1>'))\n",
        "        time.sleep(0.5)  # Sleep for half a second to create the spinning effect\n",
        "\n",
        "    return result\n",
        "\n",
        "# Run the game by calling the spin_roulette() function\n",
        "final_result = spin_roulette()\n",
        "clear_output(wait=True)\n",
        "display(HTML(f'<h1 style=\"text-align:center\">The ball landed on {final_result}!</h1>'))\n"
      ],
      "metadata": {
        "id": "PpmITX55B5qU"
      },
      "execution_count": null,
      "outputs": []
    }
  ]
}