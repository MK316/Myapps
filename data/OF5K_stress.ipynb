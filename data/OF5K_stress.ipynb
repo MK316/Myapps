{
  "nbformat": 4,
  "nbformat_minor": 0,
  "metadata": {
    "colab": {
      "private_outputs": true,
      "provenance": [],
      "authorship_tag": "ABX9TyMHli1AIsw1IyA+51r8Ydvm",
      "include_colab_link": true
    },
    "kernelspec": {
      "name": "python3",
      "display_name": "Python 3"
    },
    "language_info": {
      "name": "python"
    }
  },
  "cells": [
    {
      "cell_type": "markdown",
      "metadata": {
        "id": "view-in-github",
        "colab_type": "text"
      },
      "source": [
        "<a href=\"https://colab.research.google.com/github/MK316/Myapps/blob/main/data/OF5K_stress.ipynb\" target=\"_parent\"><img src=\"https://colab.research.google.com/assets/colab-badge.svg\" alt=\"Open In Colab\"/></a>"
      ]
    },
    {
      "cell_type": "markdown",
      "source": [
        "# Stress positions of Oxford Learners' Vocabulary 5K\n",
        "\n",
        "+ OF5K adds 2K to the previous OF3K.\n",
        "+ CERF levels are B2 and C1 (2000 words)\n",
        "+ Use CMU dictionary to find information on syllable counting and stress position.\n",
        "+ [OF5K data set](\"https://raw.githubusercontent.com/MK316/Spring2024/main/data/OF5K.csv\")\n"
      ],
      "metadata": {
        "id": "kkIrsTOr01ra"
      }
    },
    {
      "cell_type": "code",
      "source": [
        "!pip install nltk pandas"
      ],
      "metadata": {
        "id": "1nRWVV1ata-X"
      },
      "execution_count": null,
      "outputs": []
    },
    {
      "cell_type": "code",
      "source": [
        "url = \"https://raw.githubusercontent.com/MK316/Spring2024/main/data/OF5K.csv\"\n",
        "df = pd.read_csv(url, encoding=\"utf-8\")\n",
        "df.head()"
      ],
      "metadata": {
        "id": "Y_HLnAiRuPZB"
      },
      "execution_count": null,
      "outputs": []
    },
    {
      "cell_type": "markdown",
      "source": [
        "# Using CMU dictionary, get the stress information (position) and add a column to the data"
      ],
      "metadata": {
        "id": "fJg0bMmS0b7P"
      }
    },
    {
      "cell_type": "code",
      "execution_count": null,
      "metadata": {
        "id": "H92wNzErtVa8"
      },
      "outputs": [],
      "source": [
        "import pandas as pd\n",
        "import nltk\n",
        "\n",
        "# Ensure the CMU dictionary is available\n",
        "nltk.download('cmudict')\n",
        "from nltk.corpus import cmudict\n",
        "\n",
        "# Example dataframe\n",
        "url = \"https://raw.githubusercontent.com/MK316/Spring2024/main/data/OF5K.csv\"\n",
        "df = pd.read_csv(url, encoding=\"utf-8\")\n",
        "\n",
        "def stress_position(word):\n",
        "    cmu_dict = cmudict.dict()\n",
        "    stress_positions = {'Final': -1, 'Penultimate': -2, 'Antepenultimate': -3, 'Initial': 1}\n",
        "    try:\n",
        "        phonemes = cmu_dict[word.lower()][0]  # Take the first pronunciation variant if multiple\n",
        "        stress_indices = [i for i, ph in enumerate(phonemes) if '1' in ph]\n",
        "\n",
        "        if not stress_indices:\n",
        "            return 'No stress information'\n",
        "\n",
        "        # Get the position of the primary stress in relation to the end of the word\n",
        "        stress_pos = stress_indices[0] - len(phonemes)\n",
        "\n",
        "        for key, value in stress_positions.items():\n",
        "            if stress_pos == value:\n",
        "                return key\n",
        "        if len(phonemes) > 4 and stress_pos > stress_positions['Initial']:\n",
        "            return 'Initial'\n",
        "    except KeyError:\n",
        "        return 'Word not found in CMU dictionary'\n",
        "\n",
        "    return 'Other'\n",
        "\n",
        "# Apply the function to the dataframe\n",
        "df['STRESS'] = df['WORD'].apply(stress_position)\n",
        "\n",
        "# Display the updated dataframe\n",
        "print(df)\n"
      ]
    },
    {
      "cell_type": "code",
      "source": [
        "df.to_csv('OF5K_stressinfo.csv',encoding='utf-8',index=False)"
      ],
      "metadata": {
        "id": "s2kYGXXzujTU"
      },
      "execution_count": null,
      "outputs": []
    },
    {
      "cell_type": "markdown",
      "source": [
        "# Add number of syllables to the data"
      ],
      "metadata": {
        "id": "eholobXG5OcJ"
      }
    },
    {
      "cell_type": "code",
      "source": [
        "def count_syllables(word):\n",
        "    cmu_dict = cmudict.dict()\n",
        "    try:\n",
        "        # Taking the first pronunciation variant if there are multiple\n",
        "        phonemes = cmu_dict[word.lower()][0]\n",
        "        # Counting syllables as digits in phonemes\n",
        "        syllables = sum(ph.endswith(('0', '1', '2')) for ph in phonemes)\n",
        "        return syllables\n",
        "    except KeyError:\n",
        "        # Returning NaN or some default value if word is not found\n",
        "        return float('nan')\n"
      ],
      "metadata": {
        "id": "jeSB0BiS5SYm"
      },
      "execution_count": null,
      "outputs": []
    },
    {
      "cell_type": "code",
      "source": [
        "count_syllables(\"certainty\")"
      ],
      "metadata": {
        "id": "O8DC20Vw5Zf2"
      },
      "execution_count": null,
      "outputs": []
    },
    {
      "cell_type": "markdown",
      "source": [
        "Upload file: OF5K_stressinfo.csv"
      ],
      "metadata": {
        "id": "Kvl3rAmw5yML"
      }
    },
    {
      "cell_type": "code",
      "source": [
        "# Install required packages (uncomment if needed)\n",
        "# !pip install nltk pandas\n",
        "\n",
        "import pandas as pd\n",
        "import nltk\n",
        "\n",
        "# Ensure the CMU dictionary is available\n",
        "nltk.download('cmudict')\n",
        "from nltk.corpus import cmudict\n",
        "\n",
        "# Example dataframe\n",
        "df = pd.read_csv(\"/content/OF5K_stressinfo.csv\", encoding = \"utf-8\")\n",
        "# df = pd.DataFrame(data)\n",
        "\n",
        "def count_syllables(word):\n",
        "    cmu_dict = cmudict.dict()\n",
        "    try:\n",
        "        # Taking the first pronunciation variant if there are multiple\n",
        "        phonemes = cmu_dict[word.lower()][0]\n",
        "        # Counting syllables as digits in phonemes\n",
        "        syllables = sum(ph.endswith(('0', '1', '2')) for ph in phonemes)\n",
        "        return syllables\n",
        "    except KeyError:\n",
        "        # Returning NaN or some default value if word is not found\n",
        "        return float('nan')\n",
        "\n",
        "# Apply the function to the dataframe\n",
        "df['Nsyll'] = df['WORD'].apply(count_syllables)\n",
        "\n",
        "# Display the updated dataframe\n",
        "df.head()\n"
      ],
      "metadata": {
        "id": "Gv1p0BML5d8f"
      },
      "execution_count": null,
      "outputs": []
    },
    {
      "cell_type": "code",
      "source": [
        "df.to_csv(\"OF5K_nsyll.csv\",encoding=\"utf-8\", index=False)"
      ],
      "metadata": {
        "id": "g1DmK2uV6QZi"
      },
      "execution_count": null,
      "outputs": []
    }
  ]
}