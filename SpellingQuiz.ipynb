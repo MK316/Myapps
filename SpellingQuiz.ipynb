{
  "nbformat": 4,
  "nbformat_minor": 0,
  "metadata": {
    "colab": {
      "private_outputs": true,
      "provenance": [],
      "authorship_tag": "ABX9TyNac/hRSYcMb/7gbVyhPEjQ",
      "include_colab_link": true
    },
    "kernelspec": {
      "name": "python3",
      "display_name": "Python 3"
    },
    "language_info": {
      "name": "python"
    }
  },
  "cells": [
    {
      "cell_type": "markdown",
      "metadata": {
        "id": "view-in-github",
        "colab_type": "text"
      },
      "source": [
        "<a href=\"https://colab.research.google.com/github/MK316/Myapps/blob/main/SpellingQuiz.ipynb\" target=\"_parent\"><img src=\"https://colab.research.google.com/assets/colab-badge.svg\" alt=\"Open In Colab\"/></a>"
      ]
    },
    {
      "cell_type": "markdown",
      "source": [
        "# Spelling Quiz"
      ],
      "metadata": {
        "id": "i7c43azxbdQK"
      }
    },
    {
      "cell_type": "code",
      "execution_count": null,
      "metadata": {
        "id": "pyP2AhATbcgZ"
      },
      "outputs": [],
      "source": [
        "!pip install gradio pandas gtts"
      ]
    },
    {
      "cell_type": "markdown",
      "source": [
        "## Upload a csv file with at least two columns: Levels, Words\n",
        "\n",
        "Levels should have Level1 or Level2\n",
        "[sample file](https://raw.githubusercontent.com/MK316/Myapps/main/data/wordlist.csv)"
      ],
      "metadata": {
        "id": "Ft4MPudre-x8"
      }
    },
    {
      "cell_type": "code",
      "source": [
        "import pandas as pd\n",
        "\n",
        "# Make sure to replace the URL below with the URL of your raw CSV file on GitHub\n",
        "url = 'https://raw.githubusercontent.com/MK316/Myapps/main/data/wordlist.csv'\n",
        "df = pd.read_csv(url)\n"
      ],
      "metadata": {
        "id": "NjBuoqtiftd2"
      },
      "execution_count": null,
      "outputs": []
    },
    {
      "cell_type": "markdown",
      "source": [
        "## Or you can upload your file (from your computer)"
      ],
      "metadata": {
        "id": "Y0JFnFU0gMcA"
      }
    },
    {
      "cell_type": "code",
      "source": [
        "from google.colab import files\n",
        "\n",
        "uploaded = files.upload()\n",
        "\n",
        "for filename in uploaded.keys():\n",
        "  print('User uploaded file \"{name}\" with length {length} bytes'.format(\n",
        "      name=filename, length=len(uploaded[filename])))\n"
      ],
      "metadata": {
        "id": "MSidAIwVfQL8"
      },
      "execution_count": null,
      "outputs": []
    },
    {
      "cell_type": "markdown",
      "source": [
        "## Below is an app using Gradio"
      ],
      "metadata": {
        "id": "7Nklv89YeyxT"
      }
    },
    {
      "cell_type": "code",
      "source": [
        "#@markdown SpellingQuiz\n",
        "import gradio as gr\n",
        "import pandas as pd\n",
        "import random\n",
        "from gtts import gTTS\n",
        "import os\n",
        "\n",
        "# Load the DataFrame globally\n",
        "df = pd.read_csv('/content/wordlist.csv')\n",
        "\n",
        "# Function to generate audio from a word\n",
        "def generate_audio(word):\n",
        "    tts = gTTS(word, lang='en')\n",
        "    audio_file = '/tmp/word.mp3'\n",
        "    tts.save(audio_file)\n",
        "    return audio_file\n",
        "\n",
        "# Function to get a random word from a level that hasn't been used yet\n",
        "def get_random_word(level, used_words):\n",
        "    level_df = df[(df['Levels'] == level) & (~df['Words'].isin(used_words))]\n",
        "    if level_df.empty:\n",
        "        return None, \"Game over!\"\n",
        "    word = level_df.sample().iloc[0]['Words']\n",
        "    return word, \"\"\n",
        "\n",
        "# Function to start the game\n",
        "def start_game(level):\n",
        "    word, message = get_random_word(level, [])\n",
        "    if message:\n",
        "        return None, message, \"\", {'score': 0, 'total': 0, 'level': level, 'used_words': []}\n",
        "    audio_file = generate_audio(word)\n",
        "    game_state = {'score': 0, 'total': len(df[df['Levels'] == level]), 'level': level, 'used_words': [word]}\n",
        "    return audio_file, \"\", word, game_state\n",
        "\n",
        "# Function to process the user's spelling input\n",
        "def process_spelling(user_input, game_state):\n",
        "    current_word = game_state['used_words'][-1]\n",
        "    if user_input.strip().lower() == current_word.lower():\n",
        "        game_state['score'] += 1\n",
        "        result = \"Correct!\"\n",
        "    else:\n",
        "        result = f\"Incorrect. The correct spelling was: {current_word}\"\n",
        "\n",
        "    # Get the next word that hasn't been used yet\n",
        "    word, message = get_random_word(game_state['level'], game_state['used_words'])\n",
        "    if message:\n",
        "        final_result = f\"Game over! Your score is {game_state['score']} out of {game_state['total']}\"\n",
        "        return None, final_result, \"\", {}\n",
        "\n",
        "    # Generate audio for the next word and add it to the used words list\n",
        "    audio_file = generate_audio(word)\n",
        "    game_state['used_words'].append(word)\n",
        "    return audio_file, result, word, game_state\n",
        "\n",
        "# Define the Gradio Blocks\n",
        "with gr.Blocks() as demo:\n",
        "    with gr.Row():\n",
        "        level = gr.Radio(choices=['Level1', 'Level2'], label=\"Select Level\")\n",
        "        start_btn = gr.Button(\"Start\")\n",
        "    with gr.Row():\n",
        "        audio = gr.Audio(label=\"Listen to the Word\")\n",
        "        user_input = gr.Textbox(label=\"Type the spelling here\")\n",
        "        submit_btn = gr.Button(\"Submit\")\n",
        "    result = gr.Textbox()\n",
        "    current_word = gr.Textbox(visible=False)\n",
        "    game_state = gr.State()\n",
        "\n",
        "    start_btn.click(start_game, inputs=level, outputs=[audio, result, current_word, game_state])\n",
        "    submit_btn.click(process_spelling, inputs=[user_input, game_state], outputs=[audio, result, current_word, game_state])\n",
        "\n",
        "demo.launch()\n"
      ],
      "metadata": {
        "cellView": "form",
        "id": "-ZuilWzmex1j"
      },
      "execution_count": null,
      "outputs": []
    }
  ]
}