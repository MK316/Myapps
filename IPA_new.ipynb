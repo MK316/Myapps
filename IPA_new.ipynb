{
  "nbformat": 4,
  "nbformat_minor": 0,
  "metadata": {
    "colab": {
      "private_outputs": true,
      "provenance": [],
      "authorship_tag": "ABX9TyMOj/I5aFgCjNJNxSnnibv7",
      "include_colab_link": true
    },
    "kernelspec": {
      "name": "python3",
      "display_name": "Python 3"
    },
    "language_info": {
      "name": "python"
    }
  },
  "cells": [
    {
      "cell_type": "markdown",
      "metadata": {
        "id": "view-in-github",
        "colab_type": "text"
      },
      "source": [
        "<a href=\"https://colab.research.google.com/github/MK316/Myapps/blob/main/IPA_new.ipynb\" target=\"_parent\"><img src=\"https://colab.research.google.com/assets/colab-badge.svg\" alt=\"Open In Colab\"/></a>"
      ]
    },
    {
      "cell_type": "markdown",
      "source": [
        "# IPA practice (New version)"
      ],
      "metadata": {
        "id": "kSI7PCtHtZVr"
      }
    },
    {
      "cell_type": "markdown",
      "source": [
        "## IPA data in dictionary forms"
      ],
      "metadata": {
        "id": "ey-r1Bdfo6Cj"
      }
    },
    {
      "cell_type": "code",
      "source": [
        "import random\n",
        "\n",
        "ipa_data = {\n",
        "    'p': {'Voicing': 'voiceless', 'Place': 'bilabial', 'Manner': 'stop','Oro-nasal': '(oral)','Centrality':'(central)'},\n",
        "    'b': {'Voicing': 'voiced', 'Place': 'bilabial', 'Manner': 'stop','Oro-nasal': '(oral)','Centrality':'(central)'},\n",
        "    't': {'Voicing': 'voiceless', 'Place': 'alveolar', 'Manner': 'stop','Oro-nasal': '(oral)','Centrality':'(central)'},\n",
        "    'd': {'Voicing': 'voiced', 'Place': 'alveolar', 'Manner': 'stop','Oro-nasal': '(oral)','Centrality':'(central)'},\n",
        "    'k': {'Voicing': 'voiceless', 'Place': 'velar', 'Manner': 'stop','Oro-nasal': '(oral)','Centrality':'(central)'},\n",
        "    'g': {'Voicing': 'voiced', 'Place': 'velar', 'Manner': 'stop','Oro-nasal': '(oral)','Centrality':'(central)'},\n",
        "    'f': {'Voicing': 'voiceless', 'Place': 'labio-dental', 'Manner': 'fricative','Oro-nasal': '(oral)','Centrality':'(central)'},\n",
        "    'v': {'Voicing': 'voiced', 'Place': 'labio-dental', 'Manner': 'fricative','Oro-nasal': '(oral)','Centrality':'(central)'},\n",
        "    'θ': {'Voicing': 'voiceless', 'Place': 'dental', 'Manner': 'fricative','Oro-nasal': '(oral)','Centrality':'(central)'},\n",
        "    'ð': {'Voicing': 'voiced', 'Place': 'dental', 'Manner': 'fricative','Oro-nasal': '(oral)','Centrality':'(central)'},\n",
        "    's': {'Voicing': 'voiceless', 'Place': 'alveolar', 'Manner': 'fricative','Oro-nasal': '(oral)','Centrality':'(central)'},\n",
        "    'z': {'Voicing': 'voiced', 'Place': 'alveolar', 'Manner': 'fricative','Oro-nasal': '(oral)','Centrality':'(central)'},\n",
        "    'ʃ': {'Voicing': 'voiceless', 'Place': 'palato-alveolar', 'Manner': 'fricative','Oro-nasal': '(oral)','Centrality':'(central)'},\n",
        "    'ʒ': {'Voicing': 'voiced', 'Place': 'palato-alveolar', 'Manner': 'fricative','Oro-nasal': '(oral)','Centrality':'(central)'},\n",
        "    'tʃ': {'Voicing': 'voiceless', 'Place': 'palato-alveolar', 'Manner': 'affricate','Oro-nasal': '(oral)','Centrality':'(central)'},\n",
        "    'dʒ': {'Voicing': 'voiced', 'Place': 'palato-alveolar', 'Manner': 'affricate','Oro-nasal': '(oral)','Centrality':'(central)'},\n",
        "    'h': {'Voicing': 'voiceless', 'Place': 'glottal', 'Manner': 'fricative','Oro-nasal': '(oral)','Centrality':'(central)'},\n",
        "    'm': {'Voicing': 'voiced', 'Place': 'bilabial', 'Manner': 'stop','Oro-nasal': 'nasal','Centrality':'(not applicable)'},\n",
        "    'n': {'Voicing': 'voiced', 'Place': 'alveolar', 'Manner': 'stop','Oro-nasal': 'nasal','Centrality':'(not applicable)'},\n",
        "    'ŋ': {'Voicing': 'voiced', 'Place': 'velar', 'Manner': 'stop','Oro-nasal': 'nasal','Centrality':'(not applicable)'},\n",
        "    'ɹ': {'Voicing': 'voiced', 'Place': 'alveolar', 'Manner': 'approximant','Oro-nasal': '(oral)','Centrality':'(central)'},\n",
        "    'l': {'Voicing': 'voiced', 'Place': 'alveolar', 'Manner': 'approximant','Oro-nasal': '(oral)','Centrality':'lateral'},\n",
        "    'j': {'Voicing': 'voiced', 'Place': 'palatal', 'Manner': 'approximant','Oro-nasal': '(oral)','Centrality':'(central)'},\n",
        "    'w': {'Voicing': 'voiced', 'Place': 'labio-velar', 'Manner': 'approximant','Oro-nasal': '(oral)','Centrality':'(central)'}\n",
        "}\n",
        "\n",
        "ipa_list = list(ipa_data.keys())\n",
        "\n",
        "# pick a symbol\n",
        "symbolpick = random.choice(ipa_list)\n",
        "\n",
        "# phonetic description\n",
        "symbol = symbolpick\n",
        "voice = ipa_data[symbol]['Voicing']\n",
        "place = ipa_data[symbol]['Place']\n",
        "manner = ipa_data[symbol]['Manner']\n",
        "centrality = ipa_data[symbol]['Centrality']\n",
        "oronasal = ipa_data[symbol]['Oro-nasal']\n",
        "\n",
        "print(f\" Symbol: / {symbol} /\\n\", f\"Description: {voice}, {place}, {centrality}, {oronasal}, {manner}\")"
      ],
      "metadata": {
        "id": "4o3TmipUINAr"
      },
      "execution_count": null,
      "outputs": []
    },
    {
      "cell_type": "markdown",
      "source": [
        "Using function"
      ],
      "metadata": {
        "id": "LYC0oGsoKPQd"
      }
    },
    {
      "cell_type": "markdown",
      "source": [
        "# Gradio"
      ],
      "metadata": {
        "id": "gJ_c686SSSdp"
      }
    },
    {
      "cell_type": "code",
      "source": [
        "%%capture\n",
        "!pip install gradio"
      ],
      "metadata": {
        "id": "mgNj5APESTkM"
      },
      "execution_count": null,
      "outputs": []
    },
    {
      "cell_type": "markdown",
      "source": [
        "Trial 2"
      ],
      "metadata": {
        "id": "VqzRba8WUu3k"
      }
    },
    {
      "cell_type": "markdown",
      "source": [
        "# Quit button"
      ],
      "metadata": {
        "id": "pljvBiy_qeIb"
      }
    },
    {
      "cell_type": "markdown",
      "source": [
        "# This app works well :-)"
      ],
      "metadata": {
        "id": "l-dc7tO10xSl"
      }
    },
    {
      "cell_type": "code",
      "source": [
        "import gradio as gr\n",
        "import random\n",
        "\n",
        "# Define your IPA data with additional attributes\n",
        "ipa_data = {\n",
        "    'p': {'Voicing': 'voiceless', 'Place': 'bilabial', 'Manner': 'stop','Oro-nasal': '(oral)','Centrality':'(central)'},\n",
        "    'b': {'Voicing': 'voiced', 'Place': 'bilabial', 'Manner': 'stop','Oro-nasal': '(oral)','Centrality':'(central)'},\n",
        "    't': {'Voicing': 'voiceless', 'Place': 'alveolar', 'Manner': 'stop','Oro-nasal': '(oral)','Centrality':'(central)'},\n",
        "    'd': {'Voicing': 'voiced', 'Place': 'alveolar', 'Manner': 'stop','Oro-nasal': '(oral)','Centrality':'(central)'},\n",
        "    'k': {'Voicing': 'voiceless', 'Place': 'velar', 'Manner': 'stop','Oro-nasal': '(oral)','Centrality':'(central)'},\n",
        "    'g': {'Voicing': 'voiced', 'Place': 'velar', 'Manner': 'stop','Oro-nasal': '(oral)','Centrality':'(central)'},\n",
        "    'f': {'Voicing': 'voiceless', 'Place': 'labio-dental', 'Manner': 'fricative','Oro-nasal': '(oral)','Centrality':'(central)'},\n",
        "    'v': {'Voicing': 'voiced', 'Place': 'labio-dental', 'Manner': 'fricative','Oro-nasal': '(oral)','Centrality':'(central)'},\n",
        "    'θ': {'Voicing': 'voiceless', 'Place': 'dental', 'Manner': 'fricative','Oro-nasal': '(oral)','Centrality':'(central)'},\n",
        "    'ð': {'Voicing': 'voiced', 'Place': 'dental', 'Manner': 'fricative','Oro-nasal': '(oral)','Centrality':'(central)'},\n",
        "    's': {'Voicing': 'voiceless', 'Place': 'alveolar', 'Manner': 'fricative','Oro-nasal': '(oral)','Centrality':'(central)'},\n",
        "    'z': {'Voicing': 'voiced', 'Place': 'alveolar', 'Manner': 'fricative','Oro-nasal': '(oral)','Centrality':'(central)'},\n",
        "    'ʃ': {'Voicing': 'voiceless', 'Place': 'palato-alveolar', 'Manner': 'fricative','Oro-nasal': '(oral)','Centrality':'(central)'},\n",
        "    'ʒ': {'Voicing': 'voiced', 'Place': 'palato-alveolar', 'Manner': 'fricative','Oro-nasal': '(oral)','Centrality':'(central)'},\n",
        "    'tʃ': {'Voicing': 'voiceless', 'Place': 'palato-alveolar', 'Manner': 'affricate','Oro-nasal': '(oral)','Centrality':'(central)'},\n",
        "    'dʒ': {'Voicing': 'voiced', 'Place': 'palato-alveolar', 'Manner': 'affricate','Oro-nasal': '(oral)','Centrality':'(central)'},\n",
        "    'h': {'Voicing': 'voiceless', 'Place': 'glottal', 'Manner': 'fricative','Oro-nasal': '(oral)','Centrality':'(central)'},\n",
        "    'm': {'Voicing': 'voiced', 'Place': 'bilabial', 'Manner': 'stop','Oro-nasal': 'nasal','Centrality':'(not applicable)'},\n",
        "    'n': {'Voicing': 'voiced', 'Place': 'alveolar', 'Manner': 'stop','Oro-nasal': 'nasal','Centrality':'(not applicable)'},\n",
        "    'ŋ': {'Voicing': 'voiced', 'Place': 'velar', 'Manner': 'stop','Oro-nasal': 'nasal','Centrality':'(not applicable)'},\n",
        "    'ɹ': {'Voicing': 'voiced', 'Place': 'alveolar', 'Manner': 'approximant','Oro-nasal': '(oral)','Centrality':'(central)'},\n",
        "    'l': {'Voicing': 'voiced', 'Place': 'alveolar', 'Manner': 'approximant','Oro-nasal': '(oral)','Centrality':'lateral'},\n",
        "    'j': {'Voicing': 'voiced', 'Place': 'palatal', 'Manner': 'approximant','Oro-nasal': '(oral)','Centrality':'(central)'},\n",
        "    'w': {'Voicing': 'voiced', 'Place': 'labio-velar', 'Manner': 'approximant','Oro-nasal': '(oral)','Centrality':'(central)'}\n",
        "}\n",
        "\n",
        "def select_random_symbol():\n",
        "    \"\"\" Select a random IPA symbol \"\"\"\n",
        "    symbol = random.choice(list(ipa_data.keys()))\n",
        "    return symbol, ipa_data[symbol]\n",
        "\n",
        "def validate_selections(ipa_symbol, user_voicing, user_place, user_manner, user_oronasal, user_centrality, correct_count, attempts):\n",
        "    \"\"\" Check user's selections against the actual IPA symbol properties \"\"\"\n",
        "    correct_data = ipa_data[ipa_symbol]\n",
        "    correct = (correct_data['Voicing'] == user_voicing and\n",
        "               correct_data['Place'] == user_place and\n",
        "               correct_data['Manner'] == user_manner and\n",
        "               correct_data['Oro-nasal'] == user_oronasal and\n",
        "               correct_data['Centrality'] == user_centrality)\n",
        "    attempts += 1\n",
        "    if correct:\n",
        "        correct_count += 1\n",
        "        return \"Correct!\", correct_count, attempts\n",
        "    else:\n",
        "        return \"Incorrect! Correct values are: \\n- Voicing: {}, \\n- Place: {}, \\n- Manner: {}, \\n- Oro-nasal: {}, \\n- Centrality: {}\"\\\n",
        "            .format(correct_data['Voicing'], correct_data['Place'], correct_data['Manner'], correct_data['Oro-nasal'], correct_data['Centrality']), correct_count, attempts\n",
        "\n",
        "def setup_interface():\n",
        "    with gr.Blocks() as app:\n",
        "        gr.Markdown(\"### IPA Practice App\")\n",
        "\n",
        "        new_symbol_button = gr.Button(\"Display a New Symbol\")\n",
        "        symbol_display = gr.Textbox(label=\"IPA Symbol\", interactive=False)\n",
        "\n",
        "        voicing_radio = gr.Radio(label=\"Voicing\", choices=['voiceless', 'voiced'])\n",
        "        place_radio = gr.Radio(label=\"Place\", choices=['bilabial', 'labio-dental', 'labio-velar', 'dental', 'alveolar', 'palato-alveolar', 'palatal', 'velar', 'glottal'])\n",
        "        manner_radio = gr.Radio(label=\"Manner\", choices=['stop', 'fricative', 'affricate', 'approximant'])\n",
        "        oronasal_radio = gr.Radio(label=\"Oro-nasal\", choices=['(oral)', 'nasal'])\n",
        "        centrality_radio = gr.Radio(label=\"Centrality\", choices=['(central)', 'lateral', '(not applicable)'])\n",
        "\n",
        "        submit_button = gr.Button(\"Submit\")\n",
        "        result_display = gr.Textbox(label=\"Result\", interactive=False)\n",
        "        correct_count = gr.State(0)\n",
        "        attempts = gr.State(0)\n",
        "\n",
        "        quit_button = gr.Button(\"See the total score\")\n",
        "        score_display = gr.Textbox(label=\"Score\", interactive=False)\n",
        "\n",
        "        def update_display():\n",
        "            symbol, _ = select_random_symbol()\n",
        "            symbol_display.value = symbol\n",
        "            return symbol\n",
        "\n",
        "        def submit_results(ipa_symbol, voicing, place, manner, oronasal, centrality, correct_count, attempts):\n",
        "            result, updated_correct_count, updated_attempts = validate_selections(ipa_symbol, voicing, place, manner, oronasal, centrality, correct_count, attempts)\n",
        "            return result, updated_correct_count, updated_attempts\n",
        "\n",
        "        def quit_session(correct_count, attempts):\n",
        "            final_score = f\"Final Score: {correct_count}/{attempts}\"\n",
        "            return final_score\n",
        "\n",
        "        new_symbol_button.click(\n",
        "            fn=update_display,\n",
        "            inputs=[],\n",
        "            outputs=[symbol_display]\n",
        "        )\n",
        "\n",
        "        submit_button.click(\n",
        "            fn=submit_results,\n",
        "            inputs=[symbol_display, voicing_radio, place_radio, manner_radio, oronasal_radio, centrality_radio, correct_count, attempts],\n",
        "            outputs=[result_display, correct_count, attempts]\n",
        "        )\n",
        "\n",
        "        quit_button.click(\n",
        "            fn=quit_session,\n",
        "            inputs=[correct_count, attempts],\n",
        "            outputs=[score_display]\n",
        "        )\n",
        "\n",
        "        gr.Row(new_symbol_button, symbol_display)\n",
        "        gr.Row(submit_button, quit_button)\n",
        "        gr.Row(result_display, score_display)\n",
        "\n",
        "    return app\n",
        "\n",
        "app = setup_interface()\n",
        "app.launch(debug=True)\n"
      ],
      "metadata": {
        "id": "E2tUYQnftwS8"
      },
      "execution_count": null,
      "outputs": []
    },
    {
      "cell_type": "markdown",
      "source": [
        "New version"
      ],
      "metadata": {
        "id": "sHyyhKocvkJj"
      }
    }
  ]
}