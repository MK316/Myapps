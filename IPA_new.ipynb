{
  "nbformat": 4,
  "nbformat_minor": 0,
  "metadata": {
    "colab": {
      "private_outputs": true,
      "provenance": [],
      "authorship_tag": "ABX9TyMzWQ4wvgbfSW63CTYPTWJw",
      "include_colab_link": true
    },
    "kernelspec": {
      "name": "python3",
      "display_name": "Python 3"
    },
    "language_info": {
      "name": "python"
    }
  },
  "cells": [
    {
      "cell_type": "markdown",
      "metadata": {
        "id": "view-in-github",
        "colab_type": "text"
      },
      "source": [
        "<a href=\"https://colab.research.google.com/github/MK316/Myapps/blob/main/IPA_new.ipynb\" target=\"_parent\"><img src=\"https://colab.research.google.com/assets/colab-badge.svg\" alt=\"Open In Colab\"/></a>"
      ]
    },
    {
      "cell_type": "markdown",
      "source": [
        "# IPA practice (New version)"
      ],
      "metadata": {
        "id": "kSI7PCtHtZVr"
      }
    },
    {
      "cell_type": "markdown",
      "source": [
        "## IPA data in dictionary forms"
      ],
      "metadata": {
        "id": "ey-r1Bdfo6Cj"
      }
    },
    {
      "cell_type": "code",
      "source": [
        "ipa_data = {\n",
        "    'p': {'Voicing': 'voiceless', 'Place': 'bilabial', 'Manner': 'stop','Oro-nasal': '(oral)','Centrality':'(central)'},\n",
        "    'b': {'Voicing': 'voiced', 'Place': 'bilabial', 'Manner': 'stop','Oro-nasal': '(oral)','Centrality':'(central)'},\n",
        "    't': {'Voicing': 'voiceless', 'Place': 'alveolar', 'Manner': 'stop','Oro-nasal': '(oral)','Centrality':'(central)'},\n",
        "    'd': {'Voicing': 'voiced', 'Place': 'alveolar', 'Manner': 'stop','Oro-nasal': '(oral)','Centrality':'(central)'},\n",
        "    'k': {'Voicing': 'voiceless', 'Place': 'velar', 'Manner': 'stop','Oro-nasal': '(oral)','Centrality':'(central)'},\n",
        "    'g': {'Voicing': 'voiced', 'Place': 'velar', 'Manner': 'stop','Oro-nasal': '(oral)','Centrality':'(central)'},\n",
        "    'f': {'Voicing': 'voiceless', 'Place': 'labio-dental', 'Manner': 'fricative','Oro-nasal': '(oral)','Centrality':'(central)'},\n",
        "    'v': {'Voicing': 'voiced', 'Place': 'labio-dental', 'Manner': 'fricative','Oro-nasal': '(oral)','Centrality':'(central)'},\n",
        "    'θ': {'Voicing': 'voiceless', 'Place': 'dental', 'Manner': 'fricative','Oro-nasal': '(oral)','Centrality':'(central)'},\n",
        "    'ð': {'Voicing': 'voiced', 'Place': 'dental', 'Manner': 'fricative','Oro-nasal': '(oral)','Centrality':'(central)'},\n",
        "    's': {'Voicing': 'voiceless', 'Place': 'alveolar', 'Manner': 'fricative','Oro-nasal': '(oral)','Centrality':'(central)'},\n",
        "    'z': {'Voicing': 'voiced', 'Place': 'alveolar', 'Manner': 'fricative','Oro-nasal': '(oral)','Centrality':'(central)'},\n",
        "    'ʃ': {'Voicing': 'voiceless', 'Place': 'palato-alveolar', 'Manner': 'fricative','Oro-nasal': '(oral)','Centrality':'(central)'},\n",
        "    'ʒ': {'Voicing': 'voiced', 'Place': 'palato-alveolar', 'Manner': 'fricative','Oro-nasal': '(oral)','Centrality':'(central)'},\n",
        "    'tʃ': {'Voicing': 'voiceless', 'Place': 'palato-alveolar', 'Manner': 'affricate','Oro-nasal': '(oral)','Centrality':'(central)'},\n",
        "    'dʒ': {'Voicing': 'voiced', 'Place': 'palato-alveolar', 'Manner': 'affricate','Oro-nasal': '(oral)','Centrality':'(central)'},\n",
        "    'h': {'Voicing': 'voiceless', 'Place': 'glottal', 'Manner': 'fricative','Oro-nasal': '(oral)','Centrality':'(central)'},\n",
        "    'm': {'Voicing': 'voiced', 'Place': 'bilabial', 'Manner': 'stop','Oro-nasal': 'nasal','Centrality':'(not applicable)'},\n",
        "    'n': {'Voicing': 'voiced', 'Place': 'alveolar', 'Manner': 'stop','Oro-nasal': 'nasal','Centrality':'(not applicable)'},\n",
        "    'ŋ': {'Voicing': 'voiced', 'Place': 'velar', 'Manner': 'stop','Oro-nasal': 'nasal','Centrality':'(not applicable)'},\n",
        "    'ɹ': {'Voicing': 'voiced', 'Place': 'alveolar', 'Manner': 'approximant','Oro-nasal': '(oral)','Centrality':'(central)'},\n",
        "    'l': {'Voicing': 'voiced', 'Place': 'alveolar', 'Manner': 'lateral approximant','Oro-nasal': '(oral)','Centrality':'lateral'},\n",
        "    'j': {'Voicing': 'voiced', 'Place': 'palatal', 'Manner': 'approximant','Oro-nasal': '(oral)','Centrality':'(central)'},\n",
        "    'w': {'Voicing': 'voiced', 'Place': 'labio-velar', 'Manner': 'approximant','Oro-nasal': '(oral)','Centrality':'(central)'}\n",
        "}"
      ],
      "metadata": {
        "id": "xZh8_BFbo848"
      },
      "execution_count": null,
      "outputs": []
    },
    {
      "cell_type": "code",
      "source": [],
      "metadata": {
        "id": "E8Z6vlYsIEKu"
      },
      "execution_count": null,
      "outputs": []
    },
    {
      "cell_type": "markdown",
      "source": [
        "## IPA data in dictionary forms"
      ],
      "metadata": {
        "id": "FF2L9qBRINAr"
      }
    },
    {
      "cell_type": "code",
      "source": [
        "import random\n",
        "\n",
        "ipa_data = {\n",
        "    'p': {'Voicing': 'voiceless', 'Place': 'bilabial', 'Manner': 'stop','Oro-nasal': '(oral)','Centrality':'(central)'},\n",
        "    'b': {'Voicing': 'voiced', 'Place': 'bilabial', 'Manner': 'stop','Oro-nasal': '(oral)','Centrality':'(central)'},\n",
        "    't': {'Voicing': 'voiceless', 'Place': 'alveolar', 'Manner': 'stop','Oro-nasal': '(oral)','Centrality':'(central)'},\n",
        "    'd': {'Voicing': 'voiced', 'Place': 'alveolar', 'Manner': 'stop','Oro-nasal': '(oral)','Centrality':'(central)'},\n",
        "    'k': {'Voicing': 'voiceless', 'Place': 'velar', 'Manner': 'stop','Oro-nasal': '(oral)','Centrality':'(central)'},\n",
        "    'g': {'Voicing': 'voiced', 'Place': 'velar', 'Manner': 'stop','Oro-nasal': '(oral)','Centrality':'(central)'},\n",
        "    'f': {'Voicing': 'voiceless', 'Place': 'labio-dental', 'Manner': 'fricative','Oro-nasal': '(oral)','Centrality':'(central)'},\n",
        "    'v': {'Voicing': 'voiced', 'Place': 'labio-dental', 'Manner': 'fricative','Oro-nasal': '(oral)','Centrality':'(central)'},\n",
        "    'θ': {'Voicing': 'voiceless', 'Place': 'dental', 'Manner': 'fricative','Oro-nasal': '(oral)','Centrality':'(central)'},\n",
        "    'ð': {'Voicing': 'voiced', 'Place': 'dental', 'Manner': 'fricative','Oro-nasal': '(oral)','Centrality':'(central)'},\n",
        "    's': {'Voicing': 'voiceless', 'Place': 'alveolar', 'Manner': 'fricative','Oro-nasal': '(oral)','Centrality':'(central)'},\n",
        "    'z': {'Voicing': 'voiced', 'Place': 'alveolar', 'Manner': 'fricative','Oro-nasal': '(oral)','Centrality':'(central)'},\n",
        "    'ʃ': {'Voicing': 'voiceless', 'Place': 'palato-alveolar', 'Manner': 'fricative','Oro-nasal': '(oral)','Centrality':'(central)'},\n",
        "    'ʒ': {'Voicing': 'voiced', 'Place': 'palato-alveolar', 'Manner': 'fricative','Oro-nasal': '(oral)','Centrality':'(central)'},\n",
        "    'tʃ': {'Voicing': 'voiceless', 'Place': 'palato-alveolar', 'Manner': 'affricate','Oro-nasal': '(oral)','Centrality':'(central)'},\n",
        "    'dʒ': {'Voicing': 'voiced', 'Place': 'palato-alveolar', 'Manner': 'affricate','Oro-nasal': '(oral)','Centrality':'(central)'},\n",
        "    'h': {'Voicing': 'voiceless', 'Place': 'glottal', 'Manner': 'fricative','Oro-nasal': '(oral)','Centrality':'(central)'},\n",
        "    'm': {'Voicing': 'voiced', 'Place': 'bilabial', 'Manner': 'stop','Oro-nasal': 'nasal','Centrality':'(not applicable)'},\n",
        "    'n': {'Voicing': 'voiced', 'Place': 'alveolar', 'Manner': 'stop','Oro-nasal': 'nasal','Centrality':'(not applicable)'},\n",
        "    'ŋ': {'Voicing': 'voiced', 'Place': 'velar', 'Manner': 'stop','Oro-nasal': 'nasal','Centrality':'(not applicable)'},\n",
        "    'ɹ': {'Voicing': 'voiced', 'Place': 'alveolar', 'Manner': 'approximant','Oro-nasal': '(oral)','Centrality':'(central)'},\n",
        "    'l': {'Voicing': 'voiced', 'Place': 'alveolar', 'Manner': 'lateral approximant','Oro-nasal': '(oral)','Centrality':'lateral'},\n",
        "    'j': {'Voicing': 'voiced', 'Place': 'palatal', 'Manner': 'approximant','Oro-nasal': '(oral)','Centrality':'(central)'},\n",
        "    'w': {'Voicing': 'voiced', 'Place': 'labio-velar', 'Manner': 'approximant','Oro-nasal': '(oral)','Centrality':'(central)'}\n",
        "}\n",
        "\n",
        "ipa_list = list(ipa_data.keys())\n",
        "\n",
        "# pick a symbol\n",
        "symbolpick = random.choice(ipa_list)\n",
        "\n",
        "# phonetic description\n",
        "symbol = symbolpick\n",
        "voice = ipa_data[symbol]['Voicing']\n",
        "place = ipa_data[symbol]['Place']\n",
        "manner = ipa_data[symbol]['Manner']\n",
        "centrality = ipa_data[symbol]['Centrality']\n",
        "oronasal = ipa_data[symbol]['Oro-nasal']\n",
        "\n",
        "print(f\" Symbol: / {symbol} /\\n\", f\"Description: {voice}, {place}, {centrality}, {oronasal}, {manner}\")"
      ],
      "metadata": {
        "id": "4o3TmipUINAr"
      },
      "execution_count": null,
      "outputs": []
    },
    {
      "cell_type": "markdown",
      "source": [
        "Using function"
      ],
      "metadata": {
        "id": "LYC0oGsoKPQd"
      }
    },
    {
      "cell_type": "code",
      "source": [
        "import random\n",
        "\n",
        "ipa_data = {\n",
        "    'p': {'Voicing': 'voiceless', 'Place': 'bilabial', 'Manner': 'stop','Oro-nasal': '(oral)','Centrality':'(central)'},\n",
        "    'b': {'Voicing': 'voiced', 'Place': 'bilabial', 'Manner': 'stop','Oro-nasal': '(oral)','Centrality':'(central)'},\n",
        "    't': {'Voicing': 'voiceless', 'Place': 'alveolar', 'Manner': 'stop','Oro-nasal': '(oral)','Centrality':'(central)'},\n",
        "    'd': {'Voicing': 'voiced', 'Place': 'alveolar', 'Manner': 'stop','Oro-nasal': '(oral)','Centrality':'(central)'},\n",
        "    'k': {'Voicing': 'voiceless', 'Place': 'velar', 'Manner': 'stop','Oro-nasal': '(oral)','Centrality':'(central)'},\n",
        "    'g': {'Voicing': 'voiced', 'Place': 'velar', 'Manner': 'stop','Oro-nasal': '(oral)','Centrality':'(central)'},\n",
        "    'f': {'Voicing': 'voiceless', 'Place': 'labio-dental', 'Manner': 'fricative','Oro-nasal': '(oral)','Centrality':'(central)'},\n",
        "    'v': {'Voicing': 'voiced', 'Place': 'labio-dental', 'Manner': 'fricative','Oro-nasal': '(oral)','Centrality':'(central)'},\n",
        "    'θ': {'Voicing': 'voiceless', 'Place': 'dental', 'Manner': 'fricative','Oro-nasal': '(oral)','Centrality':'(central)'},\n",
        "    'ð': {'Voicing': 'voiced', 'Place': 'dental', 'Manner': 'fricative','Oro-nasal': '(oral)','Centrality':'(central)'},\n",
        "    's': {'Voicing': 'voiceless', 'Place': 'alveolar', 'Manner': 'fricative','Oro-nasal': '(oral)','Centrality':'(central)'},\n",
        "    'z': {'Voicing': 'voiced', 'Place': 'alveolar', 'Manner': 'fricative','Oro-nasal': '(oral)','Centrality':'(central)'},\n",
        "    'ʃ': {'Voicing': 'voiceless', 'Place': 'palato-alveolar', 'Manner': 'fricative','Oro-nasal': '(oral)','Centrality':'(central)'},\n",
        "    'ʒ': {'Voicing': 'voiced', 'Place': 'palato-alveolar', 'Manner': 'fricative','Oro-nasal': '(oral)','Centrality':'(central)'},\n",
        "    'tʃ': {'Voicing': 'voiceless', 'Place': 'palato-alveolar', 'Manner': 'affricate','Oro-nasal': '(oral)','Centrality':'(central)'},\n",
        "    'dʒ': {'Voicing': 'voiced', 'Place': 'palato-alveolar', 'Manner': 'affricate','Oro-nasal': '(oral)','Centrality':'(central)'},\n",
        "    'h': {'Voicing': 'voiceless', 'Place': 'glottal', 'Manner': 'fricative','Oro-nasal': '(oral)','Centrality':'(central)'},\n",
        "    'm': {'Voicing': 'voiced', 'Place': 'bilabial', 'Manner': 'stop','Oro-nasal': 'nasal','Centrality':'(not applicable)'},\n",
        "    'n': {'Voicing': 'voiced', 'Place': 'alveolar', 'Manner': 'stop','Oro-nasal': 'nasal','Centrality':'(not applicable)'},\n",
        "    'ŋ': {'Voicing': 'voiced', 'Place': 'velar', 'Manner': 'stop','Oro-nasal': 'nasal','Centrality':'(not applicable)'},\n",
        "    'ɹ': {'Voicing': 'voiced', 'Place': 'alveolar', 'Manner': 'approximant','Oro-nasal': '(oral)','Centrality':'(central)'},\n",
        "    'l': {'Voicing': 'voiced', 'Place': 'alveolar', 'Manner': 'approximant','Oro-nasal': '(oral)','Centrality':'lateral'},\n",
        "    'j': {'Voicing': 'voiced', 'Place': 'palatal', 'Manner': 'approximant','Oro-nasal': '(oral)','Centrality':'(central)'},\n",
        "    'w': {'Voicing': 'voiced', 'Place': 'labio-velar', 'Manner': 'approximant','Oro-nasal': '(oral)','Centrality':'(central)'}\n",
        "}\n",
        "\n",
        "# symbol as a list\n",
        "ipa_list = list(ipa_data.keys())\n",
        "\n",
        "# pick a symbol\n",
        "symbolpick = random.choice(ipa_list)\n",
        "\n",
        "# phonetic description\n",
        "symbol = symbolpick\n",
        "voice = ipa_data[symbol]['Voicing']\n",
        "place = ipa_data[symbol]['Place']\n",
        "manner = ipa_data[symbol]['Manner']\n",
        "centrality = ipa_data[symbol]['Centrality']\n",
        "oronasal = ipa_data[symbol]['Oro-nasal']\n",
        "\n",
        "\n",
        "def ipa_practice():\n",
        "    symbolpick = random.choice(ipa_list)\n",
        "    symbol = symbolpick\n",
        "\n",
        "    Factors = ['Voicing', 'Place', 'Manner', 'Oro-nasal', 'Centrality']\n",
        "    factor = random.choice(Factors)\n",
        "    result = ipa_data[symbol][factor]\n",
        "    return symbol, factor, result\n",
        "\n",
        "# print(f\" Symbol: / {symbol} /\\n\", f\"Description: {voice}, {place}, {centrality}, {oronasal}, {manner}\")\n",
        "# print(f\" Symbol: / {IPA} /\\n\", f\"Question: {Question}\\n\", f\"Answer: {Answer}\")\n",
        "\n",
        "IPA, Question, Answer = ipa_practice()\n",
        "\n",
        "print(IPA, Question, Answer)\n",
        "\n",
        "\n"
      ],
      "metadata": {
        "id": "ZoKs_ab3ImrU"
      },
      "execution_count": null,
      "outputs": []
    },
    {
      "cell_type": "markdown",
      "source": [
        "# Gradio"
      ],
      "metadata": {
        "id": "gJ_c686SSSdp"
      }
    },
    {
      "cell_type": "code",
      "source": [
        "%%capture\n",
        "!pip install gradio"
      ],
      "metadata": {
        "id": "mgNj5APESTkM"
      },
      "execution_count": null,
      "outputs": []
    },
    {
      "cell_type": "code",
      "source": [
        "import gradio as gr\n",
        "import random\n",
        "\n",
        "# Dictionary containing the IPA data\n",
        "ipa_data = {\n",
        "    'p': {'Voicing': 'voiceless', 'Place': 'bilabial', 'Manner': 'stop','Oro-nasal': '(oral)','Centrality':'(central)'},\n",
        "    'b': {'Voicing': 'voiced', 'Place': 'bilabial', 'Manner': 'stop','Oro-nasal': '(oral)','Centrality':'(central)'},\n",
        "    't': {'Voicing': 'voiceless', 'Place': 'alveolar', 'Manner': 'stop','Oro-nasal': '(oral)','Centrality':'(central)'},\n",
        "    'd': {'Voicing': 'voiced', 'Place': 'alveolar', 'Manner': 'stop','Oro-nasal': '(oral)','Centrality':'(central)'},\n",
        "    'k': {'Voicing': 'voiceless', 'Place': 'velar', 'Manner': 'stop','Oro-nasal': '(oral)','Centrality':'(central)'},\n",
        "    'g': {'Voicing': 'voiced', 'Place': 'velar', 'Manner': 'stop','Oro-nasal': '(oral)','Centrality':'(central)'},\n",
        "    'f': {'Voicing': 'voiceless', 'Place': 'labio-dental', 'Manner': 'fricative','Oro-nasal': '(oral)','Centrality':'(central)'},\n",
        "    'v': {'Voicing': 'voiced', 'Place': 'labio-dental', 'Manner': 'fricative','Oro-nasal': '(oral)','Centrality':'(central)'},\n",
        "    'θ': {'Voicing': 'voiceless', 'Place': 'dental', 'Manner': 'fricative','Oro-nasal': '(oral)','Centrality':'(central)'},\n",
        "    'ð': {'Voicing': 'voiced', 'Place': 'dental', 'Manner': 'fricative','Oro-nasal': '(oral)','Centrality':'(central)'},\n",
        "    's': {'Voicing': 'voiceless', 'Place': 'alveolar', 'Manner': 'fricative','Oro-nasal': '(oral)','Centrality':'(central)'},\n",
        "    'z': {'Voicing': 'voiced', 'Place': 'alveolar', 'Manner': 'fricative','Oro-nasal': '(oral)','Centrality':'(central)'},\n",
        "    'ʃ': {'Voicing': 'voiceless', 'Place': 'palato-alveolar', 'Manner': 'fricative','Oro-nasal': '(oral)','Centrality':'(central)'},\n",
        "    'ʒ': {'Voicing': 'voiced', 'Place': 'palato-alveolar', 'Manner': 'fricative','Oro-nasal': '(oral)','Centrality':'(central)'},\n",
        "    'tʃ': {'Voicing': 'voiceless', 'Place': 'palato-alveolar', 'Manner': 'affricate','Oro-nasal': '(oral)','Centrality':'(central)'},\n",
        "    'dʒ': {'Voicing': 'voiced', 'Place': 'palato-alveolar', 'Manner': 'affricate','Oro-nasal': '(oral)','Centrality':'(central)'},\n",
        "    'h': {'Voicing': 'voiceless', 'Place': 'glottal', 'Manner': 'fricative','Oro-nasal': '(oral)','Centrality':'(central)'},\n",
        "    'm': {'Voicing': 'voiced', 'Place': 'bilabial', 'Manner': 'stop','Oro-nasal': 'nasal','Centrality':'(not applicable)'},\n",
        "    'n': {'Voicing': 'voiced', 'Place': 'alveolar', 'Manner': 'stop','Oro-nasal': 'nasal','Centrality':'(not applicable)'},\n",
        "    'ŋ': {'Voicing': 'voiced', 'Place': 'velar', 'Manner': 'stop','Oro-nasal': 'nasal','Centrality':'(not applicable)'},\n",
        "    'ɹ': {'Voicing': 'voiced', 'Place': 'alveolar', 'Manner': 'approximant','Oro-nasal': '(oral)','Centrality':'(central)'},\n",
        "    'l': {'Voicing': 'voiced', 'Place': 'alveolar', 'Manner': 'approximant','Oro-nasal': '(oral)','Centrality':'lateral'},\n",
        "    'j': {'Voicing': 'voiced', 'Place': 'palatal', 'Manner': 'approximant','Oro-nasal': '(oral)','Centrality':'(central)'},\n",
        "    'w': {'Voicing': 'voiced', 'Place': 'labio-velar', 'Manner': 'approximant','Oro-nasal': '(oral)','Centrality':'(central)'}\n",
        "}\n",
        "\n",
        "\n",
        "# List of IPA symbols\n",
        "ipa_list = list(ipa_data.keys())\n",
        "\n",
        "def ipa_practice():\n",
        "    \"\"\" Function to pick a random IPA symbol and a property, and return these with the answer. \"\"\"\n",
        "    symbol = random.choice(ipa_list)\n",
        "    factor = random.choice(['Voicing', 'Place', 'Manner', 'Oro-nasal', 'Centrality'])\n",
        "    result = ipa_data[symbol][factor]\n",
        "    return symbol, f\"What is the {factor.lower()} of this IPA symbol?\", result\n",
        "\n",
        "def evaluate_answer(user_input, correct_answer):\n",
        "    \"\"\" Function to evaluate the user's answer. \"\"\"\n",
        "    if user_input.strip().lower() == correct_answer.lower():\n",
        "        return \"Correct\"\n",
        "    else:\n",
        "        return \"Incorrect\"\n",
        "\n",
        "def gradio_app():\n",
        "    \"\"\" Function to create the Gradio interface. \"\"\"\n",
        "    with gr.Blocks() as app:\n",
        "        gr.Markdown(\"## IPA Practice App\")\n",
        "        symbol_display = gr.Textbox(label=\"IPA Symbol\", interactive=False)\n",
        "        question_display = gr.Textbox(label=\"Question\", interactive=False)\n",
        "        user_input = gr.Textbox(label=\"Your Answer\", placeholder=\"Type your answer here\")\n",
        "        submit_button = gr.Button(\"Submit\")\n",
        "        result_display = gr.Textbox(label=\"Result\", interactive=False)\n",
        "\n",
        "        def update_app():\n",
        "            \"\"\" Function to update app components. \"\"\"\n",
        "            IPA, Question, Answer = ipa_practice()\n",
        "            return IPA, Question, Answer, \"\"\n",
        "\n",
        "        def on_submit(user_input):\n",
        "            \"\"\" Handle the submit action to check the answer and update the question. \"\"\"\n",
        "            _, _, correct_answer, _ = update_app()\n",
        "            result = evaluate_answer(user_input, correct_answer)\n",
        "            IPA, Question, Answer, _ = update_app()\n",
        "            return result, IPA, Question, \"\"\n",
        "\n",
        "        # Initialize with the first question and symbol\n",
        "        symbol_display.value, question_display.value, _, _ = update_app()\n",
        "\n",
        "        submit_button.click(\n",
        "            fn=on_submit,\n",
        "            inputs=user_input,\n",
        "            outputs=[result_display, symbol_display, question_display, user_input]\n",
        "        )\n",
        "\n",
        "    return app\n",
        "\n",
        "# Run the app\n",
        "app = gradio_app()\n",
        "app.launch()\n",
        "\n"
      ],
      "metadata": {
        "id": "iUBrj_XVSVRp"
      },
      "execution_count": null,
      "outputs": []
    },
    {
      "cell_type": "markdown",
      "source": [
        "Trial 2"
      ],
      "metadata": {
        "id": "VqzRba8WUu3k"
      }
    },
    {
      "cell_type": "code",
      "source": [
        "def score(response):\n",
        "    n = 0\n",
        "    if response == ipa_data[symbol][Question]:\n",
        "        n += 1\n",
        "        return n\n",
        "    else:\n",
        "        return n\n",
        "\n",
        "response = input()\n",
        "score"
      ],
      "metadata": {
        "id": "zHqzzxY9Livl"
      },
      "execution_count": null,
      "outputs": []
    }
  ]
}