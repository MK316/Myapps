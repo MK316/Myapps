{
  "nbformat": 4,
  "nbformat_minor": 0,
  "metadata": {
    "colab": {
      "provenance": [],
      "authorship_tag": "ABX9TyOarmJzKyJtbuNYJcipVHbZ",
      "include_colab_link": true
    },
    "kernelspec": {
      "name": "python3",
      "display_name": "Python 3"
    },
    "language_info": {
      "name": "python"
    }
  },
  "cells": [
    {
      "cell_type": "markdown",
      "metadata": {
        "id": "view-in-github",
        "colab_type": "text"
      },
      "source": [
        "<a href=\"https://colab.research.google.com/github/MK316/Myapps/blob/main/QRcode.ipynb\" target=\"_parent\"><img src=\"https://colab.research.google.com/assets/colab-badge.svg\" alt=\"Open In Colab\"/></a>"
      ]
    },
    {
      "cell_type": "markdown",
      "source": [
        "# 🐝  Generate QR code (svg file) and display"
      ],
      "metadata": {
        "id": "kGIfXlWzis9S"
      }
    },
    {
      "cell_type": "code",
      "source": [
        "#@markdown Install {pyqrcode} and enter link address\n",
        "!pip install pyqrcode pypng\n",
        "\n",
        "import pyqrcode\n",
        "from pyqrcode import QRCode\n"
      ],
      "metadata": {
        "id": "QrxuiLBDhUF0"
      },
      "execution_count": null,
      "outputs": []
    },
    {
      "cell_type": "code",
      "source": [
        "#@markdown Enter the link, save it as a file, and display\n",
        "s = input(\"Paste the link: \")\n",
        "\n",
        "# Generate QR code\n",
        "url = pyqrcode.create(s)\n",
        "\n",
        "# Create and save the png file naming \"myqr.png\"\n",
        "url.png(\"myqrcode.png\", scale=10)\n",
        "\n",
        "from IPython.display import Image, display\n",
        "def show_png(file):\n",
        "    display(Image(file))\n",
        "\n",
        "show_png(\"myqrcode.png\")\n"
      ],
      "metadata": {
        "cellView": "form",
        "id": "f0Wm14oORLV_",
        "outputId": "4602cfc2-75a1-4e29-fe76-cb9e8a2a8ae9",
        "colab": {
          "base_uri": "https://localhost:8080/",
          "height": 485
        }
      },
      "execution_count": 5,
      "outputs": [
        {
          "name": "stdout",
          "output_type": "stream",
          "text": [
            "Paste the link: https://forms.gle/K7oagPSn5iCT8Upa8\n"
          ]
        },
        {
          "output_type": "display_data",
          "data": {
            "image/png": "[encoded data removed]",
            "text/plain": [
              "<IPython.core.display.Image object>"
            ]
          },
          "metadata": {}
        }
      ]
    }
  ]
}