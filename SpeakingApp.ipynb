{
  "nbformat": 4,
  "nbformat_minor": 0,
  "metadata": {
    "colab": {
      "private_outputs": true,
      "provenance": [],
      "authorship_tag": "ABX9TyMGD9muXuBnPUSZf1ivW7Rz",
      "include_colab_link": true
    },
    "kernelspec": {
      "name": "python3",
      "display_name": "Python 3"
    },
    "language_info": {
      "name": "python"
    }
  },
  "cells": [
    {
      "cell_type": "markdown",
      "metadata": {
        "id": "view-in-github",
        "colab_type": "text"
      },
      "source": [
        "<a href=\"https://colab.research.google.com/github/MK316/Myapps/blob/main/SpeakingApp.ipynb\" target=\"_parent\"><img src=\"https://colab.research.google.com/assets/colab-badge.svg\" alt=\"Open In Colab\"/></a>"
      ]
    },
    {
      "cell_type": "markdown",
      "source": [
        "# 🍀 Speaking: record speech and the app displays as it identifies (using STT Whisper)"
      ],
      "metadata": {
        "id": "rl99LLpQ9hfb"
      }
    },
    {
      "cell_type": "markdown",
      "source": [
        "## [0] Install necessary packages"
      ],
      "metadata": {
        "id": "ms0IJKUX97fE"
      }
    },
    {
      "cell_type": "code",
      "execution_count": null,
      "metadata": {
        "id": "fr9oy1jM6MpF"
      },
      "outputs": [],
      "source": [
        "%%capture\n",
        "!pip install gradio\n",
        "!pip install openai-whisper\n",
        "!pip install qrcode\n",
        "!pip install git+https://github.com/openai/whisper.git"
      ]
    },
    {
      "cell_type": "markdown",
      "source": [
        "## [2] Implement STT using Gradio: getting a live link"
      ],
      "metadata": {
        "id": "B58SypL29_Nf"
      }
    },
    {
      "cell_type": "code",
      "source": [
        "#@markdown App using Whisper: speech to text\n",
        "import gradio as gr\n",
        "import whisper\n",
        "\n",
        "def speech_to_text(audio_file_path):\n",
        "    try:\n",
        "        model = whisper.load_model(\"tiny\")  # Using \"tiny\" for better compatibility\n",
        "        audio = whisper.load_audio(audio_file_path)\n",
        "        result = model.transcribe(audio)\n",
        "        return result[\"text\"]\n",
        "    except Exception as e:\n",
        "        return f\"An error occurred: {str(e)}\"\n",
        "\n",
        "iface = gr.Interface(\n",
        "    fn=speech_to_text,\n",
        "    inputs=gr.Audio(type=\"filepath\", label=\"Record your voice\"),\n",
        "    outputs=\"text\",\n",
        "    title=\"Speech to Text Converter\",\n",
        "    description=\"Record your voice and convert it to text using Whisper.\"\n",
        ")\n",
        "\n",
        "iface.launch()\n"
      ],
      "metadata": {
        "cellView": "form",
        "id": "GXBlpxyG8cDm"
      },
      "execution_count": null,
      "outputs": []
    },
    {
      "cell_type": "markdown",
      "source": [
        "## [3] QR code to generate"
      ],
      "metadata": {
        "id": "_A_FYdWE-Gjr"
      }
    },
    {
      "cell_type": "code",
      "source": [
        "#@markdown 🌀 QR code to generate\n",
        "import qrcode\n",
        "from IPython.display import display\n",
        "from PIL import Image\n",
        "\n",
        "# Replace YOUR_URL_HERE with the URL you copied from the Gradio output\n",
        "url = input(\"Enter the URL to generate QR code: \")\n",
        "\n",
        "# Generate QR code\n",
        "qr = qrcode.QRCode(\n",
        "    version=1,\n",
        "    error_correction=qrcode.constants.ERROR_CORRECT_H,\n",
        "    box_size=12,\n",
        "    border=4,\n",
        ")\n",
        "qr.add_data(url)\n",
        "qr.make(fit=True)\n",
        "img = qr.make_image(fill_color=\"black\", back_color=\"white\")\n",
        "\n",
        "# Display the QR code\n",
        "display(img)\n",
        "\n",
        "# Save the QR code image\n",
        "image_path = '/content/qr_code.png'  # Specify your desired path and file name\n",
        "img.save(image_path)\n",
        "print(f\"QR code saved at {image_path}\")\n"
      ],
      "metadata": {
        "cellView": "form",
        "id": "ZPKG_qw0iexj"
      },
      "execution_count": null,
      "outputs": []
    }
  ]
}