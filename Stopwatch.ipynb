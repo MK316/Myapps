{
  "nbformat": 4,
  "nbformat_minor": 0,
  "metadata": {
    "colab": {
      "private_outputs": true,
      "provenance": [],
      "authorship_tag": "ABX9TyOYxUb+bkKZaTWFme3I9WiH",
      "include_colab_link": true
    },
    "kernelspec": {
      "name": "python3",
      "display_name": "Python 3"
    },
    "language_info": {
      "name": "python"
    }
  },
  "cells": [
    {
      "cell_type": "markdown",
      "metadata": {
        "id": "view-in-github",
        "colab_type": "text"
      },
      "source": [
        "<a href=\"https://colab.research.google.com/github/MK316/Myapps/blob/main/Stopwatch.ipynb\" target=\"_parent\"><img src=\"https://colab.research.google.com/assets/colab-badge.svg\" alt=\"Open In Colab\"/></a>"
      ]
    },
    {
      "cell_type": "markdown",
      "source": [
        "Stopwatch"
      ],
      "metadata": {
        "id": "7wcaM0nsc0_m"
      }
    },
    {
      "cell_type": "code",
      "source": [
        "%%capture\n",
        "!pip install gradio"
      ],
      "metadata": {
        "id": "7sg4IKZSt9L1"
      },
      "execution_count": null,
      "outputs": []
    },
    {
      "cell_type": "code",
      "source": [
        "#@markdown Count down\n",
        "import ipywidgets as widgets\n",
        "from IPython.display import display, HTML, Javascript\n",
        "import time\n",
        "\n",
        "class CountdownTimer:\n",
        "    def __init__(self):\n",
        "        self._target_time = 0\n",
        "        self._elapsed_time = 0\n",
        "        self._running = False\n",
        "\n",
        "        self.label = widgets.HTML(value=\"<h1 style='font-size: 46px;'>00:00:00</h1>\")\n",
        "        self.countdown_input = widgets.IntText(description=\"Time (sec)\", value=0)\n",
        "        self.start_button = widgets.Button(description=\"Start\")\n",
        "\n",
        "        self.start_button.on_click(self.start)\n",
        "\n",
        "        # Create a VBox container to add vertical spacing\n",
        "\n",
        "        self.vbox = widgets.VBox([self.label, self.countdown_input, self.start_button])\n",
        "\n",
        "        display(self.vbox)\n",
        "\n",
        "        # Add an event handler to the countdown_input to enable the start_button\n",
        "\n",
        "        self.countdown_input.observe(self.enable_start_button, 'value')\n",
        "\n",
        "        # Initialize the start button state\n",
        "        self.enable_start_button({'new': self.countdown_input.value})\n",
        "\n",
        "    def enable_start_button(self, change):\n",
        "        if change['new'] >= 0:\n",
        "            self.start_button.disabled = False\n",
        "        else:\n",
        "            self.start_button.disabled = True\n",
        "\n",
        "    def update_timer(self):\n",
        "        while self._running:\n",
        "            self._elapsed_time = self._target_time - time.time()\n",
        "            if self._elapsed_time <= 0:\n",
        "                self._elapsed_time = 0\n",
        "                self._running = False\n",
        "                self.start_button.disabled = False\n",
        "                self.label.value = \"<h1 style='font-size: 46px;'>Time's up</h1>\"\n",
        "            else:\n",
        "                formatted_time = time.strftime(\"%H:%M:%S\", time.gmtime(self._elapsed_time))\n",
        "                self.label.value = f\"<h1 style='font-size: 46px;'>{formatted_time}</h1>\"\n",
        "            time.sleep(1)\n",
        "\n",
        "    def start(self, b):\n",
        "        if not self._running:\n",
        "            countdown_time = self.countdown_input.value\n",
        "            if countdown_time < 0:\n",
        "                print(\"Countdown time cannot be negative.\")\n",
        "                return\n",
        "            self._target_time = time.time() + countdown_time\n",
        "            formatted_time = time.strftime(\"%H:%M:%S\", time.gmtime(countdown_time))\n",
        "            self.label.value = f\"<h1 style='font-size: 46px;'>{formatted_time}</h1>\"\n",
        "            self.start_button.disabled = True\n",
        "            self._running = True\n",
        "            self.update_timer()\n",
        "\n",
        "# Create and display the countdown timer\n",
        "\n",
        "countdown_timer = CountdownTimer()\n"
      ],
      "metadata": {
        "cellView": "form",
        "id": "-lKenk7xtc-J"
      },
      "execution_count": null,
      "outputs": []
    }
  ]
}