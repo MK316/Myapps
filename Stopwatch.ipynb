{
  "nbformat": 4,
  "nbformat_minor": 0,
  "metadata": {
    "colab": {
      "private_outputs": true,
      "provenance": [],
      "authorship_tag": "ABX9TyMUy+T0rt2FXd5n06gFMOD1",
      "include_colab_link": true
    },
    "kernelspec": {
      "name": "python3",
      "display_name": "Python 3"
    },
    "language_info": {
      "name": "python"
    }
  },
  "cells": [
    {
      "cell_type": "markdown",
      "metadata": {
        "id": "view-in-github",
        "colab_type": "text"
      },
      "source": [
        "<a href=\"https://colab.research.google.com/github/MK316/Myapps/blob/main/Stopwatch.ipynb\" target=\"_parent\"><img src=\"https://colab.research.google.com/assets/colab-badge.svg\" alt=\"Open In Colab\"/></a>"
      ]
    },
    {
      "cell_type": "markdown",
      "source": [
        "Stopwatch"
      ],
      "metadata": {
        "id": "7wcaM0nsc0_m"
      }
    },
    {
      "cell_type": "code",
      "source": [
        "import ipywidgets as widgets\n",
        "from IPython.display import display, clear_output\n",
        "import time\n",
        "\n",
        "class Stopwatch:\n",
        "    def __init__(self):\n",
        "        self._start_time = 0\n",
        "        self._elapsed_time = 0\n",
        "        self._running = False\n",
        "\n",
        "        self.label = widgets.Label(value=\"00:00:00\")\n",
        "        self.start_button = widgets.Button(description=\"Start\")\n",
        "        self.stop_button = widgets.Button(description=\"Stop\", disabled=True)\n",
        "        self.reset_button = widgets.Button(description=\"Reset\", disabled=True)\n",
        "\n",
        "        self.start_button.on_click(self.start)\n",
        "        self.stop_button.on_click(self.stop)\n",
        "        self.reset_button.on_click(self.reset)\n",
        "\n",
        "        display(self.label, self.start_button, self.stop_button, self.reset_button)\n",
        "\n",
        "    def start(self, b):\n",
        "        if not self._running:\n",
        "            self._running = True\n",
        "            self._start_time = time.time() - self._elapsed_time\n",
        "            self.start_button.disabled = True\n",
        "            self.stop_button.disabled = False\n",
        "            self.reset_button.disabled = True\n",
        "\n",
        "            while self._running:\n",
        "                self._elapsed_time = time.time() - self._start_time\n",
        "                self.label.value = time.strftime(\"%H:%M:%S\", time.gmtime(self._elapsed_time))\n",
        "                time.sleep(1)\n",
        "\n",
        "    def stop(self, b):\n",
        "        self._running = False\n",
        "        self.start_button.disabled = False\n",
        "        self.stop_button.disabled = True\n",
        "        self.reset_button.disabled = False\n",
        "\n",
        "    def reset(self, b):\n",
        "        self._running = False\n",
        "        self._elapsed_time = 0\n",
        "        self.label.value = \"00:00:00\"\n",
        "        self.start_button.disabled = False\n",
        "        self.stop_button.disabled = True\n",
        "        self.reset_button.disabled = True\n",
        "\n",
        "# Create and display the stopwatch\n",
        "stopwatch = Stopwatch()\n"
      ],
      "metadata": {
        "id": "SP5R7slPcxhM"
      },
      "execution_count": null,
      "outputs": []
    }
  ]
}