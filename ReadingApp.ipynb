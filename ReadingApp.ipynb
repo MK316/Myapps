{
  "nbformat": 4,
  "nbformat_minor": 0,
  "metadata": {
    "colab": {
      "private_outputs": true,
      "provenance": [],
      "authorship_tag": "ABX9TyPc6cQ3L34Numti9Dj0S9YJ",
      "include_colab_link": true
    },
    "kernelspec": {
      "name": "python3",
      "display_name": "Python 3"
    },
    "language_info": {
      "name": "python"
    }
  },
  "cells": [
    {
      "cell_type": "markdown",
      "metadata": {
        "id": "view-in-github",
        "colab_type": "text"
      },
      "source": [
        "<a href=\"https://colab.research.google.com/github/MK316/Myapps/blob/main/ReadingApp.ipynb\" target=\"_parent\"><img src=\"https://colab.research.google.com/assets/colab-badge.svg\" alt=\"Open In Colab\"/></a>"
      ]
    },
    {
      "cell_type": "markdown",
      "source": [
        "# Reading passages by sentences\n",
        "\n",
        "1. Change texts in [1]"
      ],
      "metadata": {
        "id": "Xeb_pHqDajrw"
      }
    },
    {
      "cell_type": "code",
      "source": [
        "%%capture\n",
        "!pip install gtts gradio\n",
        "!pip install qrcode"
      ],
      "metadata": {
        "id": "vhG4h5DOasw9"
      },
      "execution_count": null,
      "outputs": []
    },
    {
      "cell_type": "markdown",
      "source": [
        "## [1] Text to specify: sentences or reading passages\n",
        "\n",
        "**Note: 'title' (before colon)** should be filled. This is the title visible in the dropbox selection (e.g., Sentence 1, Story 1, Tom and Jerry, etc.\n",
        "\n",
        "Paste your text to the pop-up window while running the code below"
      ],
      "metadata": {
        "id": "vbBgC_Hxasw-"
      }
    },
    {
      "cell_type": "code",
      "source": [
        "mytext = input(\"Paste your text her: \")"
      ],
      "metadata": {
        "id": "72HDK1aJasw-"
      },
      "execution_count": null,
      "outputs": []
    },
    {
      "cell_type": "code",
      "source": [
        "#@markdown Text into sentences\n",
        "import re\n",
        "\n",
        "# mytext = [\"A Lion lay asleep in the forest, his great head resting on his paws. A timid little Mouse came upon him unexpectedly, and in her fright and haste to get away, ran across the Lion's nose. Roused from his nap, the Lion laid his huge paw angrily on the tiny creature to kill her.\"]\n",
        "\n",
        "# Use regular expression to split text into sentences\n",
        "sentences = re.split(r'[.!?]', mytext[:])\n",
        "\n",
        "# Remove empty strings and strip whitespace from the resulting sentences\n",
        "sentences = [sentence.strip() for sentence in sentences if sentence.strip()]\n",
        "\n",
        "print(sentences)\n"
      ],
      "metadata": {
        "cellView": "form",
        "id": "LmXRnd8FgR7A"
      },
      "execution_count": null,
      "outputs": []
    },
    {
      "cell_type": "code",
      "source": [
        "#@markdown 🌀 Gradio app with pre-given texts\n",
        "import gradio as gr\n",
        "from gtts import gTTS\n",
        "\n",
        "# sents = [\n",
        "#     \"A Lion lay asleep in the forest, his great head resting on his paws. A timid little Mouse came upon him unexpectedly, and in her fright and haste to get away, ran across the Lion's nose. Roused from his nap, the Lion laid his huge paw angrily on the tiny creature to kill her.\",\n",
        "#     \"This is the second sentence. It's a different example.\",\n",
        "#     \"And here is the third sentence. Another example text.\"\n",
        "# ]\n",
        "\n",
        "sents = sentences\n",
        "def text_to_speech(selected_sentence, language):\n",
        "    sn = int(selected_sentence.split(\".\")[0]) - 1  # Extract the selected sentence number and convert to 0-based index\n",
        "    mytext = sents[sn]  # Get the selected sentence\n",
        "\n",
        "    # Define language codes for English, Korean, and Russian\n",
        "    language_codes = {'English': 'en', 'Korean': 'ko', 'Russian': 'ru'}\n",
        "\n",
        "    # Create a gTTS object with the selected language\n",
        "    tts = gTTS(text=mytext, lang=language_codes[language], slow=False)\n",
        "\n",
        "    # Save the speech to a temporary file\n",
        "    filename = 'output.mp3'\n",
        "    tts.save(filename)\n",
        "    return filename\n",
        "\n",
        "iface = gr.Interface(\n",
        "    fn=text_to_speech,\n",
        "    inputs=[\n",
        "        gr.Dropdown(choices=[f\"{i + 1}. {sents[i]}\" for i in range(len(sents))], label=\"Select Sentence\"),\n",
        "        gr.Radio(choices=['English', 'Korean', 'Russian'], label=\"Language\")\n",
        "    ],\n",
        "    outputs=gr.Audio(type=\"filepath\", label=\"Output Audio\"),\n",
        "    title=\"Text-to-Speech Converter\",\n",
        "    description=\"Select a sentence and language to convert it to speech.\"\n",
        ")\n",
        "\n",
        "iface.launch()\n"
      ],
      "metadata": {
        "cellView": "form",
        "id": "ZE27UxeFmB6G"
      },
      "execution_count": null,
      "outputs": []
    },
    {
      "cell_type": "markdown",
      "source": [
        "# QR code to share"
      ],
      "metadata": {
        "id": "MVaFurF1asw-"
      }
    },
    {
      "cell_type": "code",
      "source": [
        "#@markdown 🌀 QR code (link should be provided)\n",
        "import qrcode\n",
        "from IPython.display import display\n",
        "from PIL import Image\n",
        "\n",
        "# Replace YOUR_URL_HERE with the URL you copied from the Gradio output\n",
        "url = input()\n",
        "\n",
        "# Generate QR code\n",
        "qr = qrcode.QRCode(\n",
        "    version=1,\n",
        "    error_correction=qrcode.constants.ERROR_CORRECT_H,\n",
        "    box_size=16,\n",
        "    border=4,\n",
        ")\n",
        "qr.add_data(url)\n",
        "qr.make(fit=True)\n",
        "img = qr.make_image(fill_color=\"black\", back_color=\"white\")\n",
        "display(img)\n"
      ],
      "metadata": {
        "cellView": "form",
        "id": "LXZ9Po6Masw_"
      },
      "execution_count": null,
      "outputs": []
    }
  ]
}