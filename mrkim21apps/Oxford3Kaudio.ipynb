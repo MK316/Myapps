{
  "nbformat": 4,
  "nbformat_minor": 0,
  "metadata": {
    "colab": {
      "private_outputs": true,
      "provenance": [],
      "authorship_tag": "ABX9TyNl2/oSe6tDKbZ+texUxn8h",
      "include_colab_link": true
    },
    "kernelspec": {
      "name": "python3",
      "display_name": "Python 3"
    },
    "language_info": {
      "name": "python"
    }
  },
  "cells": [
    {
      "cell_type": "markdown",
      "metadata": {
        "id": "view-in-github",
        "colab_type": "text"
      },
      "source": [
        "<a href=\"https://colab.research.google.com/github/MK316/Myapps/blob/main/mrkim21apps/Oxford3Kaudio.ipynb\" target=\"_parent\"><img src=\"https://colab.research.google.com/assets/colab-badge.svg\" alt=\"Open In Colab\"/></a>"
      ]
    },
    {
      "cell_type": "code",
      "execution_count": null,
      "metadata": {
        "id": "4G2duXkIbdpF"
      },
      "outputs": [],
      "source": [
        "!pip install gradio gtts"
      ]
    },
    {
      "cell_type": "code",
      "source": [
        "!pip install pydub\n",
        "!apt-get install ffmpeg"
      ],
      "metadata": {
        "id": "KaHedhMZczG-"
      },
      "execution_count": null,
      "outputs": []
    },
    {
      "cell_type": "code",
      "source": [
        "import gradio as gr\n",
        "from gtts import gTTS\n",
        "import pandas as pd\n",
        "from pydub import AudioSegment\n",
        "import io\n",
        "import numpy as np\n",
        "\n",
        "# Read the CSV data directly for demonstration purposes\n",
        "# Here you should load your actual data\n",
        "\n",
        "csv_file = \"/content/Oxford3K.csv\"\n",
        "\n",
        "# Read the CSV file\n",
        "data = pd.read_csv(csv_file)\n",
        "\n",
        "df = pd.DataFrame(data)\n",
        "\n",
        "\n",
        "def generate_speech(x, y):\n",
        "    # Ensure x and y are integers\n",
        "    x, y = int(x), int(y)\n",
        "\n",
        "    # Create an empty audio segment for padding\n",
        "    combined_audio = AudioSegment.silent(duration=1000)  # Starting with 1 second of silence for padding\n",
        "\n",
        "    # Generate speech for each entry in the specified range\n",
        "    for index, row in df.iloc[x-1:y].iterrows():\n",
        "        sentence = f\"Number {row['SID']}. {row['WORD']} is a {row['POS']}.\"\n",
        "        tts = gTTS(text=sentence, lang='en')\n",
        "        mp3_fp = io.BytesIO()\n",
        "        tts.write_to_fp(mp3_fp)\n",
        "        mp3_fp.seek(0)\n",
        "        sentence_audio = AudioSegment.from_file(mp3_fp, format='mp3')\n",
        "        # Add the sentence audio and 2 seconds of silence\n",
        "        combined_audio += sentence_audio + AudioSegment.silent(duration=2000)\n",
        "\n",
        "    # Export the combined audio to a BytesIO object and return the bytes\n",
        "    mp3_io = io.BytesIO()\n",
        "    combined_audio.export(mp3_io, format='mp3')\n",
        "    mp3_io.seek(0)\n",
        "    return mp3_io.read()\n",
        "\n",
        "# Define the Gradio interface\n",
        "iface = gr.Interface(\n",
        "    fn=generate_speech,\n",
        "    inputs=[\n",
        "        gr.Number(label=\"Start Sentence Number (x)\"),  # Assume the `default` parameter is removed if it causes an error\n",
        "        gr.Number(label=\"End Sentence Number (y)\")\n",
        "    ],\n",
        "    outputs=gr.Audio(label=\"Generated Speech\"),\n",
        "    title=\"Speech Generator\",\n",
        "    description=\"Generate speech from the CSV data. Specify the start and end sentence numbers.\"\n",
        ")\n",
        "\n",
        "\n",
        "# Launch the Gradio app with sharing enabled\n",
        "\n",
        "iface.launch(share=True, debug=True)"
      ],
      "metadata": {
        "id": "-g03n1Fwbp_h"
      },
      "execution_count": null,
      "outputs": []
    },
    {
      "cell_type": "markdown",
      "source": [
        "# By category (option)"
      ],
      "metadata": {
        "id": "dD80IAVUhpYf"
      }
    },
    {
      "cell_type": "code",
      "source": [
        "import gradio as gr\n",
        "from gtts import gTTS\n",
        "from pydub import AudioSegment\n",
        "import pandas as pd\n",
        "import io\n",
        "\n",
        "# Load the DataFrame\n",
        "csv_file = \"/content/Oxford3K.csv\"  # Update this path\n",
        "data = pd.read_csv(csv_file)\n",
        "\n",
        "def generate_speech(level, x, y):\n",
        "    # Filter df based on selected level\n",
        "    filtered_df = data[data['LEVEL'] == level]\n",
        "\n",
        "    # Ensure x and y are integers and within range\n",
        "    x, y = int(x), int(y)\n",
        "    filtered_df = filtered_df[(filtered_df['SID'] >= x) & (filtered_df['SID'] <= y)]\n",
        "\n",
        "    combined_audio = AudioSegment.silent(duration=1000)  # Start with silence for padding\n",
        "\n",
        "    for _, row in filtered_df.iterrows():\n",
        "        sentence = f\"Number {row['SID']}. {row['WORD']} is {row['POS']}.\"\n",
        "        tts = gTTS(text=sentence, lang='en')\n",
        "        mp3_fp = io.BytesIO()\n",
        "        tts.write_to_fp(mp3_fp)\n",
        "        mp3_fp.seek(0)\n",
        "        sentence_audio = AudioSegment.from_file(mp3_fp, format=\"mp3\")\n",
        "        combined_audio += sentence_audio + AudioSegment.silent(duration=2000)\n",
        "\n",
        "    mp3_io = io.BytesIO()\n",
        "    combined_audio.export(mp3_io, format='mp3')\n",
        "    mp3_io.seek(0)\n",
        "    return mp3_io.getvalue()\n",
        "\n",
        "# Interface with level selection\n",
        "iface = gr.Interface(\n",
        "    fn=generate_speech,\n",
        "    inputs=[\n",
        "        gr.Dropdown(label=\"Select Level\", choices=['B1', 'B2']),  # Adapt choices based on your data\n",
        "        gr.Number(label=\"Start Sentence Number (x)\"),\n",
        "        gr.Number(label=\"End Sentence Number (y)\")\n",
        "    ],\n",
        "    outputs=gr.Audio(label=\"Generated Speech\"),\n",
        "    title=\"Speech Generator\",\n",
        "    description=\"Select a level and specify the start and end sentence numbers within that level.\"\n",
        ")\n",
        "\n",
        "iface.launch(share=True, debug=True)\n"
      ],
      "metadata": {
        "id": "oKyvlgWViQWm"
      },
      "execution_count": null,
      "outputs": []
    }
  ]
}