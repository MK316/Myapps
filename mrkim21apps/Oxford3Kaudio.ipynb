{
  "nbformat": 4,
  "nbformat_minor": 0,
  "metadata": {
    "colab": {
      "private_outputs": true,
      "provenance": [],
      "authorship_tag": "ABX9TyNr5wbNgIGhSH/qDzJ76cl7",
      "include_colab_link": true
    },
    "kernelspec": {
      "name": "python3",
      "display_name": "Python 3"
    },
    "language_info": {
      "name": "python"
    }
  },
  "cells": [
    {
      "cell_type": "markdown",
      "metadata": {
        "id": "view-in-github",
        "colab_type": "text"
      },
      "source": [
        "<a href=\"https://colab.research.google.com/github/MK316/Myapps/blob/main/mrkim21apps/Oxford3Kaudio.ipynb\" target=\"_parent\"><img src=\"https://colab.research.google.com/assets/colab-badge.svg\" alt=\"Open In Colab\"/></a>"
      ]
    },
    {
      "cell_type": "markdown",
      "source": [
        "# Oxford 5K vocabulary learning with audio\n",
        "\n",
        "+ [APP link](https://mrkim21.github.io/appfolder/oxford5k-audio.html)\n",
        "+ [Oxford 5K wordlist](https://github.com/MK316/Myapps/blob/main/mrkim21apps/data/readme.md)"
      ],
      "metadata": {
        "id": "8XGf-JaAUGKU"
      }
    },
    {
      "cell_type": "code",
      "execution_count": null,
      "metadata": {
        "id": "4G2duXkIbdpF"
      },
      "outputs": [],
      "source": [
        "%%capture\n",
        "!pip install gradio gtts\n",
        "!pip install pydub\n",
        "!apt-get install ffmpeg"
      ]
    },
    {
      "cell_type": "markdown",
      "source": [
        "# [1] Basic codes\n",
        "\n",
        "+ 📌[Oxford3K.csv](https://github.com/MK316/Myapps/blob/main/mrkim21apps/data/Oxford3K.csv) file should be upload on the left panel (folder icon)"
      ],
      "metadata": {
        "id": "2CguKr7VUfch"
      }
    },
    {
      "cell_type": "code",
      "source": [
        "import gradio as gr\n",
        "from gtts import gTTS\n",
        "import pandas as pd\n",
        "from pydub import AudioSegment\n",
        "import io\n",
        "import numpy as np\n",
        "\n",
        "# Read the CSV data directly for demonstration purposes\n",
        "# Here you should load your actual data\n",
        "\n",
        "csv_file = \"/content/Oxford3K.csv\"\n",
        "\n",
        "# Read the CSV file\n",
        "data = pd.read_csv(csv_file)\n",
        "\n",
        "df = pd.DataFrame(data)\n",
        "\n",
        "\n",
        "def generate_speech(x, y):\n",
        "    # Ensure x and y are integers\n",
        "    x, y = int(x), int(y)\n",
        "\n",
        "    # Create an empty audio segment for padding\n",
        "    combined_audio = AudioSegment.silent(duration=1000)  # Starting with 1 second of silence for padding\n",
        "\n",
        "    # Generate speech for each entry in the specified range\n",
        "    for index, row in df.iloc[x-1:y].iterrows():\n",
        "        sentence = f\"Number {row['SID']}. {row['WORD']} is a {row['POS']}.\"\n",
        "        tts = gTTS(text=sentence, lang='en')\n",
        "        mp3_fp = io.BytesIO()\n",
        "        tts.write_to_fp(mp3_fp)\n",
        "        mp3_fp.seek(0)\n",
        "        sentence_audio = AudioSegment.from_file(mp3_fp, format='mp3')\n",
        "        # Add the sentence audio and 2 seconds of silence\n",
        "        combined_audio += sentence_audio + AudioSegment.silent(duration=2000)\n",
        "\n",
        "    # Export the combined audio to a BytesIO object and return the bytes\n",
        "    mp3_io = io.BytesIO()\n",
        "    combined_audio.export(mp3_io, format='mp3')\n",
        "    mp3_io.seek(0)\n",
        "    return mp3_io.read()\n",
        "\n",
        "# Define the Gradio interface\n",
        "iface = gr.Interface(\n",
        "    fn=generate_speech,\n",
        "    inputs=[\n",
        "        gr.Number(label=\"Start Sentence Number (x)\"),  # Assume the `default` parameter is removed if it causes an error\n",
        "        gr.Number(label=\"End Sentence Number (y)\")\n",
        "    ],\n",
        "    outputs=gr.Audio(label=\"Generated Speech\"),\n",
        "    title=\"Speech Generator\",\n",
        "    description=\"Generate speech from the CSV data. Specify the start and end sentence numbers.\"\n",
        ")\n",
        "\n",
        "\n",
        "# Launch the Gradio app with sharing enabled\n",
        "\n",
        "iface.launch(share=True, debug=True)"
      ],
      "metadata": {
        "id": "-g03n1Fwbp_h"
      },
      "execution_count": null,
      "outputs": []
    },
    {
      "cell_type": "markdown",
      "source": [
        "# [2] Add POS category option to the application"
      ],
      "metadata": {
        "id": "dD80IAVUhpYf"
      }
    },
    {
      "cell_type": "code",
      "source": [
        "import gradio as gr\n",
        "from gtts import gTTS\n",
        "from pydub import AudioSegment\n",
        "import pandas as pd\n",
        "import io\n",
        "\n",
        "# Load the DataFrame\n",
        "csv_file = \"/content/Oxford3K.csv\"  # Update this path\n",
        "data = pd.read_csv(csv_file)\n",
        "\n",
        "def generate_speech(level, x, y):\n",
        "    # Filter df based on selected level\n",
        "    filtered_df = data[data['LEVEL'] == level]\n",
        "\n",
        "    # Ensure x and y are integers and within range\n",
        "    x, y = int(x), int(y)\n",
        "    filtered_df = filtered_df[(filtered_df['SID'] >= x) & (filtered_df['SID'] <= y)]\n",
        "\n",
        "    combined_audio = AudioSegment.silent(duration=1000)  # Start with silence for padding\n",
        "\n",
        "    for _, row in filtered_df.iterrows():\n",
        "        sentence = f\"Number {row['SID']}. {row['WORD']} is {row['POS']}.\"\n",
        "        tts = gTTS(text=sentence, lang='en')\n",
        "        mp3_fp = io.BytesIO()\n",
        "        tts.write_to_fp(mp3_fp)\n",
        "        mp3_fp.seek(0)\n",
        "        sentence_audio = AudioSegment.from_file(mp3_fp, format=\"mp3\")\n",
        "        combined_audio += sentence_audio + AudioSegment.silent(duration=2000)\n",
        "\n",
        "    mp3_io = io.BytesIO()\n",
        "    combined_audio.export(mp3_io, format='mp3')\n",
        "    mp3_io.seek(0)\n",
        "    return mp3_io.getvalue()\n",
        "\n",
        "# Interface with level selection\n",
        "iface = gr.Interface(\n",
        "    fn=generate_speech,\n",
        "    inputs=[\n",
        "        gr.Dropdown(label=\"Select Level\", choices=['B1', 'B2']),  # Adapt choices based on your data\n",
        "        gr.Number(label=\"Start Sentence Number (x)\"),\n",
        "        gr.Number(label=\"End Sentence Number (y)\")\n",
        "    ],\n",
        "    outputs=gr.Audio(label=\"Generated Speech\"),\n",
        "    title=\"Speech Generator\",\n",
        "    description=\"Select a level and specify the start and end sentence numbers within that level.\"\n",
        ")\n",
        "\n",
        "iface.launch(share=True, debug=True)\n"
      ],
      "metadata": {
        "id": "oKyvlgWViQWm"
      },
      "execution_count": null,
      "outputs": []
    },
    {
      "cell_type": "markdown",
      "source": [
        "# [2] Add CEFR level option\n",
        "\n",
        "+ For this implementation, we split the data files by LEVEL.\n",
        "+ 📌 Upload 6 files [Downloadable from here](https://github.com/MK316/Myapps/blob/main/mrkim21apps/data/readme.md)"
      ],
      "metadata": {
        "id": "rbMz6x8k1CMP"
      }
    },
    {
      "cell_type": "code",
      "source": [
        "import gradio as gr\n",
        "from gtts import gTTS\n",
        "from pydub import AudioSegment\n",
        "import pandas as pd\n",
        "import io\n",
        "\n",
        "# Files are separated by CEFR levels\n",
        "\n",
        "csv_files = {\"A1\":\"OF3KA1.csv\",\"A2\":\"OF3KA2.csv\",\"B1\":\"OF3KB1.csv\",\"B2\":\"OF3KB2.csv\",\"C1\":\"OF3KC1.csv\",\"5K\":\"OF5K.csv\"}\n",
        "\n",
        "# Function to load the DataFrame based on level selection\n",
        "def load_data(level):\n",
        "    # Use the csv_files dictionary to get the correct file name for the given level\n",
        "    csv_file_path = f\"/content/{csv_files[level]}\"  # This correctly uses the dictionary\n",
        "    data = pd.read_csv(csv_file_path)\n",
        "    return data\n",
        "\n",
        "def generate_speech(level, x, y):\n",
        "    data = load_data(level)  # Load data for the selected level\n",
        "\n",
        "    # Ensure x and y are integers and within range\n",
        "    x, y = int(x), int(y)\n",
        "    filtered_df = data[(data['SID'] >= x) & (data['SID'] <= y)]\n",
        "\n",
        "    combined_audio = AudioSegment.silent(duration=1000)  # Start with silence for padding\n",
        "\n",
        "    for _, row in filtered_df.iterrows():\n",
        "        sentence = f\"Number {row['SID']}. {row['WORD']}! {row['WORD']} is {row['POS']}.\"\n",
        "        tts = gTTS(text=sentence, lang='en')\n",
        "        mp3_fp = io.BytesIO()\n",
        "        tts.write_to_fp(mp3_fp)\n",
        "        mp3_fp.seek(0)\n",
        "        sentence_audio = AudioSegment.from_file(mp3_fp, format=\"mp3\")\n",
        "        combined_audio += sentence_audio + AudioSegment.silent(duration=1500)\n",
        "\n",
        "    mp3_io = io.BytesIO()\n",
        "    combined_audio.export(mp3_io, format='mp3')\n",
        "    mp3_io.seek(0)\n",
        "    return mp3_io.getvalue()\n",
        "\n",
        "# Interface with updated level selection including all specified options\n",
        "iface = gr.Interface(\n",
        "    fn=generate_speech,\n",
        "    inputs=[\n",
        "        gr.Dropdown(label=\"Select Level (3K: A1, A2, B1, B2, C1; 5K: additional B2 and C1)\", choices=['A1', 'A2', 'B1', 'B2', 'C1', '5K']),  # Updated choices\n",
        "        gr.Number(label=\"Start Number (x)\"),\n",
        "        gr.Number(label=\"End Number (y)\")\n",
        "    ],\n",
        "    outputs=gr.Audio(label=\"Generated Speech\"),\n",
        "    title=\"Oxford Learner Vocabulary by CEFR levels: Learn with Sound\",\n",
        "    description=\"Choose a level and define the starting and ending numbers for that level. The system will create a single audio file formatted as 'Number 1. Word is a noun.' After submission, you have the option to download the audio file. Additionally, you can download the numbered lists for each level from the 'My Apps' section at https://mrkim21.github.io (web address)\"\n",
        ")\n",
        "\n",
        "iface.launch(share=True, debug=True)\n"
      ],
      "metadata": {
        "id": "Q3e0-m8E1CkS"
      },
      "execution_count": null,
      "outputs": []
    },
    {
      "cell_type": "markdown",
      "source": [
        "# [3] Add option for speech text (with or without numbering)"
      ],
      "metadata": {
        "id": "BgWouEVOFSvS"
      }
    },
    {
      "cell_type": "code",
      "source": [
        "import gradio as gr\n",
        "from gtts import gTTS\n",
        "from pydub import AudioSegment\n",
        "import pandas as pd\n",
        "import io\n",
        "\n",
        "csv_files = {\"A1\": \"OF3KA1.csv\", \"A2\": \"OF3KA2.csv\", \"B1\": \"OF3KB1.csv\", \"B2\": \"OF3KB2.csv\", \"C1\": \"OF3KC1.csv\", \"5K\": \"OF5K.csv\"}\n",
        "\n",
        "def load_data(level):\n",
        "    csv_file_path = f\"/content/{csv_files[level]}\"\n",
        "    data = pd.read_csv(csv_file_path)\n",
        "    return data\n",
        "\n",
        "def generate_speech(level, x, y, audio_option):\n",
        "    data = load_data(level)\n",
        "\n",
        "    x, y = int(x), int(y)\n",
        "    filtered_df = data[(data['SID'] >= x) & (data['SID'] <= y)]\n",
        "\n",
        "    combined_audio = AudioSegment.silent(duration=1000)\n",
        "\n",
        "    for _, row in filtered_df.iterrows():\n",
        "        if audio_option == \"Audio with number\":\n",
        "            sentence = f\"Number {row['SID']}. {row['SID']} is {row['POS']}.\"\n",
        "        else:  # \"Audio without number\"\n",
        "            sentence = f\"{row['WORD']}!\"\n",
        "\n",
        "        tts = gTTS(text=sentence, lang='en')\n",
        "        mp3_fp = io.BytesIO()\n",
        "        tts.write_to_fp(mp3_fp)\n",
        "        mp3_fp.seek(0)\n",
        "        sentence_audio = AudioSegment.from_file(mp3_fp, format=\"mp3\")\n",
        "        combined_audio += sentence_audio + AudioSegment.silent(duration=1500)\n",
        "\n",
        "    mp3_io = io.BytesIO()\n",
        "    combined_audio.export(mp3_io, format='mp3')\n",
        "    mp3_io.seek(0)\n",
        "    return mp3_io.getvalue()\n",
        "\n",
        "iface = gr.Interface(\n",
        "    fn=generate_speech,\n",
        "    inputs=[\n",
        "        gr.Dropdown(label=\"Select Level (3K: A1, A2, B1, B2, C1; 5K: additional B2 and C1)\", choices=['A1', 'A2', 'B1', 'B2', 'C1', '5K']),\n",
        "        gr.Number(label=\"Start Number (x)\"),\n",
        "        gr.Number(label=\"End Number (y)\"),\n",
        "        gr.Radio(label=\"Audio Option\", choices=[\"Audio with number\", \"Audio without number\"])\n",
        "    ],\n",
        "    outputs=gr.Audio(label=\"Generated Speech\"),\n",
        "    title=\"Oxford Learner Vocabulary by CEFR levels: Learn with Sound\",\n",
        "    description=\"Choose a level, define the starting and ending numbers, and select the audio option. The system will create a single audio file. After submission, you have the option to download the audio file.\"\n",
        ")\n",
        "\n",
        "iface.launch(share=True, debug=True)\n"
      ],
      "metadata": {
        "id": "NHZbgOCFFSJY"
      },
      "execution_count": null,
      "outputs": []
    },
    {
      "cell_type": "markdown",
      "source": [
        "# [4] Add POS options\n",
        "\n",
        "The user can select POS (Parts of Speech) for words in the given range (Start, End)"
      ],
      "metadata": {
        "id": "nh91gVqSN9Nq"
      }
    },
    {
      "cell_type": "code",
      "source": [
        "import gradio as gr\n",
        "from gtts import gTTS\n",
        "from pydub import AudioSegment\n",
        "import pandas as pd\n",
        "import io\n",
        "\n",
        "csv_files = {\"A1\": \"OF3KA1.csv\", \"A2\": \"OF3KA2.csv\", \"B1\": \"OF3KB1.csv\", \"B2\": \"OF3KB2.csv\", \"C1\": \"OF3KC1.csv\", \"5K\": \"OF5K.csv\"}\n",
        "\n",
        "def load_data(level):\n",
        "    csv_file_path = f\"/content/{csv_files[level]}\"\n",
        "    data = pd.read_csv(csv_file_path)\n",
        "    return data\n",
        "\n",
        "def generate_speech(level, x, y, audio_option, pos_filter):\n",
        "    data = load_data(level)\n",
        "\n",
        "    x, y = int(x), int(y)\n",
        "    if pos_filter != \"Any\":\n",
        "        filtered_df = data[(data['SID'] >= x) & (data['SID'] <= y) & (data['POS'].str.lower() == pos_filter.lower())]\n",
        "    else:\n",
        "        filtered_df = data[(data['SID'] >= x) & (data['SID'] <= y)]\n",
        "\n",
        "    combined_audio = AudioSegment.silent(duration=1000)\n",
        "\n",
        "    for _, row in filtered_df.iterrows():\n",
        "        if audio_option == \"Audio with number\":\n",
        "            # Correcting the sentence structure to include both SID and the word's details properly\n",
        "            sentence = f\"Number {row['SID']}. {row['WORD']}! {row['WORD']} is a {row['POS']}.\"\n",
        "        else:  # \"Audio without number\"\n",
        "            sentence = f\"{row['WORD']}!\"\n",
        "\n",
        "        tts = gTTS(text=sentence, lang='en')\n",
        "        mp3_fp = io.BytesIO()\n",
        "        tts.write_to_fp(mp3_fp)\n",
        "        mp3_fp.seek(0)\n",
        "        sentence_audio = AudioSegment.from_file(mp3_fp, format=\"mp3\")\n",
        "        combined_audio += sentence_audio + AudioSegment.silent(duration=1500)\n",
        "\n",
        "    mp3_io = io.BytesIO()\n",
        "    combined_audio.export(mp3_io, format='mp3')\n",
        "    mp3_io.seek(0)\n",
        "    return mp3_io.getvalue()\n",
        "\n",
        "\n",
        "iface = gr.Interface(\n",
        "    fn=generate_speech,\n",
        "    inputs=[\n",
        "        gr.Dropdown(label=\"Select Level\", choices=['A1', 'A2', 'B1', 'B2', 'C1', '5K']),\n",
        "        gr.Number(label=\"Range: Start Number (x)\"),\n",
        "        gr.Number(label=\"Range: End Number (y)\"),\n",
        "        gr.Radio(label=\"Audio Option\", choices=[\"Audio with number\", \"Audio without number\"]),\n",
        "        gr.Dropdown(label=\"Select Part of Speech\", choices=[\"Any\", \"Noun\", \"Verb\", \"Adjective\", \"Adverb\"])  # Corrected line\n",
        "    ],\n",
        "    outputs=gr.Audio(label=\"Generated Speech\"),\n",
        "    title=\"Oxford Learner Vocabulary by CEFR levels: Learn with Sound\",\n",
        "    description=\"Choose a level, define the starting and ending numbers, select the audio option, and filter by Part of Speech if desired. The system will create a single audio file. After submission, you have the option to download the audio file.\"\n",
        ")\n",
        "\n",
        "iface.launch(share=True, debug=True)\n"
      ],
      "metadata": {
        "id": "DAFD3_21N_fH"
      },
      "execution_count": null,
      "outputs": []
    },
    {
      "cell_type": "markdown",
      "source": [
        "# 🌀 [5] Revise the POS options (ALL, A1, A2, ...): Final version\n",
        "\n",
        "+ If there is no word matching the selected POS, the speech should say something like, \"There is no {POS} matching to your selection in the given range\""
      ],
      "metadata": {
        "id": "qbj_H946VSe3"
      }
    },
    {
      "cell_type": "code",
      "source": [
        "import gradio as gr\n",
        "from gtts import gTTS\n",
        "from pydub import AudioSegment\n",
        "import pandas as pd\n",
        "import io\n",
        "\n",
        "csv_files = {\"A1\": \"OF3KA1.csv\", \"A2\": \"OF3KA2.csv\", \"B1\": \"OF3KB1.csv\", \"B2\": \"OF3KB2.csv\", \"C1\": \"OF3KC1.csv\", \"5K\": \"OF5K.csv\"}\n",
        "\n",
        "def load_data(level):\n",
        "    csv_file_path = f\"/content/{csv_files[level]}\"\n",
        "    data = pd.read_csv(csv_file_path)\n",
        "    return data\n",
        "\n",
        "def generate_speech(level, x, y, audio_option, pos_filter):\n",
        "    data = load_data(level)\n",
        "\n",
        "    x, y = int(x), int(y)\n",
        "    if pos_filter != \"ALL\":  # If a specific POS is selected, filter by it\n",
        "        filtered_df = data[(data['SID'] >= x) & (data['SID'] <= y) & (data['POS'].str.lower() == pos_filter.lower())]\n",
        "    else:  # Include all words if \"ALL\" is selected\n",
        "        filtered_df = data[(data['SID'] >= x) & (data['SID'] <= y)]\n",
        "\n",
        "    if len(filtered_df) == 0:  # Check if the filtered DataFrame is empty\n",
        "        sentence = f\"There is no {pos_filter} in the selected range.\"\n",
        "        tts = gTTS(text=sentence, lang='en')\n",
        "        mp3_fp = io.BytesIO()\n",
        "        tts.write_to_fp(mp3_fp)\n",
        "        mp3_fp.seek(0)\n",
        "        sentence_audio = AudioSegment.from_file(mp3_fp, format=\"mp3\")\n",
        "        combined_audio = sentence_audio\n",
        "    else:\n",
        "        combined_audio = AudioSegment.silent(duration=1000)\n",
        "        for _, row in filtered_df.iterrows():\n",
        "            if audio_option == \"Audio with number\":\n",
        "                sentence = f\"Number {row['SID']}. {row['WORD']} is a {row['POS']}.\"\n",
        "            else:  # \"Audio without number\"\n",
        "                sentence = f\"{row['WORD']}!\"\n",
        "\n",
        "            tts = gTTS(text=sentence, lang='en')\n",
        "            mp3_fp = io.BytesIO()\n",
        "            tts.write_to_fp(mp3_fp)\n",
        "            mp3_fp.seek(0)\n",
        "            sentence_audio = AudioSegment.from_file(mp3_fp, format=\"mp3\")\n",
        "            combined_audio += sentence_audio + AudioSegment.silent(duration=1500)\n",
        "\n",
        "    mp3_io = io.BytesIO()\n",
        "    combined_audio.export(mp3_io, format='mp3')\n",
        "    mp3_io.seek(0)\n",
        "    return mp3_io.getvalue()\n",
        "\n",
        "\n",
        "iface = gr.Interface(\n",
        "    fn=generate_speech,\n",
        "    inputs=[\n",
        "        gr.Dropdown(label=\"Select Level\", choices=['A1', 'A2', 'B1', 'B2', 'C1', '5K']),\n",
        "        gr.Number(label=\"Start Number (x)\"),\n",
        "        gr.Number(label=\"End Number (y)\"),\n",
        "        gr.Radio(label=\"Audio Option\", choices=[\"Audio with number\", \"Audio without number\"]),\n",
        "        gr.Dropdown(label=\"Select Part of Speech\", choices=[\"ALL\", \"Noun\", \"Verb\", \"Adjective\", \"Adverb\", \"Preposition\"])  # Updated POS filter input\n",
        "    ],\n",
        "    outputs=gr.Audio(label=\"Generated Speech\"),\n",
        "    title=\"Oxford Learner Vocabulary by CEFR levels: Learn with Sound\",\n",
        "    description=\"Choose a level, define the starting and ending numbers, select the audio option, and filter by Part of Speech if desired. The system will create a single audio file. After submission, you have the option to download the audio file.\"\n",
        ")\n",
        "\n",
        "iface.launch(share=True, debug=True)\n"
      ],
      "metadata": {
        "id": "4sW9IXg-RQx9"
      },
      "execution_count": null,
      "outputs": []
    }
  ]
}