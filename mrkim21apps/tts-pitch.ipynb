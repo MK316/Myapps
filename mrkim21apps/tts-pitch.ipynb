{
  "nbformat": 4,
  "nbformat_minor": 0,
  "metadata": {
    "colab": {
      "private_outputs": true,
      "provenance": [],
      "authorship_tag": "ABX9TyOEFpm0hZBL26eNwYgoGDhb",
      "include_colab_link": true
    },
    "kernelspec": {
      "name": "python3",
      "display_name": "Python 3"
    },
    "language_info": {
      "name": "python"
    }
  },
  "cells": [
    {
      "cell_type": "markdown",
      "metadata": {
        "id": "view-in-github",
        "colab_type": "text"
      },
      "source": [
        "<a href=\"https://colab.research.google.com/github/MK316/Myapps/blob/main/mrkim21apps/tts-pitch.ipynb\" target=\"_parent\"><img src=\"https://colab.research.google.com/assets/colab-badge.svg\" alt=\"Open In Colab\"/></a>"
      ]
    },
    {
      "cell_type": "markdown",
      "source": [
        "# TTS with pitch contour (240202)"
      ],
      "metadata": {
        "id": "-q2NdA8h-KFj"
      }
    },
    {
      "cell_type": "code",
      "execution_count": null,
      "metadata": {
        "id": "qlvgE_h58BMP"
      },
      "outputs": [],
      "source": [
        "!pip install gtts matplotlib librosa IPython"
      ]
    },
    {
      "cell_type": "code",
      "source": [
        "from ipywidgets import Button\n",
        "from IPython.display import Audio, display\n"
      ],
      "metadata": {
        "id": "8rDZ-_P-8X07"
      },
      "execution_count": null,
      "outputs": []
    },
    {
      "cell_type": "code",
      "source": [
        "# !pip install gtts matplotlib librosa IPython ipywidgets\n",
        "\n",
        "import io\n",
        "from gtts import gTTS\n",
        "from ipywidgets import Button, Output\n",
        "from IPython.display import Audio, display\n",
        "import librosa\n",
        "import librosa.display\n",
        "import matplotlib.pyplot as plt\n",
        "import numpy as np\n",
        "\n",
        "# Function to extract and plot the pitch contour\n",
        "def plot_pitch_contour(audio_file_path):\n",
        "    y, sr = librosa.load(audio_file_path, sr=None)\n",
        "    fmin = librosa.note_to_hz('C2')\n",
        "    fmax = librosa.note_to_hz('C6')\n",
        "    pitch, voiced_flag, voiced_probs = librosa.pyin(y, fmin=fmin, fmax=fmax, sr=sr)\n",
        "    pitch[~np.isfinite(pitch)] = 0\n",
        "    plt.figure(figsize=(14, 5))\n",
        "    librosa.display.waveshow(y, sr=sr)\n",
        "    times = librosa.times_like(pitch, sr=sr)\n",
        "    for i in range(len(pitch)):\n",
        "        if pitch[i] > 0:\n",
        "            plt.plot(times[i], pitch[i], 'ro')\n",
        "    plt.title('Pitch Contour')\n",
        "    plt.xlabel('Time (s)')\n",
        "    plt.ylabel('Pitch (Hz)')\n",
        "    plt.ylim(0, 350)\n",
        "    plt.show()\n",
        "\n",
        "# Function to generate speech and plot pitch contour\n",
        "def generate_speech_and_plot_contour(text, lang='en'):\n",
        "    tts = gTTS(text=text, lang=lang)\n",
        "    audio_fp = io.BytesIO()\n",
        "    tts.write_to_fp(audio_fp)\n",
        "    audio_fp.seek(0)\n",
        "\n",
        "    # Save the audio to a file\n",
        "    output_file = '/content/output.wav'\n",
        "    with open(output_file, \"wb\") as f:\n",
        "        f.seek(0)\n",
        "        f.write(audio_fp.getvalue())\n",
        "\n",
        "    # Display the generated audio\n",
        "    print(f\"This is one possible intonation of: {text}\")\n",
        "    display(Audio(output_file))\n",
        "\n",
        "    # Plot the pitch contour\n",
        "    plot_pitch_contour(output_file)\n",
        "\n",
        "# Widget output for interactive display\n",
        "output = Output()\n",
        "\n",
        "# Handlers for buttons\n",
        "@output.capture(clear_output=True)\n",
        "def on_click_en(b):\n",
        "    generate_speech_and_plot_contour(text_en, 'en')\n",
        "\n",
        "@output.capture(clear_output=True)\n",
        "def on_click_ko(b):\n",
        "    generate_speech_and_plot_contour(text_ko, 'ko')\n",
        "\n",
        "# Initialize buttons\n",
        "button_en = Button(description=\"Speak English\")\n",
        "button_ko = Button(description=\"Speak Korean\")\n",
        "\n",
        "# Assign event handlers\n",
        "button_en.on_click(on_click_en)\n",
        "button_ko.on_click(on_click_ko)\n",
        "\n",
        "# Display buttons\n",
        "display(button_en, button_ko, output)\n",
        "\n",
        "# Example text for English and Korean\n",
        "text_en = \"Hello, how are you?\"\n",
        "text_ko = \"안녕하세요, 어떻게 지내세요?\"\n"
      ],
      "metadata": {
        "id": "0trPYE4F8Exg"
      },
      "execution_count": null,
      "outputs": []
    },
    {
      "cell_type": "markdown",
      "source": [
        "# Gradio"
      ],
      "metadata": {
        "id": "Du_u89Qk-Ep8"
      }
    },
    {
      "cell_type": "code",
      "source": [
        "!pip install gradio"
      ],
      "metadata": {
        "id": "TU_mhLWE-GTh"
      },
      "execution_count": null,
      "outputs": []
    },
    {
      "cell_type": "code",
      "source": [
        "import gradio as gr\n",
        "import librosa\n",
        "import librosa.display\n",
        "import matplotlib.pyplot as plt\n",
        "import numpy as np\n",
        "from gtts import gTTS\n",
        "import io\n",
        "import os\n",
        "\n",
        "# This function is adapted to work with Gradio\n",
        "def generate_speech(text, lang='en'):\n",
        "    tts = gTTS(text=text, lang=lang)\n",
        "    audio_fp = io.BytesIO()\n",
        "    tts.write_to_fp(audio_fp)\n",
        "    audio_fp.seek(0)\n",
        "    output_file = 'output.wav'\n",
        "    with open(output_file, \"wb\") as f:\n",
        "        f.write(audio_fp.getvalue())\n",
        "    return output_file\n",
        "\n",
        "def plot_pitch_contour(audio_file_path):\n",
        "    y, sr = librosa.load(audio_file_path, sr=None)\n",
        "    fmin = librosa.note_to_hz('C2')\n",
        "    fmax = librosa.note_to_hz('C6')\n",
        "    pitch, voiced_flag, voiced_probs = librosa.pyin(y, fmin=fmin, fmax=fmax, sr=sr)\n",
        "    pitch[~np.isfinite(pitch)] = 0\n",
        "    plt.figure(figsize=(14, 5))\n",
        "    librosa.display.waveshow(y, sr=sr)\n",
        "    times = librosa.times_like(pitch, sr=sr)\n",
        "    for i in range(len(pitch)):\n",
        "        if pitch[i] > 0:\n",
        "            plt.plot(times[i], pitch[i], 'ro')\n",
        "    plt.title('Pitch Contour')\n",
        "    plt.xlabel('Time (s)')\n",
        "    plt.ylabel('Pitch (Hz)')\n",
        "    plt.ylim(0, 350)\n",
        "    plt.savefig('pitch_contour.png')\n",
        "    plt.close()\n",
        "    return 'pitch_contour.png'\n",
        "\n",
        "def generate_and_plot(text, lang):\n",
        "    audio_file = generate_speech(text, lang)\n",
        "    plot_img = plot_pitch_contour(audio_file)\n",
        "    return audio_file, plot_img\n",
        "\n",
        "# Gradio interface\n",
        "iface = gr.Interface(fn=generate_and_plot,\n",
        "                     inputs=[gr.Textbox(label=\"Enter Text\"), gr.Radio(['en', 'ko'], label=\"Language\")],\n",
        "                     outputs=[gr.Audio(label=\"Generated Speech\"), gr.Image(label=\"Pitch Contour\")],\n",
        "                     title=\"Speech Generation and Pitch Contour Visualization\",\n",
        "                     description=\"Generates speech from text and visualizes the pitch contour. Select a language and enter text to see the results.\")\n",
        "\n",
        "iface.launch()\n"
      ],
      "metadata": {
        "id": "NQlyrssO-U9z"
      },
      "execution_count": null,
      "outputs": []
    }
  ]
}