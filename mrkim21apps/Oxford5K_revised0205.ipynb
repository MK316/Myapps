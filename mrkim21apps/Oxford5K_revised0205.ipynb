{
  "nbformat": 4,
  "nbformat_minor": 0,
  "metadata": {
    "colab": {
      "private_outputs": true,
      "provenance": [],
      "authorship_tag": "ABX9TyOYWfgRVnMR/GA3gdu1fOU5",
      "include_colab_link": true
    },
    "kernelspec": {
      "name": "python3",
      "display_name": "Python 3"
    },
    "language_info": {
      "name": "python"
    }
  },
  "cells": [
    {
      "cell_type": "markdown",
      "metadata": {
        "id": "view-in-github",
        "colab_type": "text"
      },
      "source": [
        "<a href=\"https://colab.research.google.com/github/MK316/Myapps/blob/main/mrkim21apps/Oxford5K_revised0205.ipynb\" target=\"_parent\"><img src=\"https://colab.research.google.com/assets/colab-badge.svg\" alt=\"Open In Colab\"/></a>"
      ]
    },
    {
      "cell_type": "markdown",
      "source": [
        "# Oxford 5K (revised version asof 0205)"
      ],
      "metadata": {
        "id": "aJkLgHL_tgGh"
      }
    },
    {
      "cell_type": "code",
      "source": [
        "!pip install gradio gtts pydub"
      ],
      "metadata": {
        "id": "Yj1y3TpicMua"
      },
      "execution_count": null,
      "outputs": []
    },
    {
      "cell_type": "code",
      "source": [
        "import gradio as gr\n",
        "from gtts import gTTS\n",
        "from pydub import AudioSegment\n",
        "import pandas as pd\n",
        "import io\n",
        "\n",
        "csv_files = {\"A1\": \"OF3KA1.csv\", \"A2\": \"OF3KA2.csv\", \"B1\": \"OF3KB1.csv\", \"B2\": \"OF3KB2.csv\", \"C1\": \"OF3KC1.csv\", \"5K\": \"OF5K.csv\"}\n",
        "\n",
        "def load_data(level):\n",
        "    csv_file_path = f\"./{csv_files[level]}\"\n",
        "    data = pd.read_csv(csv_file_path)\n",
        "    return data\n",
        "\n",
        "def generate_speech(t1, level, t2, x, y, t3, audio_option, t4, all_pos, noun, verb, adjective, adverb, preposition):\n",
        "    data = load_data(level)\n",
        "\n",
        "    x, y = int(x), int(y)\n",
        "\n",
        "    if all_pos:  # Include all words if \"ALL\" is selected\n",
        "        filtered_df = data[(data['SID'] >= x) & (data['SID'] <= y)]\n",
        "    else:\n",
        "        # Initialize an empty DataFrame to accumulate results\n",
        "        filtered_df = pd.DataFrame()\n",
        "\n",
        "        # Check each selected POS and append matches to the filtered_df\n",
        "        if noun:\n",
        "            filtered_df = filtered_df.append(data[(data['SID'] >= x) & (data['SID'] <= y) & (data['POS'].str.lower() == 'noun')])\n",
        "        if verb:\n",
        "            filtered_df = filtered_df.append(data[(data['SID'] >= x) & (data['SID'] <= y) & (data['POS'].str.lower() == 'verb')])\n",
        "        if adjective:\n",
        "            filtered_df = filtered_df.append(data[(data['SID'] >= x) & (data['SID'] <= y) & (data['POS'].str.lower() == 'adjective')])\n",
        "        if adverb:\n",
        "            filtered_df = filtered_df.append(data[(data['SID'] >= x) & (data['SID'] <= y) & (data['POS'].str.lower() == 'adverb')])\n",
        "        if preposition:\n",
        "            filtered_df = filtered_df.append(data[(data['SID'] >= x) & (data['SID'] <= y) & (data['POS'].str.lower() == 'preposition')])\n",
        "\n",
        "    # Ensure the filtered_df is unique in case of overlapping conditions\n",
        "    filtered_df = filtered_df.drop_duplicates()\n",
        "\n",
        "\n",
        "    # Proceed with generating the speech\n",
        "    combined_audio = AudioSegment.silent(duration=1000)  # Initial silence\n",
        "    if filtered_df.empty:\n",
        "        sentence = \"No matching words found.\"\n",
        "        tts = gTTS(text=sentence, lang='en')\n",
        "        mp3_fp = io.BytesIO()\n",
        "        tts.write_to_fp(mp3_fp)\n",
        "        mp3_fp.seek(0)\n",
        "    else:\n",
        "        for _, row in filtered_df.iterrows():\n",
        "            # Adjust the sentence based on the audio_option\n",
        "            if audio_option == \"Audio without number\":\n",
        "                sentence = f\"{row['WORD']} is {row['POS']}\"\n",
        "            elif audio_option == \"Audio with number\":\n",
        "                sentence = f\"{row['SID']}. {row['WORD']}. {row['WORD']} is {row['POS']}\"\n",
        "            else:  # \"Word only\"\n",
        "                sentence = f\"{row['WORD']}\"\n",
        "\n",
        "            tts = gTTS(text=sentence, lang='en')\n",
        "            mp3_fp = io.BytesIO()\n",
        "            tts.write_to_fp(mp3_fp)\n",
        "            mp3_fp.seek(0)\n",
        "            sentence_audio = AudioSegment.from_file(mp3_fp, format=\"mp3\")\n",
        "            # Add a pause after each word\n",
        "            combined_audio += sentence_audio + AudioSegment.silent(duration=1000)\n",
        "\n",
        "    mp3_io = io.BytesIO()\n",
        "    combined_audio.export(mp3_io, format='mp3')\n",
        "    mp3_io.seek(0)\n",
        "    return mp3_io.getvalue()\n",
        "\n",
        "\n",
        "# Adjust inputs for POS with checkboxes\n",
        "iface = gr.Interface(\n",
        "    fn=generate_speech,\n",
        "    inputs=[\n",
        "        gr.Markdown(\"#### [1] Select Level\"),  # Adding a label for POS options\n",
        "        gr.Dropdown(label=\"Select Level\", choices=['A1', 'A2', 'B1', 'B2', 'C1', '5K']),\n",
        "        gr.Markdown(\"#### [2] Select Range\"),\n",
        "        gr.Number(label= \"Start Number (x)\"),\n",
        "        gr.Number(label = \"End Number (y)\"),\n",
        "        gr.Markdown(\"#### [3] Audio options (text)\"),\n",
        "        gr.Radio(label=\"Audio Option\", choices=[\"Audio with number\", \"Audio without number\", \"Word only\"]),\n",
        "        gr.Markdown(\"#### Select Part of Speech\"),  # Adding a label for POS options\n",
        "        gr.Checkbox(label=\"Any\", value=False),\n",
        "        gr.Checkbox(label=\"Noun\", value=False),\n",
        "        gr.Checkbox(label=\"Verb\", value=False),\n",
        "        gr.Checkbox(label=\"Adjective\", value=False),\n",
        "        gr.Checkbox(label=\"Adverb\", value=False),\n",
        "        gr.Checkbox(label=\"Preposition\", value=False)\n",
        "    ],\n",
        "    outputs=gr.Audio(label=\"Generated Speech\"),\n",
        "    title=\"Oxford Learner Vocabulary by CEFR levels: Learn with Sound\",\n",
        "    description=\"Choose a level, define the starting and ending numbers, select the audio option, and filter by Part of Speech if desired. The system will create a single audio file. After submission, you have the option to download the audio file.\"\n",
        ")\n",
        "\n",
        "iface.launch(share=True, debug=True)\n"
      ],
      "metadata": {
        "id": "xFq4ZUaedHtL"
      },
      "execution_count": null,
      "outputs": []
    },
    {
      "cell_type": "markdown",
      "source": [
        "# App previous version (24. 02. 05)"
      ],
      "metadata": {
        "id": "Xk9vMZWLrUUE"
      }
    },
    {
      "cell_type": "code",
      "source": [
        "import gradio as gr\n",
        "from gtts import gTTS\n",
        "from pydub import AudioSegment\n",
        "import pandas as pd\n",
        "import io\n",
        "\n",
        "csv_files = {\"A1\": \"OF3KA1.csv\", \"A2\": \"OF3KA2.csv\", \"B1\": \"OF3KB1.csv\", \"B2\": \"OF3KB2.csv\", \"C1\": \"OF3KC1.csv\", \"5K\": \"OF5K.csv\"}\n",
        "\n",
        "def load_data(level):\n",
        "    csv_file_path = f\"./{csv_files[level]}\"\n",
        "    data = pd.read_csv(csv_file_path)\n",
        "    return data\n",
        "\n",
        "def generate_speech(level, x, y, audio_option, pos_filter):\n",
        "    data = load_data(level)\n",
        "\n",
        "    x, y = int(x), int(y)\n",
        "    if pos_filter != \"ALL\":  # If a specific POS is selected, filter by it\n",
        "        filtered_df = data[(data['SID'] >= x) & (data['SID'] <= y) & (data['POS'].str.lower() == pos_filter.lower())]\n",
        "    else:  # Include all words if \"ALL\" is selected\n",
        "        filtered_df = data[(data['SID'] >= x) & (data['SID'] <= y)]\n",
        "\n",
        "    if len(filtered_df) == 0:  # Check if the filtered DataFrame is empty\n",
        "        sentence = f\"There is no {pos_filter} in the selected range.\"\n",
        "        tts = gTTS(text=sentence, lang='en')\n",
        "        mp3_fp = io.BytesIO()\n",
        "        tts.write_to_fp(mp3_fp)\n",
        "        mp3_fp.seek(0)\n",
        "        sentence_audio = AudioSegment.from_file(mp3_fp, format=\"mp3\")\n",
        "        combined_audio = sentence_audio\n",
        "    else:\n",
        "        combined_audio = AudioSegment.silent(duration=1000)\n",
        "        for _, row in filtered_df.iterrows():\n",
        "            if audio_option == \"Audio with number\":\n",
        "                sentence = f\"Number {row['SID']}. {row['WORD']}!  {row['WORD']} is a {row['POS']}.\"\n",
        "            else:  # \"Audio without number\"\n",
        "                sentence = f\"{row['WORD']}!\"\n",
        "\n",
        "            tts = gTTS(text=sentence, lang='en')\n",
        "            mp3_fp = io.BytesIO()\n",
        "            tts.write_to_fp(mp3_fp)\n",
        "            mp3_fp.seek(0)\n",
        "            sentence_audio = AudioSegment.from_file(mp3_fp, format=\"mp3\")\n",
        "            combined_audio += sentence_audio + AudioSegment.silent(duration=1500)\n",
        "\n",
        "    mp3_io = io.BytesIO()\n",
        "    combined_audio.export(mp3_io, format='mp3')\n",
        "    mp3_io.seek(0)\n",
        "    return mp3_io.getvalue()\n",
        "\n",
        "\n",
        "iface = gr.Interface(\n",
        "    fn=generate_speech,\n",
        "    inputs=[\n",
        "        gr.Dropdown(label=\"Select Level\", choices=['A1', 'A2', 'B1', 'B2', 'C1', '5K']),\n",
        "        gr.Number(label=\"Start Number (x)\"),\n",
        "        gr.Number(label=\"End Number (y)\"),\n",
        "        gr.Radio(label=\"Audio Option\", choices=[\"Audio with number\", \"Audio without number\"]),\n",
        "        gr.Dropdown(label=\"Select Part of Speech\", choices=[\"ALL\", \"Noun\", \"Verb\", \"Adjective\", \"Adverb\", \"Preposition\"])  # Updated POS filter input\n",
        "    ],\n",
        "    outputs=gr.Audio(label=\"Generated Speech\"),\n",
        "    title=\"Oxford Learner Vocabulary by CEFR levels: Learn with Sound\",\n",
        "    description=\"Choose a level, define the starting and ending numbers, select the audio option, and filter by Part of Speech if desired. The system will create a single audio file. After submission, you have the option to download the audio file.\"\n",
        ")\n",
        "\n",
        "iface.launch(share=True, debug=True)\n"
      ],
      "metadata": {
        "id": "wOuDQ_tzrSnQ"
      },
      "execution_count": null,
      "outputs": []
    }
  ]
}