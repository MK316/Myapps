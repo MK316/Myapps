{
  "nbformat": 4,
  "nbformat_minor": 0,
  "metadata": {
    "colab": {
      "private_outputs": true,
      "provenance": [],
      "authorship_tag": "ABX9TyPi2tc4zte4szj4oDpqtHOJ",
      "include_colab_link": true
    },
    "kernelspec": {
      "name": "python3",
      "display_name": "Python 3"
    },
    "language_info": {
      "name": "python"
    }
  },
  "cells": [
    {
      "cell_type": "markdown",
      "metadata": {
        "id": "view-in-github",
        "colab_type": "text"
      },
      "source": [
        "<a href=\"https://colab.research.google.com/github/MK316/Myapps/blob/main/mrkim21apps/korean_english.ipynb\" target=\"_parent\"><img src=\"https://colab.research.google.com/assets/colab-badge.svg\" alt=\"Open In Colab\"/></a>"
      ]
    },
    {
      "cell_type": "markdown",
      "source": [
        "# Loanword pronunciation practice application"
      ],
      "metadata": {
        "id": "aiY4n9wpHaCR"
      }
    },
    {
      "cell_type": "markdown",
      "source": [
        "# Install packages"
      ],
      "metadata": {
        "id": "wqLccyWOHhAa"
      }
    },
    {
      "cell_type": "code",
      "execution_count": null,
      "metadata": {
        "id": "2GocCi6PHZOf"
      },
      "outputs": [],
      "source": [
        "!pip install gtts gradio"
      ]
    },
    {
      "cell_type": "code",
      "source": [
        "!pip install pydub"
      ],
      "metadata": {
        "id": "KB1s-sGiONLP"
      },
      "execution_count": null,
      "outputs": []
    },
    {
      "cell_type": "markdown",
      "source": [
        "# Data to read\n",
        "\n",
        "FWords_phonemes.csv"
      ],
      "metadata": {
        "id": "nTLs2tkSHxyU"
      }
    },
    {
      "cell_type": "code",
      "source": [
        "import pandas as pd\n",
        "\n",
        "url = \"https://raw.githubusercontent.com/MK316/Spring2024/main/data/FKE.csv\"\n",
        "# Read the CSV file\n",
        "df = pd.read_csv(url, encoding='utf-8')"
      ],
      "metadata": {
        "id": "EysW9h0uHmjp"
      },
      "execution_count": null,
      "outputs": []
    },
    {
      "cell_type": "markdown",
      "source": [
        "Selecting data"
      ],
      "metadata": {
        "id": "ikG_WJNJH_N2"
      }
    },
    {
      "cell_type": "code",
      "source": [
        "df.head()"
      ],
      "metadata": {
        "id": "voJ5wWh5H-oS"
      },
      "execution_count": null,
      "outputs": []
    },
    {
      "cell_type": "markdown",
      "source": [
        "# Gradio"
      ],
      "metadata": {
        "id": "XtZR2c74LdPx"
      }
    },
    {
      "cell_type": "markdown",
      "source": [
        "Remove unnecessary strings (number) for example.\n",
        "\n",
        "```\n",
        "df['Entry'] = df['Entry'].str.replace(r\"\\(\\d+\\)\", \"\", regex=True)\n",
        "```"
      ],
      "metadata": {
        "id": "kNWRfWDWVS-L"
      }
    },
    {
      "cell_type": "markdown",
      "source": [
        "Gradio implementation"
      ],
      "metadata": {
        "id": "X5UPGkGGVYXu"
      }
    },
    {
      "cell_type": "code",
      "source": [
        "#@markdown [1] Gradio implemented app (audo generate without Submit)\n",
        "import gradio as gr\n",
        "from gtts import gTTS\n",
        "from pydub import AudioSegment\n",
        "import pandas as pd\n",
        "import tempfile\n",
        "from io import BytesIO\n",
        "\n",
        "# Assuming 'df' is your DataFrame and is already loaded at this point\n",
        "\n",
        "# Function to generate speech and combine two audios\n",
        "def generate_speech(index):\n",
        "    # Adjust for zero-based index\n",
        "    adjusted_index = index - 1\n",
        "\n",
        "    # Check if the provided index is within the range of the DataFrame\n",
        "    if adjusted_index < 0 or adjusted_index >= len(df):\n",
        "        return \"Index out of range\", None\n",
        "\n",
        "    # Get the Korean and English words from the DataFrame\n",
        "    korean_word = df.iloc[adjusted_index]['Entry']\n",
        "    english_word = df.iloc[adjusted_index]['Eword']\n",
        "\n",
        "    # Generate TTS for Korean\n",
        "    tts_ko = gTTS(text=korean_word, lang='ko')\n",
        "    ko_buffer = BytesIO()\n",
        "    tts_ko.write_to_fp(ko_buffer)\n",
        "    ko_buffer.seek(0)\n",
        "    ko_audio = AudioSegment.from_file(ko_buffer, format=\"mp3\")\n",
        "\n",
        "    # Generate TTS for English\n",
        "    tts_en = gTTS(text=english_word, lang='en')\n",
        "    en_buffer = BytesIO()\n",
        "    tts_en.write_to_fp(en_buffer)\n",
        "    en_buffer.seek(0)\n",
        "    en_audio = AudioSegment.from_file(en_buffer, format=\"mp3\")\n",
        "\n",
        "    # Add a 2-second pause between the words\n",
        "    pause = AudioSegment.silent(duration=1000)\n",
        "\n",
        "    # Combine the two audios with a pause in between\n",
        "    combined_audio = ko_audio + pause + en_audio\n",
        "\n",
        "    # Save combined audio to a temporary file\n",
        "    with tempfile.NamedTemporaryFile(delete=False, suffix='.mp3') as fp:\n",
        "        combined_audio.export(fp, format='mp3')\n",
        "        # Return the file path\n",
        "        return fp.name\n",
        "\n",
        "# Use the Blocks API to create a more custom layout\n",
        "with gr.Blocks() as demo:\n",
        "    gr.Markdown(\"### Enter row index starting from 1\")\n",
        "    with gr.Row():\n",
        "        with gr.Column():\n",
        "            df_block = gr.Dataframe(df)\n",
        "        with gr.Column():\n",
        "            index_input = gr.Number(value=1, label=\"Row Index\")\n",
        "            audio_output = gr.Audio(label=\"Combined Speech\")\n",
        "            index_input.change(fn=generate_speech, inputs=index_input, outputs=audio_output)\n",
        "\n",
        "# Launch the interface\n",
        "demo.launch(debug=True)\n"
      ],
      "metadata": {
        "cellView": "form",
        "id": "cNdsYlJ7TPQL"
      },
      "execution_count": null,
      "outputs": []
    },
    {
      "cell_type": "code",
      "source": [
        "#@markdown [2] Gradio implementation: with Submit button\n",
        "import gradio as gr\n",
        "from gtts import gTTS\n",
        "from pydub import AudioSegment\n",
        "import pandas as pd\n",
        "import tempfile\n",
        "from io import BytesIO\n",
        "\n",
        "url = \"https://raw.githubusercontent.com/MK316/Spring2024/main/data/FKE.csv\"\n",
        "df = pd.read_csv(url)\n",
        "\n",
        "# Function to generate speech and combine two audios\n",
        "def generate_speech(index):\n",
        "    # Adjust for zero-based index\n",
        "    adjusted_index = int(index) - 1  # Ensure index is an integer\n",
        "\n",
        "    # Check if the provided index is within the range of the DataFrame\n",
        "    if adjusted_index < 0 or adjusted_index >= len(df):\n",
        "        return \"Index out of range\", None\n",
        "\n",
        "    # Get the Korean and English words from the DataFrame\n",
        "    korean_word = df.iloc[adjusted_index]['Entry']\n",
        "    english_word = df.iloc[adjusted_index]['Eword']\n",
        "\n",
        "    # Generate TTS for Korean\n",
        "    tts_ko = gTTS(text=korean_word, lang='ko')\n",
        "    ko_buffer = BytesIO()\n",
        "    tts_ko.write_to_fp(ko_buffer)\n",
        "    ko_buffer.seek(0)\n",
        "    ko_audio = AudioSegment.from_file(ko_buffer, format=\"mp3\")\n",
        "\n",
        "    # Generate TTS for English\n",
        "    tts_en = gTTS(text=english_word, lang='en')\n",
        "    en_buffer = BytesIO()\n",
        "    tts_en.write_to_fp(en_buffer)\n",
        "    en_buffer.seek(0)\n",
        "    en_audio = AudioSegment.from_file(en_buffer, format=\"mp3\")\n",
        "\n",
        "    # Add a 2-second pause between the words\n",
        "    pause = AudioSegment.silent(duration=700)\n",
        "\n",
        "    # Combine the two audios with a pause in between\n",
        "    combined_audio = ko_audio + pause + en_audio\n",
        "\n",
        "    # Save combined audio to a temporary file\n",
        "    with tempfile.NamedTemporaryFile(delete=False, suffix='.mp3') as fp:\n",
        "        combined_audio.export(fp, format='mp3')\n",
        "        # Return the file path\n",
        "        return fp.name\n",
        "\n",
        "# Use the Blocks API to create a more custom layout\n",
        "with gr.Blocks() as demo:\n",
        "    gr.Markdown(\"## Enter row number (SID) to generate speech for the Entry and English word.\")\n",
        "    with gr.Row():\n",
        "        with gr.Column():\n",
        "            df_block = gr.Dataframe(df)\n",
        "        with gr.Column():\n",
        "            index_input = gr.Number(value=1, label=\"Type the number to listen\")\n",
        "            submit_btn = gr.Button(\"Generate Audio\")\n",
        "            audio_output = gr.Audio(label=\"Audio: Korean vs. English\")\n",
        "            # Use the button's click event to trigger the generation\n",
        "            submit_btn.click(fn=generate_speech, inputs=index_input, outputs=audio_output)\n",
        "\n",
        "# Launch the interface\n",
        "demo.launch(debug=True)\n"
      ],
      "metadata": {
        "id": "3FcSos_QV7Yq"
      },
      "execution_count": null,
      "outputs": []
    }
  ]
}