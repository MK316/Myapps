{
  "nbformat": 4,
  "nbformat_minor": 0,
  "metadata": {
    "colab": {
      "private_outputs": true,
      "provenance": [],
      "authorship_tag": "ABX9TyPU6j0WFGYvQaGphahLEo94",
      "include_colab_link": true
    },
    "kernelspec": {
      "name": "python3",
      "display_name": "Python 3"
    },
    "language_info": {
      "name": "python"
    }
  },
  "cells": [
    {
      "cell_type": "markdown",
      "metadata": {
        "id": "view-in-github",
        "colab_type": "text"
      },
      "source": [
        "<a href=\"https://colab.research.google.com/github/MK316/Myapps/blob/main/TCE.ipynb\" target=\"_parent\"><img src=\"https://colab.research.google.com/assets/colab-badge.svg\" alt=\"Open In Colab\"/></a>"
      ]
    },
    {
      "cell_type": "markdown",
      "source": [
        "TCE exam app code (24.11.25) before revision"
      ],
      "metadata": {
        "id": "PpOUAngWcBd7"
      }
    },
    {
      "cell_type": "code",
      "execution_count": null,
      "metadata": {
        "id": "IrSeGw-_cAJA"
      },
      "outputs": [],
      "source": [
        "import gradio as gr\n",
        "import pandas as pd\n",
        "\n",
        "# Load the DataFrame\n",
        "url = \"TExam_new20241125.csv\"\n",
        "df = pd.read_csv(url, encoding='utf-8-sig')\n",
        "\n",
        "# Function to search years based on the selected mode\n",
        "def search_years(search_mode, query):\n",
        "    if search_mode == \"Search questions by YEAR\":\n",
        "        matches = df[df['YEAR'].str.startswith(query.strip()[:4])]  # Ensure query is stripped of whitespace\n",
        "    elif search_mode == \"Search questions by Keywords\":\n",
        "        keyword_list = [keyword.strip().lower() for keyword in query.split(',')]\n",
        "        matches = df[df['KEYWORDS'].str.lower().apply(lambda x: any(keyword in x for keyword in keyword_list))]\n",
        "    elif search_mode == \"Search questions by Words\":\n",
        "        word_list = [word.strip().lower() for word in query.split(',')]\n",
        "        matches = df[df['TEXT'].str.lower().apply(lambda x: any(word in x for word in word_list))]\n",
        "    else:\n",
        "        return [], \"Please select a valid search mode.\"\n",
        "\n",
        "    if matches.empty:\n",
        "        return [], \"No results found for your query.\"\n",
        "    return matches['YEAR'].tolist(), \"Search completed successfully.\"\n",
        "\n",
        "# Function to get image HTML\n",
        "def get_image_html(year):\n",
        "    match = df[df['YEAR'] == year]\n",
        "    if not match.empty:\n",
        "        image_filename = match.iloc[0]['Filename']\n",
        "        image_url = f'https://huggingface.co/spaces/MK-316/TCE/raw/main/TExams/{image_filename}'\n",
        "        keywords = match.iloc[0]['TEXT']\n",
        "        return f\"<b>🌷 Keywords:</b> 🔑 {keywords}<br><img src='{image_url}' width='800'/>\"\n",
        "    else:\n",
        "        return \"No keywords found for this year.\", \"No image found for this year.\"\n",
        "\n",
        "# Create Gradio Blocks interface\n",
        "with gr.Blocks() as app:\n",
        "    gr.Markdown(\"# Teacher Certificate Exam Searching Engine\")\n",
        "    gr.Markdown(\"## ❄️ [1] Search Data\")\n",
        "\n",
        "    # Radio buttons to select search mode\n",
        "    search_mode = gr.Radio(choices=[\"Search questions by YEAR\", \"Search questions by Keywords\", \"Search questions by Words\"], label=\"Search Mode\")\n",
        "\n",
        "    # Row for search query and button\n",
        "    search_input = gr.Textbox(label=\"Search Query: e.g., 2024 (by YEAR) or tapping (by Keywords or Words)\", placeholder=\"Enter year or keywords or words\")\n",
        "    search_button = gr.Button(\"Click to Search\")\n",
        "    search_output = gr.Dropdown(label=\"Results (file names)\", choices=[], visible=False)\n",
        "    status_output = gr.Textbox(label=\"Status\", visible=False)\n",
        "\n",
        "    # Connect actions\n",
        "    search_button.click(fn=search_years, inputs=[search_mode, search_input], outputs=[search_output, status_output])\n",
        "\n",
        "    gr.Markdown(\"## ❄️ [2] Display a Specific Exam Question Requested\")\n",
        "    year_input = gr.Dropdown(label=\"Select a file name from the results\", choices=[])\n",
        "    submit_button = gr.Button(\"Show me the exam question\")\n",
        "    image_output = gr.HTML()\n",
        "\n",
        "    # Update dropdown and image display\n",
        "    search_output.change(fn=lambda results: gr.update(choices=results), inputs=search_output, outputs=year_input)\n",
        "    submit_button.click(fn=get_image_html, inputs=year_input, outputs=image_output)\n",
        "\n",
        "# Launch the app with sharing options\n",
        "app.launch(debug=True)"
      ]
    }
  ]
}