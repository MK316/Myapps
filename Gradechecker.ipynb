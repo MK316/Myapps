{
  "nbformat": 4,
  "nbformat_minor": 0,
  "metadata": {
    "colab": {
      "private_outputs": true,
      "provenance": [],
      "authorship_tag": "ABX9TyMV3FrDKYiMl1lONXs923Ai",
      "include_colab_link": true
    },
    "kernelspec": {
      "name": "python3",
      "display_name": "Python 3"
    },
    "language_info": {
      "name": "python"
    }
  },
  "cells": [
    {
      "cell_type": "markdown",
      "metadata": {
        "id": "view-in-github",
        "colab_type": "text"
      },
      "source": [
        "<a href=\"https://colab.research.google.com/github/MK316/Myapps/blob/main/Gradechecker.ipynb\" target=\"_parent\"><img src=\"https://colab.research.google.com/assets/colab-badge.svg\" alt=\"Open In Colab\"/></a>"
      ]
    },
    {
      "cell_type": "markdown",
      "source": [
        "# 🌱 Grade details for any file from Google drive or uploading directly from your computer.\n",
        "\n",
        "Note: The csv file should have a column names 'SID' (e.g., passcode for individuals)"
      ],
      "metadata": {
        "id": "a1kIo-oSAVg_"
      }
    },
    {
      "cell_type": "markdown",
      "source": [
        "## 🌀 Step [1] Install packages"
      ],
      "metadata": {
        "id": "eTG6jVG6HAxw"
      }
    },
    {
      "cell_type": "code",
      "source": [
        "%%capture\n",
        "!pip install -U gradio\n",
        "!pip install -U pydantic typing_extensions"
      ],
      "metadata": {
        "id": "-yrJFGXICvr_"
      },
      "execution_count": null,
      "outputs": []
    },
    {
      "cell_type": "code",
      "source": [
        "%%capture\n",
        "!pip install gradio"
      ],
      "metadata": {
        "id": "SIZVwDWLCQDO"
      },
      "execution_count": null,
      "outputs": []
    },
    {
      "cell_type": "markdown",
      "source": [
        "## 🌀Step [2] File reading A (Google Drive) or B (Direct uploading)\n",
        "\n",
        "Run only A or B"
      ],
      "metadata": {
        "id": "CsAgH750E__j"
      }
    },
    {
      "cell_type": "code",
      "execution_count": null,
      "metadata": {
        "cellView": "form",
        "id": "qRayp7tFAU9C"
      },
      "outputs": [],
      "source": [
        "#@markdown (A) Read file (df) from Google Drive\n",
        "from google.colab import drive\n",
        "import pandas as pd\n",
        "\n",
        "# Mount Google Drive\n",
        "drive.mount('/content/drive')\n",
        "\n",
        "# Ask for folder and file names\n",
        "folder_name = input(\"Enter the folder name in your Google Drive where the file is located: \")\n",
        "file_name = input(\"Enter the file name (including .csv extension): \")\n",
        "\n",
        "# Construct the full path and read the CSV file\n",
        "full_path = f\"/content/drive/My Drive/{folder_name}/{file_name}\"\n",
        "try:\n",
        "    df = pd.read_csv(full_path)\n",
        "    print(\"File read successfully. Here's the first few rows of the data:\")\n",
        "    print(df.head())\n",
        "\n",
        "    # Create a list of column names\n",
        "    columns = df.columns.tolist()\n",
        "    print(\"Column names:\", columns)\n",
        "\n",
        "    # Get the number of columns\n",
        "    cnum = len(columns)\n",
        "    print(\"Number of columns:\", cnum)\n",
        "\n",
        "except Exception as e:\n",
        "    print(f\"An error occurred: {e}\")\n",
        "\n",
        "# Optionally, unmount Google Drive\n",
        "drive.flush_and_unmount()\n",
        "print(\"Google Drive is unmounted.\")\n"
      ]
    },
    {
      "cell_type": "code",
      "source": [
        "#@markdown (B) Uploading your csv file\n",
        "import pandas as pd\n",
        "from google.colab import files\n",
        "\n",
        "# Function to upload a file and return its path\n",
        "def upload_file():\n",
        "    uploaded = files.upload()\n",
        "    if uploaded:\n",
        "        for filename in uploaded.keys():\n",
        "            return filename  # Return the first filename\n",
        "    return None\n",
        "\n",
        "# Upload the file and read it into a DataFrame\n",
        "filename = upload_file()\n",
        "if filename:\n",
        "    df = pd.read_csv(filename)\n",
        "    print(\"File read successfully. Here's the first few rows of the data:\")\n",
        "    print(df.head())\n",
        "\n",
        "    # Get the number of columns and the list of column names\n",
        "    columns = df.columns.tolist()\n",
        "    cnum = len(columns)\n",
        "\n",
        "    # Displaying the column details\n",
        "    print(\"Number of columns:\", cnum)\n",
        "    print(\"Column names:\", columns)\n",
        "else:\n",
        "    print(\"No file uploaded.\")\n"
      ],
      "metadata": {
        "cellView": "form",
        "id": "T7Cj0FhPE-Yt"
      },
      "execution_count": null,
      "outputs": []
    },
    {
      "cell_type": "markdown",
      "source": [
        "## 🌀 Step [3] Getting a gradio link"
      ],
      "metadata": {
        "id": "Xk22hAiXG8NU"
      }
    },
    {
      "cell_type": "code",
      "source": [
        "#@markdown Gradio link\n",
        "import gradio as gr\n",
        "import pandas as pd\n",
        "\n",
        "# Assuming 'cnum' and 'columns' are already defined\n",
        "# cnum = <number of columns>\n",
        "# columns = <list of column names>\n",
        "\n",
        "# Specify the path to your CSV file\n",
        "csv_file_path = df  # Replace 'gradebook.csv' with your actual file name\n",
        "\n",
        "# Read the CSV file\n",
        "# df = pd.read_csv(csv_file_path)\n",
        "\n",
        "# Ensure 'SID' is string for correct matching\n",
        "df['SID'] = df['SID'].astype(str)\n",
        "\n",
        "# Function to get and display student details\n",
        "def get_student_details(sid):\n",
        "    student_row = df[df['SID'].str.strip() == sid.strip()]\n",
        "    if not student_row.empty:\n",
        "        # Extracting values for separate textboxes\n",
        "        details = student_row.iloc[0].drop('SID').tolist()\n",
        "        return details + [\"\"] * (cnum - 1 - len(details))  # Adjust list length based on column count\n",
        "    else:\n",
        "        # Return placeholder values if no match is found\n",
        "        return [\"\"] * (cnum - 1)\n",
        "\n",
        "# Define the output components dynamically based on the column names\n",
        "outputs = [gr.Textbox(label=col) for col in columns if col != 'SID']  # Exclude 'SID' from outputs\n",
        "\n",
        "# Create Gradio interface\n",
        "iface = gr.Interface(\n",
        "    fn=get_student_details,\n",
        "    inputs=gr.Textbox(label=\"Enter your SID\", placeholder=\"Type your SID here\"),\n",
        "    outputs=outputs,\n",
        "    title=\"Phonetics Grade Details (Fall 2023)\",\n",
        "    description=\"Enter your SID to get your details\"\n",
        ")\n",
        "\n",
        "iface.launch()\n"
      ],
      "metadata": {
        "cellView": "form",
        "id": "RnLXuwK8BNQe"
      },
      "execution_count": null,
      "outputs": []
    }
  ]
}