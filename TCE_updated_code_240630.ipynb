{
  "nbformat": 4,
  "nbformat_minor": 0,
  "metadata": {
    "colab": {
      "private_outputs": true,
      "provenance": [],
      "authorship_tag": "ABX9TyMtmYFCQzdFBL0SEbSdw32g",
      "include_colab_link": true
    },
    "kernelspec": {
      "name": "python3",
      "display_name": "Python 3"
    },
    "language_info": {
      "name": "python"
    }
  },
  "cells": [
    {
      "cell_type": "markdown",
      "metadata": {
        "id": "view-in-github",
        "colab_type": "text"
      },
      "source": [
        "<a href=\"https://colab.research.google.com/github/MK316/Myapps/blob/main/TCE_updated_code_240630.ipynb\" target=\"_parent\"><img src=\"https://colab.research.google.com/assets/colab-badge.svg\" alt=\"Open In Colab\"/></a>"
      ]
    },
    {
      "cell_type": "markdown",
      "source": [
        "# TEC application (updataed) as of 2024. 06. 30"
      ],
      "metadata": {
        "id": "ITUW86w44HvI"
      }
    },
    {
      "cell_type": "markdown",
      "source": [
        "## [1] Original code"
      ],
      "metadata": {
        "id": "FDaotzAn4Mh_"
      }
    },
    {
      "cell_type": "code",
      "source": [
        "%%capture\n",
        "!pip install gradio\n",
        "!pip install pandas"
      ],
      "metadata": {
        "id": "Tp9R1TYty5jQ"
      },
      "execution_count": null,
      "outputs": []
    },
    {
      "cell_type": "code",
      "execution_count": null,
      "metadata": {
        "id": "XsVZQfz6y4ZH"
      },
      "outputs": [],
      "source": [
        "import gradio as gr\n",
        "import pandas as pd\n",
        "\n",
        "# Load the DataFrame\n",
        "url = \"TExam_new.csv\"\n",
        "df = pd.read_csv(url, encoding='utf-8-sig')\n",
        "\n",
        "# Function to search years based on the selected mode\n",
        "def search_years(search_by_year, search_by_keywords, query):\n",
        "    if search_by_year and not search_by_keywords:\n",
        "        # Search by matching the first four characters of the 'YEAR' column\n",
        "        matches = df[df['YEAR'].str.startswith(query[:4])]\n",
        "        if matches.empty:\n",
        "            return \"No results found for your query.\"\n",
        "        return \", \".join(matches['YEAR'].tolist())  # Return a string of matched years\n",
        "    elif search_by_keywords and not search_by_year:\n",
        "        # Original keyword search logic\n",
        "        keyword_list = [keyword.strip() for keyword in query.split(',')]\n",
        "        matches = df[df['KEYWORDS'].apply(lambda x: any(keyword in x for keyword in keyword_list))]\n",
        "        if matches.empty:\n",
        "            return \"No results found for your query.\"\n",
        "        return \", \".join(matches['YEAR'].tolist())  # Return a string of matched years\n",
        "    else:\n",
        "        return \"Please select exactly one search mode.\"\n",
        "\n",
        "\n",
        "# Modified function to return keywords above the HTML image tag\n",
        "# ...\n",
        "\n",
        "def get_image_html(year):\n",
        "    match = df[df['YEAR'] == year]\n",
        "    if not match.empty:\n",
        "        # Assuming 'LINK' column has the partial path like '2006_1.PNG'\n",
        "        image_filename = match.iloc[0]['Filename']\n",
        "        # Construct the full URL by appending the filename to the base path\n",
        "        image_url = f'https://huggingface.co/spaces/MK-316/TCE/raw/main/TExams/{image_filename}'\n",
        "        keywords = match.iloc[0]['KEYWORDS']\n",
        "        # Place keywords above the image\n",
        "        return f\"<b>🌷 Keywords:</b> 🔑 {keywords}<br><img src='{image_url}' width='800'/>\"\n",
        "    else:\n",
        "        return \"No keywords found for this year.\", \"No image found for this year.\"\n",
        "\n",
        "# ...\n",
        "\n",
        "\n",
        "# Create Gradio Blocks interface\n",
        "with gr.Blocks() as app:\n",
        "    gr.Markdown(\"# Teacher Certificate Exam Searching Engine\")\n",
        "    gr.Markdown(\"## ❄️ [1] Search Data\")\n",
        "\n",
        "    # Row for checkboxes\n",
        "    with gr.Row():\n",
        "        search_by_year = gr.Checkbox(label=\"Search by YEAR\", value=False)\n",
        "        search_by_keywords = gr.Checkbox(label=\"Search Years by Keywords\", value=False)\n",
        "\n",
        "    # Row for search query, button and output\n",
        "    with gr.Row():\n",
        "        search_input = gr.Textbox(label=\"Search Query: e.g., 2024 (by YEAR) or tapping (by Keywords)\",\n",
        "                                  placeholder=\"Enter year or keywords separated by commas\")\n",
        "        search_button = gr.Button(\"Click to Search\")\n",
        "        search_output = gr.Text(label=\"Results (file names)\")\n",
        "\n",
        "    # Define actions\n",
        "    search_button.click(fn=search_years, inputs=[search_by_year, search_by_keywords, search_input], outputs=search_output)\n",
        "\n",
        "    gr.Markdown(\"## ❄️ [2] Display a Specific Exam Question Requested\")\n",
        "    with gr.Row():\n",
        "        year_input = gr.Textbox(label=\"Type a file name among the result items: e.g., Year_item_part(a,b)\", placeholder=\"Enter Year like '2024_01'\")\n",
        "        submit_button = gr.Button(\"Show me the exam question\")  # Updated button text\n",
        "    image_output = gr.HTML()\n",
        "\n",
        "    # Define action for the submit button\n",
        "    submit_button.click(fn=get_image_html, inputs=year_input, outputs=image_output)  # Use the button to trigger the display function\n",
        "\n",
        "# Launch the app with sharing options\n",
        "app.launch(debug=True)\n"
      ]
    },
    {
      "cell_type": "markdown",
      "source": [
        "# Revised version using dropdown box"
      ],
      "metadata": {
        "id": "-PFop5St0BXL"
      }
    },
    {
      "cell_type": "markdown",
      "source": [
        "# [2] New TCE app.py"
      ],
      "metadata": {
        "id": "4Lmn50-T4DYh"
      }
    },
    {
      "cell_type": "code",
      "source": [
        "import gradio as gr\n",
        "import pandas as pd\n",
        "\n",
        "# Load the DataFrame\n",
        "url = \"TExam_new.csv\"\n",
        "df = pd.read_csv(url, encoding='utf-8-sig')\n",
        "\n",
        "# Function to search years based on the selected mode\n",
        "def search_years(search_by_year, search_by_keywords, query):\n",
        "    if search_by_year and not search_by_keywords:\n",
        "        # Search by matching the first four characters of the 'YEAR' column\n",
        "        matches = df[df['YEAR'].str.startswith(query[:4])]\n",
        "        if matches.empty:\n",
        "            return [], \"No results found for your query.\"\n",
        "        return matches['YEAR'].tolist(), \"Search completed successfully.\"\n",
        "    elif search_by_keywords and not search_by_year:\n",
        "        # Original keyword search logic\n",
        "        keyword_list = [keyword.strip() for keyword in query.split(',')]\n",
        "        matches = df[df['KEYWORDS'].apply(lambda x: any(keyword in x for keyword in keyword_list))]\n",
        "        if matches.empty:\n",
        "            return [], \"No results found for your query.\"\n",
        "        return matches['YEAR'].tolist(), \"Search completed successfully.\"\n",
        "    else:\n",
        "        return [], \"Please select exactly one search mode.\"\n",
        "\n",
        "# Function to get image HTML\n",
        "def get_image_html(year):\n",
        "    match = df[df['YEAR'] == year]\n",
        "    if not match.empty:\n",
        "        # Assuming 'LINK' column has the partial path like '2006_1.PNG'\n",
        "        image_filename = match.iloc[0]['Filename']\n",
        "        # Construct the full URL by appending the filename to the base path\n",
        "        image_url = f'https://huggingface.co/spaces/MK-316/TCE/raw/main/TExams/{image_filename}'\n",
        "        keywords = match.iloc[0]['KEYWORDS']\n",
        "        # Place keywords above the image\n",
        "        return f\"<b>🌷 Keywords:</b> 🔑 {keywords}<br><img src='{image_url}' width='800'/>\"\n",
        "    else:\n",
        "        return \"No keywords found for this year.\", \"No image found for this year.\"\n",
        "\n",
        "# Create Gradio Blocks interface\n",
        "with gr.Blocks() as app:\n",
        "    gr.Markdown(\"# Teacher Certificate Exam Searching Engine\")\n",
        "    gr.Markdown(\"## ❄️ [1] Search Data\")\n",
        "\n",
        "    # Row for checkboxes\n",
        "    with gr.Row():\n",
        "        search_by_year = gr.Checkbox(label=\"Search by YEAR\", value=False)\n",
        "        search_by_keywords = gr.Checkbox(label=\"Search Years by Keywords\", value=False)\n",
        "\n",
        "    # Row for search query, button and output\n",
        "    with gr.Row():\n",
        "        search_input = gr.Textbox(label=\"Search Query: e.g., 2024 (by YEAR) or tapping (by Keywords)\",\n",
        "                                  placeholder=\"Enter year or keywords separated by commas\")\n",
        "        search_button = gr.Button(\"Click to Search\")\n",
        "        search_output = gr.Dropdown(label=\"Results (file names)\", choices=[], visible=False)  # Hidden dropdown for results\n",
        "        status_output = gr.Textbox(label=\"Status\", visible=False)  # Hidden status textbox\n",
        "\n",
        "    # Define actions\n",
        "    def update_dropdown(results, status_message):\n",
        "        return gr.update(choices=results), status_message\n",
        "\n",
        "    search_button.click(fn=search_years, inputs=[search_by_year, search_by_keywords, search_input],\n",
        "                        outputs=[search_output, status_output],\n",
        "                        postprocess=update_dropdown)\n",
        "\n",
        "    gr.Markdown(\"## ❄️ [2] Display a Specific Exam Question Requested\")\n",
        "    with gr.Row():\n",
        "        year_input = gr.Dropdown(label=\"Select a file name from the results\", choices=[])\n",
        "        submit_button = gr.Button(\"Show me the exam question\")\n",
        "    image_output = gr.HTML()\n",
        "\n",
        "    # Update the year input dropdown based on the search results\n",
        "    def update_year_input(results):\n",
        "        return gr.update(choices=results)\n",
        "\n",
        "    search_output.change(fn=update_year_input, inputs=search_output, outputs=year_input)\n",
        "\n",
        "    # Define action for the submit button\n",
        "    submit_button.click(fn=get_image_html, inputs=year_input, outputs=image_output)\n",
        "\n",
        "# Launch the app with sharing options\n",
        "app.launch(debug=True)\n"
      ],
      "metadata": {
        "id": "WKqfwNFC301T"
      },
      "execution_count": null,
      "outputs": []
    },
    {
      "cell_type": "markdown",
      "source": [
        "## [3] Search option to update (Final code) 0630"
      ],
      "metadata": {
        "id": "5Q23_-vb4swE"
      }
    },
    {
      "cell_type": "code",
      "source": [
        "import gradio as gr\n",
        "import pandas as pd\n",
        "\n",
        "# Load the DataFrame\n",
        "url = \"TExam_new.csv\"\n",
        "df = pd.read_csv(url, encoding='utf-8-sig')\n",
        "\n",
        "# Function to search years based on the selected mode\n",
        "def search_years(search_mode, query):\n",
        "    if search_mode == \"Search by YEAR\":\n",
        "        matches = df[df['YEAR'].str.startswith(query[:4])]\n",
        "    elif search_mode == \"Search Years by Keywords\":\n",
        "        keyword_list = [keyword.strip() for keyword in query.split(',')]\n",
        "        matches = df[df['KEYWORDS'].apply(lambda x: any(keyword in x for keyword in keyword_list))]\n",
        "    else:\n",
        "        return [], \"Please select exactly one search mode.\"\n",
        "\n",
        "    if matches.empty:\n",
        "        return [], \"No results found for your query.\"\n",
        "    return matches['YEAR'].tolist(), \"Search completed successfully.\"\n",
        "\n",
        "# Function to get image HTML\n",
        "def get_image_html(year):\n",
        "    match = df[df['YEAR'] == year]\n",
        "    if not match.empty:\n",
        "        image_filename = match.iloc[0]['Filename']\n",
        "        image_url = f'https://huggingface.co/spaces/MK-316/TCE/raw/main/TExams/{image_filename}'\n",
        "        keywords = match.iloc[0]['KEYWORDS']\n",
        "        return f\"<b>🌷 Keywords:</b> 🔑 {keywords}<br><img src='{image_url}' width='800'/>\"\n",
        "    else:\n",
        "        return \"No keywords found for this year.\", \"No image found for this year.\"\n",
        "\n",
        "# Create Gradio Blocks interface\n",
        "with gr.Blocks() as app:\n",
        "    gr.Markdown(\"# Teacher Certificate Exam Searching Engine\")\n",
        "    gr.Markdown(\"## ❄️ [1] Search Data\")\n",
        "\n",
        "    # Radio buttons to select search mode\n",
        "    search_mode = gr.Radio(choices=[\"Search by YEAR\", \"Search Years by Keywords\"], label=\"Search Mode\")\n",
        "\n",
        "    # Row for search query and button\n",
        "    search_input = gr.Textbox(label=\"Search Query: e.g., 2024 (by YEAR) or tapping (by Keywords)\", placeholder=\"Enter year or keywords\")\n",
        "    search_button = gr.Button(\"Click to Search\")\n",
        "    search_output = gr.Dropdown(label=\"Results (file names)\", choices=[], visible=False)\n",
        "    status_output = gr.Textbox(label=\"Status\", visible=False)\n",
        "\n",
        "    # Connect actions\n",
        "    search_button.click(fn=search_years, inputs=[search_mode, search_input], outputs=[search_output, status_output])\n",
        "\n",
        "    gr.Markdown(\"## ❄️ [2] Display a Specific Exam Question Requested\")\n",
        "    year_input = gr.Dropdown(label=\"Select a file name from the results\", choices=[])\n",
        "    submit_button = gr.Button(\"Show me the exam question\")\n",
        "    image_output = gr.HTML()\n",
        "\n",
        "    # Update dropdown and image display\n",
        "    search_output.change(fn=lambda results: gr.update(choices=results), inputs=search_output, outputs=year_input)\n",
        "    submit_button.click(fn=get_image_html, inputs=year_input, outputs=image_output)\n",
        "\n",
        "# Launch the app with sharing options\n",
        "app.launch(debug=True)\n"
      ],
      "metadata": {
        "id": "9Gkl4_MbEsm3"
      },
      "execution_count": null,
      "outputs": []
    }
  ]
}