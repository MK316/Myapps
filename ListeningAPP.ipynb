{
  "nbformat": 4,
  "nbformat_minor": 0,
  "metadata": {
    "colab": {
      "private_outputs": true,
      "provenance": [],
      "authorship_tag": "ABX9TyNhjQwvoJmzlYe61UsE9p37",
      "include_colab_link": true
    },
    "kernelspec": {
      "name": "python3",
      "display_name": "Python 3"
    },
    "language_info": {
      "name": "python"
    }
  },
  "cells": [
    {
      "cell_type": "markdown",
      "metadata": {
        "id": "view-in-github",
        "colab_type": "text"
      },
      "source": [
        "<a href=\"https://colab.research.google.com/github/MK316/Myapps/blob/main/ListeningAPP.ipynb\" target=\"_parent\"><img src=\"https://colab.research.google.com/assets/colab-badge.svg\" alt=\"Open In Colab\"/></a>"
      ]
    },
    {
      "cell_type": "markdown",
      "source": [
        "# 🍀 Listening app (asof 23. 11. 20)\n",
        "\n",
        "+ Texts are pregiven.\n",
        "+ Learners can choose 1) reading material 2) language options, and 3) speech (0.5, 1, 1.5, 2 times)"
      ],
      "metadata": {
        "id": "AhBi5YkQUcTr"
      }
    },
    {
      "cell_type": "code",
      "source": [
        "%%capture\n",
        "!pip install gtts gradio\n",
        "!pip install qrcode"
      ],
      "metadata": {
        "id": "rjVEgTeNgcMi"
      },
      "execution_count": null,
      "outputs": []
    },
    {
      "cell_type": "markdown",
      "source": [
        "## Text to specify"
      ],
      "metadata": {
        "id": "19ZNLYg9VblF"
      }
    },
    {
      "cell_type": "code",
      "source": [
        "sentences = [\n",
        "    \"Number one! Please believe that sweet peas and beans are good to eat. Eat them at least twice a week.\",\n",
        "    \"Number two! Tim's sister swims a LITTLE bit. It keeps her fit, slim, and trim.\",\n",
        "    \"Number three! Ten times seven is seventy. Seven times eleven is seventy-seven.\",\n",
        "    \"Number four! Many animals inhabit Africa. Africa has camels, giraffes, parrots, and bats.\",\n",
        "    \"Number five! Doctors say jogging is good for the body. Lots of starch causes heart problems.\",\n",
        "    \"Number six! Who flew to the moon? Numerous lunar flights are in the news. We'll soon put a person on Jupiter and Pluto.\",\n",
        "    \"Number seven! Would you look for my cookbook? It should be full of hints for good cookies and pudding.\",\n",
        "    \"Number eight! The southern governor is Republican. The public election was fun. She won by one hundred votes.\",\n",
        "    \"Number nine! The author gave a long talk in the office. The small audience thought it was boring.\",\n",
        "    \"Number ten! Nurses do worthy work. They certainly deserve a word of praise.\",\n",
        "    \"Number eleven! Labor Day is in September. Workers are honored.\",\n",
        "    \"Number twelve! Maine is a state in the northern United States. It's a great place for a vacation.\",\n",
        "    \"Number thirteen! The North Pole is close to the Arctic Ocean. It's known for polar bears, snow, and severe cold.\",\n",
        "    \"Number fourteen! Owls are now found throughout the world. They avoid crowds and make loud sounds.\",\n",
        "    \"Number fifteen! Eyesight is vital for a normal life. I prize mine highly.\",\n",
        "    \"Number sixteen! The auto industry is a loyal employer in Detroit. People enjoy their choice of cars.\",\n",
        "    \"Number seventeen! Africa, Asia, Australia, South America, and Europe comprise five of the continents. North America is another continent.\",\n",
        "    \"Number eighteeen! I have televisions in the bedroom, living room, and dining room. The programs about detectives and hospitals are my favorites.\"\n",
        "]"
      ],
      "metadata": {
        "id": "vJhVQLHDVbEk"
      },
      "execution_count": null,
      "outputs": []
    },
    {
      "cell_type": "code",
      "source": [
        "#@markdown 🌀 Gradio app with pre-given texts\n",
        "import gradio as gr\n",
        "from gtts import gTTS\n",
        "import os\n",
        "\n",
        "sents = sentences\n",
        "\n",
        "def text_to_speech(selected_sentence, language):\n",
        "    sn = int(selected_sentence.split(\".\")[0])  # Extract the sentence number\n",
        "    mytext = sents[sn - 1]  # Get the selected sentence\n",
        "\n",
        "    # Define language codes for English, Korean, and Russian\n",
        "    language_codes = {'English': 'en', 'Korean': 'ko', 'Russian': 'ru'}\n",
        "\n",
        "    # Create a gTTS object with the selected language\n",
        "    tts = gTTS(text=mytext, lang=language_codes[language], slow=False)\n",
        "\n",
        "    # Save the speech to a temporary file\n",
        "    filename = 'output.mp3'\n",
        "    tts.save(filename)\n",
        "    return filename\n",
        "\n",
        "iface = gr.Interface(\n",
        "    fn=text_to_speech,\n",
        "    inputs=[\n",
        "        gr.Dropdown(choices=[f\"{i}. {sents[i-1]}\" for i in range(1, len(sents) + 1)], label=\"Select Sentence\"),\n",
        "        gr.Radio(choices=['English', 'Korean', 'Russian'], label=\"Language\")\n",
        "    ],\n",
        "    outputs=gr.Audio(type=\"filepath\", label=\"Output Audio\"),\n",
        "    title=\"Text-to-Speech Converter\",\n",
        "    description=\"Select a sentence and language to convert it to speech.\"\n",
        ")\n",
        "\n",
        "iface.launch()\n"
      ],
      "metadata": {
        "id": "WRIjsJFlRJdv",
        "cellView": "form"
      },
      "execution_count": null,
      "outputs": []
    },
    {
      "cell_type": "markdown",
      "source": [
        "# QR code to share"
      ],
      "metadata": {
        "id": "nMVXuEaMVChY"
      }
    },
    {
      "cell_type": "code",
      "source": [
        "#@markdown 🌀 QR code (link should be provided)\n",
        "import qrcode\n",
        "from IPython.display import display\n",
        "from PIL import Image\n",
        "\n",
        "# Replace YOUR_URL_HERE with the URL you copied from the Gradio output\n",
        "url = input()\n",
        "\n",
        "# Generate QR code\n",
        "qr = qrcode.QRCode(\n",
        "    version=1,\n",
        "    error_correction=qrcode.constants.ERROR_CORRECT_H,\n",
        "    box_size=16,\n",
        "    border=4,\n",
        ")\n",
        "qr.add_data(url)\n",
        "qr.make(fit=True)\n",
        "img = qr.make_image(fill_color=\"black\", back_color=\"white\")\n",
        "display(img)\n"
      ],
      "metadata": {
        "cellView": "form",
        "id": "lEa80FZVhRiB"
      },
      "execution_count": null,
      "outputs": []
    },
    {
      "cell_type": "markdown",
      "source": [
        "# Paragraph by sentences"
      ],
      "metadata": {
        "id": "vyA8MCG5pxaS"
      }
    },
    {
      "cell_type": "code",
      "source": [
        "!pip install gradio\n"
      ],
      "metadata": {
        "id": "htMAea6ap5RT"
      },
      "execution_count": null,
      "outputs": []
    },
    {
      "cell_type": "code",
      "source": [
        "!pip install pyttsx3"
      ],
      "metadata": {
        "id": "Lo1Xq5ZI3vVE"
      },
      "execution_count": null,
      "outputs": []
    },
    {
      "cell_type": "code",
      "source": [
        "mytext = input()"
      ],
      "metadata": {
        "id": "h41KHsXNp0xp"
      },
      "execution_count": null,
      "outputs": []
    },
    {
      "cell_type": "code",
      "source": [
        "import gradio as gr\n",
        "import pyttsx3\n",
        "\n",
        "# Function to generate audio from text\n",
        "def generate_audio(text, language):\n",
        "    engine = pyttsx3.init()\n",
        "    engine.setProperty('rate', 150)  # Adjust the speech rate as needed\n",
        "\n",
        "    # Select a voice based on language\n",
        "    voices = engine.getProperty('voices')\n",
        "    # For this example, we're just using English\n",
        "    english_voice = next((voice for voice in voices if 'en' in voice.languages), None)\n",
        "    if english_voice:\n",
        "        engine.setProperty('voice', english_voice.id)\n",
        "    else:\n",
        "        raise ValueError(\"English voice not found\")\n",
        "\n",
        "    output_file = 'output.wav'\n",
        "    engine.save_to_file(text, output_file)\n",
        "    engine.runAndWait()\n",
        "    return output_file\n",
        "\n",
        "# Create Gradio interface\n",
        "def sentence_to_audio(text, sentence_choice, language):\n",
        "    # Split the input text into sentences\n",
        "    sentences = text.split('.')\n",
        "\n",
        "    # Safely select the sentence based on the user's choice\n",
        "    sentence_choice = int(sentence_choice)\n",
        "    if sentence_choice < len(sentences):\n",
        "        selected_sentence = sentences[sentence_choice]\n",
        "    else:\n",
        "        return \"Sentence choice is out of range.\"\n",
        "\n",
        "    # Generate audio for the selected sentence\n",
        "    return generate_audio(selected_sentence, language)\n",
        "\n",
        "# Define Gradio interface\n",
        "iface = gr.Interface(\n",
        "    fn=sentence_to_audio,\n",
        "    inputs=[\n",
        "        gr.Textbox(mytext, label='Whole Text'),\n",
        "        gr.Textbox(label='Input Text'),\n",
        "        gr.Dropdown([str(i) for i in range(10)], label='Sentence Choice'),\n",
        "        gr.Radio(['English'], label='Language')  # Using Radio buttons for language selection\n",
        "    ],\n",
        "    outputs='audio',\n",
        "    live=True,\n",
        "    title='Text to Audio Generator',\n",
        "    description='Generate audio for sentences. Currently supports English only.'\n",
        ")\n",
        "\n",
        "iface.launch()\n"
      ],
      "metadata": {
        "id": "04NnEmg1qfDI"
      },
      "execution_count": null,
      "outputs": []
    },
    {
      "cell_type": "code",
      "source": [
        "import gradio as gr\n",
        "import pyttsx3\n",
        "import tempfile\n",
        "\n",
        "# Function to generate audio from text\n",
        "def generate_audio(text, language):\n",
        "    engine = pyttsx3.init()\n",
        "    engine.setProperty('rate', 150)  # Adjust the speech rate\n",
        "\n",
        "    # Select a voice based on language\n",
        "    voices = engine.getProperty('voices')\n",
        "    english_voice = next((voice for voice in voices if 'en' in voice.languages), None)\n",
        "    if english_voice:\n",
        "        engine.setProperty('voice', english_voice.id)\n",
        "    else:\n",
        "        raise ValueError(\"English voice not found\")\n",
        "\n",
        "    # Save to a temporary file\n",
        "    with tempfile.NamedTemporaryFile(delete=False, suffix='.wav') as temp_audio_file:\n",
        "        engine.save_to_file(text, temp_audio_file.name)\n",
        "        engine.runAndWait()\n",
        "        return temp_audio_file.name\n",
        "\n",
        "# Create Gradio interface\n",
        "def sentence_to_audio(text, sentence_choice, language):\n",
        "    sentences = text.split('.')\n",
        "\n",
        "    sentence_choice = int(sentence_choice)\n",
        "    if sentence_choice < len(sentences):\n",
        "        selected_sentence = sentences[sentence_choice]\n",
        "    else:\n",
        "        return \"Sentence choice is out of range.\"\n",
        "\n",
        "    audio_file_path = generate_audio(selected_sentence, language)\n",
        "    return gr.Audio(file=audio_file_path)  # Return as Gradio Audio component\n",
        "\n",
        "# Define Gradio interface\n",
        "iface = gr.Interface(\n",
        "    fn=sentence_to_audio,\n",
        "    inputs=[\n",
        "        gr.Textbox(label='Input Text'),\n",
        "        gr.Dropdown([str(i) for i in range(10)], label='Sentence Choice'),\n",
        "        gr.Radio(['English'], label='Language')  # Using Radio buttons for language selection\n",
        "    ],\n",
        "    outputs='audio',\n",
        "    live=True,\n",
        "    title='Text to Audio Generator',\n",
        "    description='Generate audio for sentences. Currently supports English only.'\n",
        ")\n",
        "\n",
        "iface.launch()\n"
      ],
      "metadata": {
        "id": "5JwuteqM5pVq"
      },
      "execution_count": null,
      "outputs": []
    }
  ]
}