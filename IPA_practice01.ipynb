{
  "nbformat": 4,
  "nbformat_minor": 0,
  "metadata": {
    "colab": {
      "private_outputs": true,
      "provenance": [],
      "authorship_tag": "ABX9TyMWd0bRBQrFF6u4VDMvbUdg",
      "include_colab_link": true
    },
    "kernelspec": {
      "name": "python3",
      "display_name": "Python 3"
    },
    "language_info": {
      "name": "python"
    }
  },
  "cells": [
    {
      "cell_type": "markdown",
      "metadata": {
        "id": "view-in-github",
        "colab_type": "text"
      },
      "source": [
        "<a href=\"https://colab.research.google.com/github/MK316/Myapps/blob/main/IPA_practice01.ipynb\" target=\"_parent\"><img src=\"https://colab.research.google.com/assets/colab-badge.svg\" alt=\"Open In Colab\"/></a>"
      ]
    },
    {
      "cell_type": "code",
      "execution_count": null,
      "metadata": {
        "id": "J_B6dQYWsL9f"
      },
      "outputs": [],
      "source": [
        "url = \"https://raw.githubusercontent.com/MK316/Myapps/main/data/IPA.csv\""
      ]
    },
    {
      "cell_type": "markdown",
      "source": [
        "Note: Options to use\n",
        "\n",
        "+ Lower case only\n",
        "+ Voicing: voiced or voiceless\n",
        "+ Place: bilabial, labio-dental, dental, alveolar, palato-alveolar, velar, gottal\n",
        "+ Centrality: central or lateral\n",
        "+ Manner: stop, fricative, affricate, approximant"
      ],
      "metadata": {
        "id": "6EJK8EbTtDvC"
      }
    },
    {
      "cell_type": "code",
      "source": [
        "#@markdown IPA practice with points\n",
        "\n",
        "import pandas as pd\n",
        "import random\n",
        "from IPython.display import display, clear_output\n",
        "import ipywidgets as widgets\n",
        "\n",
        "url = \"https://raw.githubusercontent.com/MK316/Myapps/main/data/IPA.csv\"\n",
        "\n",
        "# Load the CSV data\n",
        "def load_data():\n",
        "    return pd.read_csv(url, encoding='utf-8')\n",
        "\n",
        "# Display a random IPA symbol and quiz the user\n",
        "def quiz(df, score):\n",
        "    clear_output(wait=True)\n",
        "    row = df.sample(1).iloc[0]\n",
        "    ipa_symbol = row['IPA']\n",
        "    properties = ['Voicing', 'Place', 'Centrality', 'Oro-nasal', 'Manner']\n",
        "    question_property = random.choice(properties)\n",
        "\n",
        "    print(f\"IPA Symbol: {ipa_symbol}\")\n",
        "    print(f\"What is the {question_property.lower()} of this IPA symbol?\")\n",
        "\n",
        "    input_text = widgets.Text(\n",
        "        value='',\n",
        "        placeholder='Type your answer here',\n",
        "        description='Answer:',\n",
        "        disabled=False\n",
        "    )\n",
        "\n",
        "    def check_answer(b):\n",
        "        if input_text.value.lower() == str(row[question_property]).lower():\n",
        "            score[0] += 1\n",
        "            print(f\"Correct! Total points: {score[0]}\")\n",
        "        else:\n",
        "            print(f\"Wrong! The correct answer was {row[question_property]}. Total points: {score[0]}\")\n",
        "        ask_continue(score)\n",
        "\n",
        "    submit_button = widgets.Button(description=\"Submit\")\n",
        "    submit_button.on_click(check_answer)\n",
        "\n",
        "    display(input_text, submit_button)\n",
        "\n",
        "# Ask whether to continue or quit the quiz\n",
        "def ask_continue(score):\n",
        "    continue_button = widgets.Button(description=\"Continue\")\n",
        "    quit_button = widgets.Button(description=\"Quit\")\n",
        "\n",
        "    def continue_quiz(b):\n",
        "        quiz(df, score)\n",
        "\n",
        "    def quit_quiz(b):\n",
        "        clear_output(wait=True)\n",
        "        print(f\"Well-practiced! Your total points are: {score[0]}\")\n",
        "\n",
        "    continue_button.on_click(continue_quiz)\n",
        "    quit_button.on_click(quit_quiz)\n",
        "\n",
        "    display(continue_button, quit_button)\n",
        "\n",
        "# Start the quiz\n",
        "df = load_data()\n",
        "score = [0]  # Using list to keep reference in nested functions\n",
        "quiz(df, score)\n"
      ],
      "metadata": {
        "cellView": "form",
        "id": "SKGw0GJUsgoD"
      },
      "execution_count": null,
      "outputs": []
    },
    {
      "cell_type": "markdown",
      "source": [
        "# Graio"
      ],
      "metadata": {
        "id": "GBrHrF8ws42E"
      }
    },
    {
      "cell_type": "code",
      "source": [
        "!pip install gradio"
      ],
      "metadata": {
        "id": "w1GqeABotcc4"
      },
      "execution_count": null,
      "outputs": []
    },
    {
      "cell_type": "code",
      "source": [
        "\"https://raw.githubusercontent.com/MK316/Myapps/main/data/IPA.csv\""
      ],
      "metadata": {
        "id": "YR7PduWOt8Yn"
      },
      "execution_count": null,
      "outputs": []
    },
    {
      "cell_type": "code",
      "source": [
        "import pandas as pd\n",
        "import random\n",
        "import gradio as gr\n",
        "\n",
        "# Load the CSV data from the provided URL\n",
        "def load_data():\n",
        "    url = \"https://raw.githubusercontent.com/MK316/Myapps/main/data/IPA.csv\"\n",
        "    return pd.read_csv(url, encoding='utf-8')\n",
        "\n",
        "df = load_data()  # Load data once at the start\n",
        "\n",
        "# Generate a question from the data\n",
        "def generate_question():\n",
        "    row = df.sample(1).iloc[0]\n",
        "    properties = ['Voicing', 'Place', 'Centrality', 'Oro-nasal', 'Manner']\n",
        "    selected_property = random.choice(properties)\n",
        "    ipa = row['IPA']\n",
        "    answer = row[selected_property].lower()\n",
        "    question = f\"The {selected_property.lower()} of the IPA symbol [{ipa}]?\"\n",
        "    return question, answer\n",
        "\n",
        "# Function to manage the quiz logic\n",
        "def quiz_interface():\n",
        "    with gr.Blocks() as app:\n",
        "        score = [0]  # Using a list to hold the score which allows us to modify it in nested functions\n",
        "        question_label = gr.Label()  # Displays the question\n",
        "        answer_input = gr.Textbox(label=\"Type your answer here\")  # For user to input their answer\n",
        "        result_label = gr.Label()  # To display feedback\n",
        "        continue_button = gr.Button(\"Continue\")\n",
        "        quit_button = gr.Button(\"Quit\")\n",
        "\n",
        "        # Function to update the question and check the answer\n",
        "        def check_answer(answer):\n",
        "            correct_answer = question_label.metadata['answer']\n",
        "            if answer.lower() == correct_answer:\n",
        "                score[0] += 1\n",
        "                result_label.value = f\"Correct! You've got {score[0]} point(s).\"\n",
        "            else:\n",
        "                result_label.value = f\"Wrong! The correct answer was {correct_answer}.\"\n",
        "            # Prepare the next question\n",
        "            next_question, next_answer = generate_question()\n",
        "            question_label.value = next_question\n",
        "            question_label.metadata['answer'] = next_answer\n",
        "            answer_input.value = \"\"  # Clear the input box\n",
        "\n",
        "        # Continue without checking the answer\n",
        "        def continue_quiz():\n",
        "            next_question, next_answer = generate_question()\n",
        "            question_label.value = next_question\n",
        "            question_label.metadata['answer'] = next_answer\n",
        "            answer_input.value = \"\"\n",
        "            result_label.value = \"\"\n",
        "\n",
        "        # Ending the quiz\n",
        "        def quit_quiz():\n",
        "            result_label.value = f\"Quiz ended. Your total score: {score[0]} points.\"\n",
        "            answer_input.disabled = True\n",
        "            continue_button.disabled = True\n",
        "            quit_button.disabled = True\n",
        "\n",
        "        # Bind functions to buttons\n",
        "        answer_input.submit(check_answer)\n",
        "        continue_button.click(continue_quiz)\n",
        "        quit_button.click(quit_quiz)\n",
        "\n",
        "        # Add components to the interface\n",
        "        app.add(question_label)\n",
        "        app.add(answer_input)\n",
        "        app.add(result_label)\n",
        "        app.add(continue_button)\n",
        "        app.add(quit_button)\n",
        "\n",
        "        # Initialize the first question\n",
        "        first_question, first_answer = generate_question()\n",
        "        question_label.value = first_question\n",
        "        question_label.metadata = {'answer': first_answer}  # Store the answer in the label metadata for access\n",
        "\n",
        "    return app\n",
        "\n",
        "# Create and launch the app\n",
        "app = quiz_interface()\n",
        "app.launch()\n"
      ],
      "metadata": {
        "id": "XZKNTtfG1VnN"
      },
      "execution_count": null,
      "outputs": []
    }
  ]
}