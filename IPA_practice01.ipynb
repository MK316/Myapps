{
  "nbformat": 4,
  "nbformat_minor": 0,
  "metadata": {
    "colab": {
      "private_outputs": true,
      "provenance": [],
      "authorship_tag": "ABX9TyPuAkc7NFeKmv1uh7/VPcG3",
      "include_colab_link": true
    },
    "kernelspec": {
      "name": "python3",
      "display_name": "Python 3"
    },
    "language_info": {
      "name": "python"
    }
  },
  "cells": [
    {
      "cell_type": "markdown",
      "metadata": {
        "id": "view-in-github",
        "colab_type": "text"
      },
      "source": [
        "<a href=\"https://colab.research.google.com/github/MK316/Myapps/blob/main/IPA_practice01.ipynb\" target=\"_parent\"><img src=\"https://colab.research.google.com/assets/colab-badge.svg\" alt=\"Open In Colab\"/></a>"
      ]
    },
    {
      "cell_type": "code",
      "execution_count": null,
      "metadata": {
        "id": "J_B6dQYWsL9f"
      },
      "outputs": [],
      "source": [
        "url = \"https://raw.githubusercontent.com/MK316/Myapps/main/data/IPA.csv\""
      ]
    },
    {
      "cell_type": "markdown",
      "source": [
        "Note: Options to use\n",
        "\n",
        "+ Lower case only\n",
        "+ Voicing: voiced or voiceless\n",
        "+ Place: bilabial, labio-dental, dental, alveolar, palato-alveolar, velar, gottal\n",
        "+ Centrality: central or lateral\n",
        "+ Manner: stop, fricative, affricate, approximant"
      ],
      "metadata": {
        "id": "6EJK8EbTtDvC"
      }
    },
    {
      "cell_type": "code",
      "source": [
        "#@markdown IPA practice with points\n",
        "\n",
        "import pandas as pd\n",
        "import random\n",
        "from IPython.display import display, clear_output\n",
        "import ipywidgets as widgets\n",
        "\n",
        "url = \"https://raw.githubusercontent.com/MK316/Myapps/main/data/IPA.csv\"\n",
        "\n",
        "# Load the CSV data\n",
        "def load_data():\n",
        "    return pd.read_csv(url, encoding='utf-8')\n",
        "\n",
        "# Display a random IPA symbol and quiz the user\n",
        "def quiz(df, score):\n",
        "    clear_output(wait=True)\n",
        "    row = df.sample(1).iloc[0]\n",
        "    ipa_symbol = row['IPA']\n",
        "    properties = ['Voicing', 'Place', 'Centrality', 'Oro-nasal', 'Manner']\n",
        "    question_property = random.choice(properties)\n",
        "\n",
        "    print(f\"IPA Symbol: {ipa_symbol}\")\n",
        "    print(f\"What is the {question_property.lower()} of this IPA symbol?\")\n",
        "\n",
        "    input_text = widgets.Text(\n",
        "        value='',\n",
        "        placeholder='Type your answer here',\n",
        "        description='Answer:',\n",
        "        disabled=False\n",
        "    )\n",
        "\n",
        "    def check_answer(b):\n",
        "        if input_text.value.lower() == str(row[question_property]).lower():\n",
        "            score[0] += 1\n",
        "            print(f\"Correct! Total points: {score[0]}\")\n",
        "        else:\n",
        "            print(f\"Wrong! The correct answer was {row[question_property]}. Total points: {score[0]}\")\n",
        "        ask_continue(score)\n",
        "\n",
        "    submit_button = widgets.Button(description=\"Submit\")\n",
        "    submit_button.on_click(check_answer)\n",
        "\n",
        "    display(input_text, submit_button)\n",
        "\n",
        "# Ask whether to continue or quit the quiz\n",
        "def ask_continue(score):\n",
        "    continue_button = widgets.Button(description=\"Continue\")\n",
        "    quit_button = widgets.Button(description=\"Quit\")\n",
        "\n",
        "    def continue_quiz(b):\n",
        "        quiz(df, score)\n",
        "\n",
        "    def quit_quiz(b):\n",
        "        clear_output(wait=True)\n",
        "        print(f\"Well-practiced! Your total points are: {score[0]}\")\n",
        "\n",
        "    continue_button.on_click(continue_quiz)\n",
        "    quit_button.on_click(quit_quiz)\n",
        "\n",
        "    display(continue_button, quit_button)\n",
        "\n",
        "# Start the quiz\n",
        "df = load_data()\n",
        "score = [0]  # Using list to keep reference in nested functions\n",
        "quiz(df, score)\n"
      ],
      "metadata": {
        "id": "SKGw0GJUsgoD"
      },
      "execution_count": null,
      "outputs": []
    },
    {
      "cell_type": "markdown",
      "source": [
        "# Graio"
      ],
      "metadata": {
        "id": "GBrHrF8ws42E"
      }
    },
    {
      "cell_type": "code",
      "source": [
        "!pip install gradio"
      ],
      "metadata": {
        "id": "w1GqeABotcc4"
      },
      "execution_count": null,
      "outputs": []
    },
    {
      "cell_type": "code",
      "source": [
        "\"https://raw.githubusercontent.com/MK316/Myapps/main/data/IPA.csv\""
      ],
      "metadata": {
        "id": "YR7PduWOt8Yn"
      },
      "execution_count": null,
      "outputs": []
    },
    {
      "cell_type": "code",
      "source": [
        "import pandas as pd\n",
        "import random\n",
        "import gradio as gr\n",
        "\n",
        "# Load the CSV data from the provided URL\n",
        "def load_data():\n",
        "    url = \"https://raw.githubusercontent.com/MK316/Myapps/main/data/IPA.csv\"\n",
        "    return pd.read_csv(url, encoding='utf-8')\n",
        "\n",
        "df = load_data()  # Load data once at the start\n",
        "\n",
        "def generate_question():\n",
        "    row = df.sample(1).iloc[0]\n",
        "    properties = ['Voicing', 'Place', 'Centrality', 'Oro-nasal', 'Manner']\n",
        "    selected_property = random.choice(properties)\n",
        "    question = f\"IPA Symbol: {row['IPA']}\\nWhat is the {selected_property.lower()} of this IPA symbol?\"\n",
        "    return question, row[selected_property].lower(), selected_property.lower()\n",
        "\n",
        "def quiz_function(user_answer, score, question_info):\n",
        "    correct_answer = question_info['answer']\n",
        "    property_name = question_info['property']\n",
        "    if user_answer.lower() == correct_answer:\n",
        "        score[0] += 1\n",
        "        result = f\"Correct! The {property_name} is '{correct_answer}'. Total points: {score[0]}\"\n",
        "    else:\n",
        "        result = f\"Wrong! The correct {property_name} was '{correct_answer}'. Total points: {score[0]}\"\n",
        "    # Generate a new question for the next round\n",
        "    new_question_info = {'question': generate_question()}\n",
        "    return result, new_question_info\n",
        "\n",
        "def gradio_interface():\n",
        "    score = [0]  # Use a list to maintain score across function calls\n",
        "    question_info = {'question': '', 'answer': '', 'property': ''}\n",
        "\n",
        "    def initialize_quiz():\n",
        "        question_info['question'], question_info['answer'], question_info['property'] = generate_question()\n",
        "        return question_info['question'], \"\", \"\"\n",
        "\n",
        "    def submit_answer(user_answer):\n",
        "        result, new_question_info = quiz_function(user_answer, score, question_info)\n",
        "        question_info.update(new_question_info)\n",
        "        return result, question_info['question'], \"\"\n",
        "\n",
        "    def continue_quiz():\n",
        "        question_info['question'], question_info['answer'], question_info['property'] = generate_question()\n",
        "        return question_info['question'], \"\", \"\"\n",
        "\n",
        "    def quit_quiz():\n",
        "        return f\"Quiz ended. Your total score: {score[0]} points.\", None, None\n",
        "\n",
        "    with gr.Blocks() as app:\n",
        "        question_label = gr.Textbox(label=\"Question\")\n",
        "        answer_input = gr.Textbox(label=\"Your Answer\", placeholder=\"Type your answer here\")\n",
        "        submit_button = gr.Button(\"Submit\")\n",
        "        output_label = gr.Textbox(label=\"Result\")\n",
        "\n",
        "        continue_button = gr.Button(\"Continue\")\n",
        "        quit_button = gr.Button(\"Quit\")\n",
        "\n",
        "        submit_button.click(fn=submit_answer, inputs=[answer_input], outputs=[output_label, question_label, answer_input])\n",
        "        continue_button.click(fn=continue_quiz, outputs=[question_label, answer_input])\n",
        "        quit_button.click(fn=quit_quiz, outputs=[output_label])\n",
        "\n",
        "        # Initialize the first question\n",
        "        question_label.value, _, _ = initialize_quiz()\n",
        "\n",
        "    return app\n",
        "\n",
        "app = gradio_interface()\n",
        "app.launch()\n"
      ],
      "metadata": {
        "id": "QlAnrkDx2x-J"
      },
      "execution_count": null,
      "outputs": []
    },
    {
      "cell_type": "code",
      "source": [
        "import pandas as pd\n",
        "import random\n",
        "import gradio as gr\n",
        "\n",
        "# Load the CSV data from the provided URL\n",
        "def load_data():\n",
        "    url = \"https://raw.githubusercontent.com/MK316/Myapps/main/data/IPA.csv\"\n",
        "    return pd.read_csv(url, encoding='utf-8')\n",
        "\n",
        "df = load_data()  # Load data once at the start\n",
        "\n",
        "def generate_question():\n",
        "    row = df.sample(1).iloc[0]\n",
        "    properties = ['Voicing', 'Place', 'Centrality', 'Oro-nasal', 'Manner']\n",
        "    selected_property = random.choice(properties)\n",
        "    question = f\"IPA Symbol: {row['IPA']}\\nWhat is the {selected_property.lower()} of this IPA symbol?\"\n",
        "    return question, row[selected_property].lower(), selected_property.lower()\n",
        "\n",
        "def quiz_function(user_answer, score, question_info):\n",
        "    correct_answer = question_info['answer']\n",
        "    property_name = question_info['property']\n",
        "    if user_answer.lower() == correct_answer:\n",
        "        score[0] += 1\n",
        "        result = f\"Correct! The {property_name} is '{correct_answer}'. Total points: {score[0]}\"\n",
        "    else:\n",
        "        result = f\"Wrong! The correct {property_name} was '{correct_answer}'. Total points: {score[0]}\"\n",
        "    # Generate a new question for the next round\n",
        "    new_question_info = {'question': generate_question()}\n",
        "    return result, new_question_info\n",
        "\n",
        "def gradio_interface():\n",
        "    score = [0]  # Use a list to maintain score across function calls\n",
        "    question_info = {'question': '', 'answer': '', 'property': ''}\n",
        "\n",
        "    def initialize_quiz():\n",
        "        question_info['question'], question_info['answer'], question_info['property'] = generate_question()\n",
        "        return question_info['question'], \"\", \"\"\n",
        "\n",
        "    def submit_answer(user_answer):\n",
        "        result, new_question_info = quiz_function(user_answer, score, question_info)\n",
        "        question_info.update(new_question_info)\n",
        "        return result, question_info['question'], \"\"\n",
        "\n",
        "#    def continue_quiz():\n",
        "#        question_info['question'], question_info['answer'], question_info['property'] = generate_question()\n",
        "#        return question_info['question'], \"\", \"\"\n",
        "\n",
        "    def continue_quiz():\n",
        "    # Generate a new question and only return the question text for display\n",
        "        question, answer, property = generate_question()\n",
        "        question_info['question'], question_info['answer'], question_info['property'] = question, answer, property\n",
        "        return question_info['question'], \"\", \"\"\n",
        "\n",
        "\n",
        "    def quit_quiz():\n",
        "        return f\"Quiz ended. Your total score: {score[0]} points.\", None, None\n",
        "\n",
        "    with gr.Blocks() as app:\n",
        "        question_label = gr.Textbox(label=\"Question\")\n",
        "        answer_input = gr.Textbox(label=\"Your Answer\", placeholder=\"Type your answer here\")\n",
        "        submit_button = gr.Button(\"Submit\")\n",
        "        output_label = gr.Textbox(label=\"Result\")\n",
        "\n",
        "        continue_button = gr.Button(\"Continue\")\n",
        "        quit_button = gr.Button(\"Quit\")\n",
        "\n",
        "        submit_button.click(fn=submit_answer, inputs=[answer_input], outputs=[output_label, question_label, answer_input])\n",
        "        continue_button.click(fn=continue_quiz, outputs=[question_label, answer_input])\n",
        "        quit_button.click(fn=quit_quiz, outputs=[output_label])\n",
        "\n",
        "        # Initialize the first question\n",
        "        question_label.value, _, _ = initialize_quiz()\n",
        "\n",
        "    return app\n",
        "\n",
        "app = gradio_interface()\n",
        "app.launch()\n"
      ],
      "metadata": {
        "id": "AVdL81dO6SCW"
      },
      "execution_count": null,
      "outputs": []
    },
    {
      "cell_type": "markdown",
      "source": [
        "Final version?"
      ],
      "metadata": {
        "id": "qAHymcPv7yBG"
      }
    },
    {
      "cell_type": "code",
      "source": [],
      "metadata": {
        "id": "2GaDNngg7zUe"
      },
      "execution_count": null,
      "outputs": []
    }
  ]
}