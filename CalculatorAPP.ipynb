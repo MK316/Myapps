{
  "nbformat": 4,
  "nbformat_minor": 0,
  "metadata": {
    "colab": {
      "private_outputs": true,
      "provenance": [],
      "authorship_tag": "ABX9TyMBocK5heIDXubIcVng6Cj/",
      "include_colab_link": true
    },
    "kernelspec": {
      "name": "python3",
      "display_name": "Python 3"
    },
    "language_info": {
      "name": "python"
    }
  },
  "cells": [
    {
      "cell_type": "markdown",
      "metadata": {
        "id": "view-in-github",
        "colab_type": "text"
      },
      "source": [
        "<a href=\"https://colab.research.google.com/github/MK316/Myapps/blob/main/CalculatorAPP.ipynb\" target=\"_parent\"><img src=\"https://colab.research.google.com/assets/colab-badge.svg\" alt=\"Open In Colab\"/></a>"
      ]
    },
    {
      "cell_type": "markdown",
      "source": [
        "# 💜 My calculator app and how to say the calcuation in English\n",
        "\n",
        "+ Addition\n",
        "+ Subtraction\n",
        "+ Multiplication\n",
        "+ Division\n",
        "\n",
        "**You shall listen to the result in English after the calculation.**"
      ],
      "metadata": {
        "id": "Kbj420mPx9tY"
      }
    },
    {
      "cell_type": "code",
      "execution_count": null,
      "metadata": {
        "id": "HDdrL9xwoc2k"
      },
      "outputs": [],
      "source": [
        "%%capture\n",
        "!pip install gradio gtts pydub\n",
        "!apt-get install ffmpeg"
      ]
    },
    {
      "cell_type": "code",
      "source": [
        "#@markdown 🌀 Calculator\n",
        "import gradio as gr\n",
        "from gtts import gTTS\n",
        "import os\n",
        "\n",
        "def format_number(num):\n",
        "    # Format the number to remove '.0' if it's a whole number\n",
        "    return int(num) if num == int(num) else num\n",
        "\n",
        "def calculate_and_speak(operation, num1, num2):\n",
        "    # Format numbers to remove '.0' for whole numbers\n",
        "    num1_formatted = format_number(num1)\n",
        "    num2_formatted = format_number(num2)\n",
        "\n",
        "    # Perform the calculation\n",
        "    if operation == 'sum':\n",
        "        result = num1 + num2\n",
        "        result_text = f\"{num1_formatted} plus {num2_formatted}, equals {format_number(result)}\"\n",
        "    elif operation == 'subtraction':\n",
        "        result = num1 - num2\n",
        "        result_text = f\"{num1_formatted} minus {num2_formatted}, equals {format_number(result)}\"\n",
        "    elif operation == 'multiplication':\n",
        "        result = num1 * num2\n",
        "        result_text = f\"{num1_formatted} multiplied by {num2_formatted}, equals {format_number(result)}\"\n",
        "    elif operation == 'division':\n",
        "        if num2 == 0:\n",
        "            result_text = \"Cannot divide by zero\"\n",
        "        else:\n",
        "            result = num1 / num2\n",
        "            result_text = f\"{num1_formatted} divided by {num2_formatted}, equals {format_number(result)}\"\n",
        "\n",
        "    # Convert the result to speech\n",
        "    tts = gTTS(result_text)\n",
        "    audio_file = 'result.mp3'\n",
        "    tts.save(audio_file)\n",
        "\n",
        "    return result_text, audio_file\n",
        "\n",
        "iface = gr.Interface(\n",
        "    fn=calculate_and_speak,\n",
        "    inputs=[\n",
        "        gr.Dropdown(choices=['sum', 'subtraction', 'multiplication', 'division'], label=\"Operation\"),\n",
        "        gr.Number(label=\"Number 1\"),\n",
        "        gr.Number(label=\"Number 2\")\n",
        "    ],\n",
        "    outputs=[\"text\", \"audio\"]\n",
        ")\n",
        "\n",
        "iface.launch(share=True)\n"
      ],
      "metadata": {
        "cellView": "form",
        "id": "Bq76r8rU59GY"
      },
      "execution_count": null,
      "outputs": []
    },
    {
      "cell_type": "code",
      "source": [
        "#@markdown 🌀 QR code to generate\n",
        "import qrcode\n",
        "from IPython.display import display\n",
        "from PIL import Image\n",
        "\n",
        "# Replace YOUR_URL_HERE with the URL you copied from the Gradio output\n",
        "url = input(\"Enter the URL to generate QR code: \")\n",
        "\n",
        "# Generate QR code\n",
        "qr = qrcode.QRCode(\n",
        "    version=1,\n",
        "    error_correction=qrcode.constants.ERROR_CORRECT_H,\n",
        "    box_size=12,\n",
        "    border=4,\n",
        ")\n",
        "qr.add_data(url)\n",
        "qr.make(fit=True)\n",
        "img = qr.make_image(fill_color=\"black\", back_color=\"white\")\n",
        "\n",
        "# Display the QR code\n",
        "display(img)\n",
        "\n",
        "# Save the QR code image\n",
        "image_path = '/content/qr_code.png'  # Specify your desired path and file name\n",
        "img.save(image_path)\n",
        "print(f\"QR code saved at {image_path}\")"
      ],
      "metadata": {
        "cellView": "form",
        "id": "MFDEQJkK6fTU"
      },
      "execution_count": null,
      "outputs": []
    }
  ]
}