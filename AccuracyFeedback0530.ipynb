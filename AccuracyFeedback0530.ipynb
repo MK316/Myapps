{
  "nbformat": 4,
  "nbformat_minor": 0,
  "metadata": {
    "colab": {
      "private_outputs": true,
      "provenance": [],
      "authorship_tag": "ABX9TyPWu6a4PAusbv9r7qww8Vef",
      "include_colab_link": true
    },
    "kernelspec": {
      "name": "python3",
      "display_name": "Python 3"
    },
    "language_info": {
      "name": "python"
    }
  },
  "cells": [
    {
      "cell_type": "markdown",
      "metadata": {
        "id": "view-in-github",
        "colab_type": "text"
      },
      "source": [
        "<a href=\"https://colab.research.google.com/github/MK316/Myapps/blob/main/AccuracyFeedback0530.ipynb\" target=\"_parent\"><img src=\"https://colab.research.google.com/assets/colab-badge.svg\" alt=\"Open In Colab\"/></a>"
      ]
    },
    {
      "cell_type": "code",
      "source": [
        "%%capture\n",
        "!pip install gradio speechrecognition python-Levenshtein soundfile"
      ],
      "metadata": {
        "id": "ANeFNZHMzt6Z"
      },
      "execution_count": null,
      "outputs": []
    },
    {
      "cell_type": "markdown",
      "source": [
        "# 1. Score only\n",
        "\n",
        "This app is uploaded as pronunciationfeedback (0530)"
      ],
      "metadata": {
        "id": "u4mNIqHmOFeN"
      }
    },
    {
      "cell_type": "markdown",
      "source": [
        "# This app is loaded"
      ],
      "metadata": {
        "id": "beuHQhSQ9-H6"
      }
    },
    {
      "cell_type": "code",
      "source": [
        "#@markdown Output: Accuracy Score\n",
        "\n",
        "import gradio as gr\n",
        "import speech_recognition as sr\n",
        "from Levenshtein import ratio\n",
        "import tempfile\n",
        "import numpy as np\n",
        "import soundfile as sf\n",
        "import pandas as pd\n",
        "\n",
        "# Sample dataframe with sentences ordered from easy to hard\n",
        "data = {\n",
        "    \"Sentences\": [\n",
        "        \"A stitch in time saves nine.\",\n",
        "        \"To be or not to be, that is the question.\",\n",
        "        \"Five cats were living in safe caves.\",\n",
        "        \"Hives give shelter to bees in large caves.\",\n",
        "        \"His decision to plant a rose was amazing.\",\n",
        "        \"She sells sea shells by the sea shore.\",\n",
        "        \"The colorful parrot likes rolling berries.\",\n",
        "        \"Time flies like an arrow; fruit flies like a banana.\",\n",
        "        \"Good things come to those who wait.\",\n",
        "        \"All human beings are born free and equal in dignity and rights.\"\n",
        "    ]\n",
        "}\n",
        "df = pd.DataFrame(data)\n",
        "\n",
        "def transcribe_audio(file_info):\n",
        "    r = sr.Recognizer()\n",
        "    with tempfile.NamedTemporaryFile(delete=True, suffix=\".wav\") as tmpfile:\n",
        "        sf.write(tmpfile.name, data=file_info[1], samplerate=44100, format='WAV')\n",
        "        tmpfile.seek(0)\n",
        "        with sr.AudioFile(tmpfile.name) as source:\n",
        "            audio_data = r.record(source)\n",
        "    try:\n",
        "        text = r.recognize_google(audio_data)\n",
        "        return text\n",
        "    except sr.UnknownValueError:\n",
        "        return \"Could not understand audio\"\n",
        "    except sr.RequestError as e:\n",
        "        return f\"Could not request results; {e}\"\n",
        "\n",
        "def pronunciation_correction(expected_text, file_info):\n",
        "    user_spoken_text = transcribe_audio(file_info)\n",
        "    similarity = ratio(expected_text.lower(), user_spoken_text.lower())\n",
        "    description = f\"{similarity:.2f}\"\n",
        "\n",
        "    if similarity >= 0.9:\n",
        "        feedback = \"Excellent pronunciation!\"\n",
        "    elif similarity >= 0.7:\n",
        "        feedback = \"Good pronunciation!\"\n",
        "    elif similarity >= 0.5:\n",
        "        feedback = \"Needs improvement.\"\n",
        "    else:\n",
        "        feedback = \"Poor pronunciation, try to focus more on clarity.\"\n",
        "\n",
        "    return feedback, description\n",
        "\n",
        "with gr.Blocks() as app:\n",
        "    with gr.Row():\n",
        "        sentence_dropdown = gr.Dropdown(choices=df['Sentences'].tolist(), label=\"Select a Sentence\")\n",
        "        selected_sentence_output = gr.Textbox(label=\"Selected Text\", interactive=False)\n",
        "    audio_input = gr.Audio(label=\"Upload Audio File\", type=\"numpy\")\n",
        "    check_pronunciation_button = gr.Button(\"Check Pronunciation\")\n",
        "    pronunciation_feedback = gr.Textbox(label=\"Pronunciation Feedback\")\n",
        "    pronunciation_score = gr.Number(label=\"Pronunciation Accuracy Score: 0 (No Match) ~ 1 (Perfect)\")\n",
        "\n",
        "    sentence_dropdown.change(lambda x: x, inputs=sentence_dropdown, outputs=selected_sentence_output)\n",
        "    check_pronunciation_button.click(\n",
        "        pronunciation_correction,\n",
        "        inputs=[sentence_dropdown, audio_input],\n",
        "        outputs=[pronunciation_feedback, pronunciation_score]\n",
        "    )\n",
        "\n",
        "app.launch(debug=True)\n"
      ],
      "metadata": {
        "cellView": "form",
        "id": "fZbk2pJS1bHm"
      },
      "execution_count": null,
      "outputs": []
    },
    {
      "cell_type": "markdown",
      "source": [
        "# User average"
      ],
      "metadata": {
        "id": "hlpV86pz-Bhb"
      }
    },
    {
      "cell_type": "markdown",
      "source": [
        "# This works giving the final average for the given name"
      ],
      "metadata": {
        "id": "g5l9qPZ7ES0n"
      }
    },
    {
      "cell_type": "code",
      "source": [
        "#@markdown Accuracy Score, Average, user name\n",
        "import gradio as gr\n",
        "import speech_recognition as sr\n",
        "from Levenshtein import ratio\n",
        "import tempfile\n",
        "import numpy as np\n",
        "import soundfile as sf\n",
        "import pandas as pd\n",
        "\n",
        "# Sample dataframe with sentences\n",
        "data = {\n",
        "    \"Sentences\": [\n",
        "        \"A stitch in time saves nine.\",\n",
        "        \"To be or not to be, that is the question.\",\n",
        "        \"Five cats were living in safe caves.\",\n",
        "        \"Hives give shelter to bees in large caves.\",\n",
        "        \"His decision to plant a rose was amazing.\",\n",
        "        \"She sells sea shells by the sea shore.\",\n",
        "        \"The colorful parrot likes rolling berries.\",\n",
        "        \"Time flies like an arrow; fruit flies like a banana.\",\n",
        "        \"Good things come to those who wait.\",\n",
        "        \"All human beings are born free and equal in dignity and rights.\"\n",
        "    ]\n",
        "}\n",
        "df = pd.DataFrame(data)\n",
        "user_scores = {}\n",
        "\n",
        "def transcribe_audio(file_info):\n",
        "    r = sr.Recognizer()\n",
        "    with tempfile.NamedTemporaryFile(delete=True, suffix=\".wav\") as tmpfile:\n",
        "        sf.write(tmpfile.name, data=file_info[1], samplerate=44100, format='WAV')\n",
        "        tmpfile.seek(0)\n",
        "        with sr.AudioFile(tmpfile.name) as source:\n",
        "            audio_data = r.record(source)\n",
        "    try:\n",
        "        text = r.recognize_google(audio_data)\n",
        "        return text\n",
        "    except sr.UnknownValueError:\n",
        "        return \"Could not understand audio\"\n",
        "    except sr.RequestError as e:\n",
        "        return f\"Could not request results; {e}\"\n",
        "\n",
        "def pronunciation_correction(name, expected_text, file_info):\n",
        "    user_spoken_text = transcribe_audio(file_info)\n",
        "    similarity = ratio(expected_text.lower(), user_spoken_text.lower())\n",
        "    score = float(f\"{similarity:.2f}\")\n",
        "    if name in user_scores:\n",
        "        user_scores[name].append(score)  # Track scores for each user\n",
        "    else:\n",
        "        user_scores[name] = [score]\n",
        "    feedback = \"Excellent pronunciation!\" if score >= 0.9 else \\\n",
        "               \"Good pronunciation!\" if score >= 0.7 else \\\n",
        "               \"Needs improvement.\" if score >= 0.5 else \\\n",
        "               \"Poor pronunciation, try to focus more on clarity.\"\n",
        "    return feedback, score\n",
        "\n",
        "def calculate_average(name):\n",
        "    if name in user_scores and user_scores[name]:\n",
        "        filtered_scores = [score for score in user_scores[name] if score > 0]  # Ignore zeros\n",
        "        average_score = sum(filtered_scores) / len(filtered_scores)\n",
        "    else:\n",
        "        average_score = 0\n",
        "    return f\"😍 Great job, {name}! \\n\\nYour average score (excluding zeros) is: {average_score:.2f}. \\nRemember, this score only focuses on the accuracy of individual sounds. \\nKeep up the fun and enjoyment as you continue learning English!\"\n",
        "\n",
        "with gr.Blocks() as app:\n",
        "    name_input = gr.Textbox(label=\"Enter your name\", placeholder=\"Type your name here...\", value=\"\")\n",
        "    with gr.Row():\n",
        "        sentence_dropdown = gr.Dropdown(choices=df['Sentences'].tolist(), label=\"Select a Sentence\")\n",
        "        selected_sentence_output = gr.Textbox(label=\"Selected Text\", interactive=False)\n",
        "    audio_input = gr.Audio(label=\"Upload Audio File\", type=\"numpy\")\n",
        "    check_pronunciation_button = gr.Button(\"Check Pronunciation\")\n",
        "    pronunciation_feedback = gr.Textbox(label=\"Pronunciation Feedback\")\n",
        "    pronunciation_score = gr.Number(label=\"Pronunciation Accuracy Score: 0 (No Match) ~ 1 (Perfect)\")\n",
        "    complete_button = gr.Button(\"Complete\")\n",
        "    average_output = gr.Textbox(label=\"Average Score Output\", visible=True)\n",
        "\n",
        "    sentence_dropdown.change(lambda x: x, inputs=sentence_dropdown, outputs=selected_sentence_output)\n",
        "    check_pronunciation_button.click(\n",
        "        pronunciation_correction,\n",
        "        inputs=[name_input, sentence_dropdown, audio_input],\n",
        "        outputs=[pronunciation_feedback, pronunciation_score]\n",
        "    )\n",
        "    complete_button.click(\n",
        "        calculate_average,\n",
        "        inputs=[name_input],\n",
        "        outputs=average_output\n",
        "    )\n",
        "\n",
        "app.launch(debug=True)\n"
      ],
      "metadata": {
        "cellView": "form",
        "id": "jwGFhRhVEX7u"
      },
      "execution_count": null,
      "outputs": []
    }
  ]
}