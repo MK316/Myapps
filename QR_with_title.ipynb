{
  "nbformat": 4,
  "nbformat_minor": 0,
  "metadata": {
    "colab": {
      "private_outputs": true,
      "provenance": [],
      "authorship_tag": "ABX9TyPQ6bn/v91lipTdCjX3LNeD",
      "include_colab_link": true
    },
    "kernelspec": {
      "name": "python3",
      "display_name": "Python 3"
    },
    "language_info": {
      "name": "python"
    }
  },
  "cells": [
    {
      "cell_type": "markdown",
      "metadata": {
        "id": "view-in-github",
        "colab_type": "text"
      },
      "source": [
        "<a href=\"https://colab.research.google.com/github/MK316/Myapps/blob/main/QR_with_title.ipynb\" target=\"_parent\"><img src=\"https://colab.research.google.com/assets/colab-badge.svg\" alt=\"Open In Colab\"/></a>"
      ]
    },
    {
      "cell_type": "code",
      "source": [
        "!pip install pyqrcode pypng"
      ],
      "metadata": {
        "id": "oXSgmM_vNics"
      },
      "execution_count": null,
      "outputs": []
    },
    {
      "cell_type": "code",
      "execution_count": null,
      "metadata": {
        "id": "deShGpIcNKcQ"
      },
      "outputs": [],
      "source": [
        "import pyqrcode\n",
        "from IPython.display import Image, display, HTML\n",
        "from pyqrcode import QRCode\n",
        "\n",
        "s = input(\"Paste the link: \")\n",
        "t = input(\"Title of the QR: \")\n",
        "# Generate QR code\n",
        "url = pyqrcode.create(s)\n",
        "\n",
        "# Create and save the png file naming \"myqr.png\"\n",
        "url.png(\"myqr.png\", scale=10)\n",
        "\n",
        "def show_png_with_title(file, title=\"QR Code\"):\n",
        "    # Display the title as HTML to enhance styling options (like centering)\n",
        "    display(HTML(f\"<h1 style='text-align: center;'>{title}</h1>\"))\n",
        "    # Display the QR code image\n",
        "    display(Image(file))\n",
        "\n",
        "# Call the function with the title you want above the QR code\n",
        "show_png_with_title(\"myqr.png\", title=t)\n"
      ]
    },
    {
      "cell_type": "code",
      "source": [
        "#@markdown QR code with title (on Colab)\n",
        "import pyqrcode\n",
        "import base64\n",
        "from IPython.display import Image, display, HTML\n",
        "\n",
        "s = input(\"Paste the link: \")\n",
        "\n",
        "# Generate QR code\n",
        "url = pyqrcode.create(s)\n",
        "\n",
        "# Create and save the png file naming \"myqr.png\"\n",
        "url.png(\"myqr.png\", scale=10)\n",
        "\n",
        "def show_png_with_title(file, title=\"QR Code\"):\n",
        "    # Encode image to base64\n",
        "    with open(file, \"rb\") as image_file:\n",
        "        encoded_string = base64.b64encode(image_file.read()).decode('utf-8')\n",
        "\n",
        "    # Display the title and the image as HTML with improved styling for alignment\n",
        "    html = f\"\"\"\n",
        "    <div style=\"text-align: center; margin: 10px 0;\">\n",
        "        <h1>{title}</h1>\n",
        "        <img src=\"data:image/png;base64,{encoded_string}\" style=\"margin-top: 10px;\"/>\n",
        "    </div>\n",
        "    \"\"\"\n",
        "    display(HTML(html))\n",
        "\n",
        "# Call the function with the title you want above the QR code\n",
        "show_png_with_title(\"myqr.png\", title=\"Scan this QR Code\")\n"
      ],
      "metadata": {
        "cellView": "form",
        "id": "lc3ZPrHJOwb7"
      },
      "execution_count": null,
      "outputs": []
    },
    {
      "cell_type": "markdown",
      "source": [
        "# Gradio implementation (This is deployed on Huggingface)\n",
        "\n",
        "+ This requires ttf font file to upload: [font link](https://github.com/owncloud/docs/blob/master/fonts/dejavu-sans-bold.ttf)\n",
        "+  [App link](https://mk-316-QRcode-with-title.hf.space)"
      ],
      "metadata": {
        "id": "f1IXS95oPGzh"
      }
    },
    {
      "cell_type": "code",
      "source": [
        "%%capture\n",
        "!pip install gradio"
      ],
      "metadata": {
        "id": "Cr1iIbY9PKUa"
      },
      "execution_count": null,
      "outputs": []
    },
    {
      "cell_type": "code",
      "source": [
        "import gradio as gr\n",
        "import pyqrcode\n",
        "from PIL import Image, ImageDraw, ImageFont\n",
        "import io\n",
        "\n",
        "def generate_qr_code(url, title):\n",
        "    # Generate QR code\n",
        "    qr = pyqrcode.create(url)\n",
        "    buffer = io.BytesIO()\n",
        "\n",
        "    # Create the QR code as a PNG\n",
        "    qr.png(buffer, scale=10)\n",
        "\n",
        "    # Move to the beginning of the StringIO buffer\n",
        "    buffer.seek(0)\n",
        "    qr_image = Image.open(buffer)\n",
        "\n",
        "    # Prepare to add title to the image\n",
        "    image_width = qr_image.width\n",
        "    image_height = qr_image.height + 70  # Add 70 pixels space for title\n",
        "\n",
        "    # Create a new image with white background\n",
        "    result_image = Image.new('RGB', (image_width, image_height), 'white')\n",
        "    # Paste the QR code onto this new image\n",
        "    result_image.paste(qr_image, (0, 70))\n",
        "\n",
        "    # Draw the title on the image\n",
        "    draw = ImageDraw.Draw(result_image)\n",
        "    font_path = \"dejavu-sans-bold.ttf\"  # Ensure the font path is correct\n",
        "    font = ImageFont.truetype(font_path, 24)  # Use a specific font size\n",
        "    text_width, text_height = draw.textsize(title, font=font)\n",
        "    text_x = (image_width - text_width) / 2  # Center the text\n",
        "    draw.text((text_x, 20), title, fill=\"black\", font=font)\n",
        "\n",
        "    # Return the final image\n",
        "    return result_image\n",
        "\n",
        "# Create the Gradio interface\n",
        "iface = gr.Interface(\n",
        "    fn=generate_qr_code,\n",
        "    inputs=[\n",
        "        gr.Textbox(label=\"Enter URL\", placeholder=\"Type or paste URL here...\"),\n",
        "        gr.Textbox(label=\"Enter Title for QR Code\", placeholder=\"Type the title here...\")\n",
        "    ],\n",
        "    outputs=gr.Image(label=\"QR Code Image\", type=\"pil\", format=\"png\"),\n",
        "    title=\"QR Code Generator\",\n",
        "    description=\"Enter a URL and a title to generate a QR Code. The title and the QR Code will be displayed in the same image.\"\n",
        ")\n",
        "\n",
        "iface.launch()\n"
      ],
      "metadata": {
        "id": "ECUD0NjJRQdJ"
      },
      "execution_count": null,
      "outputs": []
    }
  ]
}