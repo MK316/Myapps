{
  "nbformat": 4,
  "nbformat_minor": 0,
  "metadata": {
    "colab": {
      "private_outputs": true,
      "provenance": [],
      "authorship_tag": "ABX9TyO4czodn8xd0JoA9u7cm1Zq",
      "include_colab_link": true
    },
    "kernelspec": {
      "name": "python3",
      "display_name": "Python 3"
    },
    "language_info": {
      "name": "python"
    }
  },
  "cells": [
    {
      "cell_type": "markdown",
      "metadata": {
        "id": "view-in-github",
        "colab_type": "text"
      },
      "source": [
        "<a href=\"https://colab.research.google.com/github/MK316/Myapps/blob/main/Phonetic_description.ipynb\" target=\"_parent\"><img src=\"https://colab.research.google.com/assets/colab-badge.svg\" alt=\"Open In Colab\"/></a>"
      ]
    },
    {
      "cell_type": "markdown",
      "source": [
        "# Phonetic description practice application"
      ],
      "metadata": {
        "id": "eGRKUg34fp6Y"
      }
    },
    {
      "cell_type": "code",
      "source": [
        "%%capture\n",
        "!pip install gradio"
      ],
      "metadata": {
        "id": "Jy7YE3WKWlql"
      },
      "execution_count": null,
      "outputs": []
    },
    {
      "cell_type": "code",
      "source": [
        "https://raw.githubusercontent.com/MK316/Myapps/refs/heads/main/data/Phonetic-description.csv"
      ],
      "metadata": {
        "id": "h9XsR1wGXmwv"
      },
      "execution_count": null,
      "outputs": []
    },
    {
      "cell_type": "code",
      "source": [
        "import random\n",
        "import gradio as gr\n",
        "import pandas as pd\n",
        "\n",
        "# Load data from the provided URL\n",
        "def load_data():\n",
        "    url = \"https://raw.githubusercontent.com/MK316/Myapps/refs/heads/main/data/Phonetic-description.csv\"\n",
        "    try:\n",
        "        data = pd.read_csv(url, encoding='utf-8')  # Ensure correct encoding\n",
        "        return data\n",
        "    except Exception as e:\n",
        "        raise ValueError(f\"Error loading data: {e}\")\n",
        "\n",
        "# Load the data into a DataFrame\n",
        "df = load_data()\n",
        "\n",
        "# Function to generate a random question based on user selections\n",
        "def generate_question(segment_type, description_type):\n",
        "    segment = \"Consonant\" if segment_type == \"Consonant\" else \"Vowel\"\n",
        "    description_field = \"Full_description\" if description_type == \"Full_description\" else \"Casual_description\"\n",
        "\n",
        "    filtered_df = df[df[\"Segment\"] == segment]  # Filter based on consonant/vowel selection\n",
        "\n",
        "    if filtered_df.empty:\n",
        "        return \"No data available\", \"\"  # Handle empty filter case\n",
        "\n",
        "    random_row = filtered_df.sample(1).iloc[0]  # Pick a random row\n",
        "    description = random_row[description_field]  # Select either 'Full_description' or 'Casual_description'\n",
        "    correct_ipa = random_row[\"IPA\"]  # The correct IPA symbol\n",
        "    return description, correct_ipa\n",
        "\n",
        "# Function to check the user's answer\n",
        "def submit_answer(user_ipa, correct_ipa, score, trials):\n",
        "    trials += 1\n",
        "    if user_ipa.strip() == correct_ipa:\n",
        "        score += 1\n",
        "        return \"Correct!\", score, trials\n",
        "    else:\n",
        "        return \"Try again\", score, trials\n",
        "\n",
        "# Function to quit and show results\n",
        "def quit_quiz(score, trials):\n",
        "    return f\"Your final score is {score}/{trials}.\"\n",
        "\n",
        "# Gradio interface\n",
        "def gradio_app():\n",
        "    with gr.Blocks() as app:\n",
        "        # Radio buttons to select Consonant or Vowel\n",
        "        segment_type = gr.Radio(choices=[\"Consonant\", \"Vowel\"], label=\"Select Consonant or Vowel\", value=\"Consonant\")\n",
        "        # Radio buttons to select description type (Full or Casual)\n",
        "        description_type = gr.Radio(choices=[\"Full_description\", \"Casual_description\"], label=\"Select Description Type\", value=\"Full_description\")\n",
        "\n",
        "        # Start button placed after the selections\n",
        "        start_button = gr.Button(\"Show a phonetic description\")\n",
        "\n",
        "        description_output = gr.Textbox(label=\"Description\", interactive=False)\n",
        "        ipa_input = gr.Textbox(label=\"Enter IPA\", placeholder=\"Type IPA symbol here\")\n",
        "        submit_button = gr.Button(\"Submit\", visible=False)  # Initially hidden until start is clicked\n",
        "        result_output = gr.Textbox(label=\"Result\", interactive=False)\n",
        "        quit_button = gr.Button(\"Quit\")\n",
        "\n",
        "        # State variables for score and trials\n",
        "        score_state = gr.State(0)\n",
        "        trials_state = gr.State(0)\n",
        "        correct_ipa_state = gr.State(\"\")\n",
        "\n",
        "        # Start quiz based on selections\n",
        "        def start(segment_type, description_type):\n",
        "            description, correct_ipa = generate_question(segment_type, description_type)\n",
        "            correct_ipa_state.value = correct_ipa  # Save the correct IPA symbol in state\n",
        "            return description, \"\", gr.update(visible=True), score_state.value, trials_state.value\n",
        "\n",
        "        # Submit the answer and check\n",
        "        def submit(user_ipa):\n",
        "            result, score, trials = submit_answer(user_ipa, correct_ipa_state.value, score_state.value, trials_state.value)\n",
        "            score_state.value = score\n",
        "            trials_state.value = trials\n",
        "            return result, score, trials\n",
        "\n",
        "        # Quit and show final results\n",
        "        def quit():\n",
        "            return quit_quiz(score_state.value, trials_state.value)\n",
        "\n",
        "        # Bind actions\n",
        "        start_button.click(fn=start, inputs=[segment_type, description_type], outputs=[description_output, ipa_input, submit_button, score_state, trials_state])\n",
        "        submit_button.click(fn=submit, inputs=[ipa_input], outputs=[result_output, score_state, trials_state])\n",
        "        quit_button.click(fn=quit, outputs=[result_output])\n",
        "\n",
        "    return app\n",
        "\n",
        "app = gradio_app()\n",
        "app.launch()\n"
      ],
      "metadata": {
        "id": "Wj7y-D9xcD5F"
      },
      "execution_count": null,
      "outputs": []
    }
  ]
}