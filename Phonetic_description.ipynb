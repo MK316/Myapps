{
  "nbformat": 4,
  "nbformat_minor": 0,
  "metadata": {
    "colab": {
      "private_outputs": true,
      "provenance": [],
      "authorship_tag": "ABX9TyPtolMqAojd0xKPqqkwERit",
      "include_colab_link": true
    },
    "kernelspec": {
      "name": "python3",
      "display_name": "Python 3"
    },
    "language_info": {
      "name": "python"
    }
  },
  "cells": [
    {
      "cell_type": "markdown",
      "metadata": {
        "id": "view-in-github",
        "colab_type": "text"
      },
      "source": [
        "<a href=\"https://colab.research.google.com/github/MK316/Myapps/blob/main/Phonetic_description.ipynb\" target=\"_parent\"><img src=\"https://colab.research.google.com/assets/colab-badge.svg\" alt=\"Open In Colab\"/></a>"
      ]
    },
    {
      "cell_type": "markdown",
      "source": [
        "# Phonetic description practice application"
      ],
      "metadata": {
        "id": "eGRKUg34fp6Y"
      }
    },
    {
      "cell_type": "code",
      "source": [
        "%%capture\n",
        "!pip install gradio"
      ],
      "metadata": {
        "id": "Jy7YE3WKWlql"
      },
      "execution_count": null,
      "outputs": []
    },
    {
      "cell_type": "code",
      "source": [
        "https://raw.githubusercontent.com/MK316/Myapps/refs/heads/main/data/Phonetic-description.csv"
      ],
      "metadata": {
        "id": "h9XsR1wGXmwv"
      },
      "execution_count": null,
      "outputs": []
    },
    {
      "cell_type": "markdown",
      "source": [
        "# Variable issue"
      ],
      "metadata": {
        "id": "xOrBxOFY8MQI"
      }
    },
    {
      "cell_type": "markdown",
      "source": [
        "# Revision (0923)"
      ],
      "metadata": {
        "id": "qQHnJb60A5GT"
      }
    },
    {
      "cell_type": "markdown",
      "source": [
        "# Name included (0923): Final version"
      ],
      "metadata": {
        "id": "SB0tPj1hDulm"
      }
    },
    {
      "cell_type": "code",
      "source": [
        "#@markdown This app resolved variable issues (0923)\n",
        "\n",
        "import random\n",
        "import gradio as gr\n",
        "import pandas as pd\n",
        "\n",
        "# Load data from the provided URL\n",
        "def load_data():\n",
        "    url = \"https://raw.githubusercontent.com/MK316/Myapps/refs/heads/main/data/Phonetic-description.csv\"\n",
        "    try:\n",
        "        data = pd.read_csv(url, encoding='utf-8')  # Ensure correct encoding\n",
        "        return data\n",
        "    except Exception as e:\n",
        "        raise ValueError(f\"Error loading data: {e}\")\n",
        "\n",
        "# Load the data into a DataFrame\n",
        "df = load_data()\n",
        "\n",
        "# Dictionary to store each user's session-specific data\n",
        "user_sessions = {}\n",
        "\n",
        "# Function to generate a random question based on user selections\n",
        "def generate_question(segment_type, description_type, used_questions):\n",
        "    segment = \"Consonant\" if segment_type == \"Consonant\" else \"Vowel\"\n",
        "    description_field = \"Full_description\" if description_type == \"Full_description\" else \"Casual_description\"\n",
        "\n",
        "    filtered_df = df[df[\"Segment\"] == segment]  # Filter based on consonant/vowel selection\n",
        "\n",
        "    if filtered_df.empty:\n",
        "        return \"No data available\", \"\", used_questions  # Handle empty filter case\n",
        "\n",
        "    random_row = filtered_df.sample(1).iloc[0]  # Pick a random row\n",
        "    description = random_row[description_field]  # Select either 'Full_description' or 'Casual_description'\n",
        "    correct_ipa = random_row[\"IPA\"]  # The correct IPA symbol\n",
        "    used_questions.append(description)  # Track used descriptions to avoid repetition\n",
        "    return description, correct_ipa, used_questions\n",
        "\n",
        "# Function to check the user's answer\n",
        "def submit_answer(user_ipa, correct_ipa, score, trials):\n",
        "    trials += 1\n",
        "    if user_ipa.strip() == correct_ipa:\n",
        "        score += 1\n",
        "        return f\"Correct! The answer was '{correct_ipa}'\", score, trials\n",
        "    else:\n",
        "        return f\"Wrong! The correct answer was '{correct_ipa}'\", score, trials\n",
        "\n",
        "# Function to quit and show results\n",
        "def quit_quiz(score, trials, name):\n",
        "    return f\"{name}! Your final score is {score}/{trials}.\"\n",
        "\n",
        "# Gradio interface\n",
        "def gradio_app():\n",
        "    with gr.Blocks() as app:\n",
        "        # Name input\n",
        "        name_input = gr.Textbox(label=\"Enter your name\", placeholder=\"Your name\")\n",
        "\n",
        "        # Radio buttons to select Consonant or Vowel\n",
        "        segment_type = gr.Radio(choices=[\"Consonant\", \"Vowel\"], label=\"Select Consonant or Vowel\", value=\"Consonant\")\n",
        "        # Radio buttons to select description type (Full or Casual)\n",
        "        description_type = gr.Radio(choices=[\"Full_description\", \"Casual_description\"], label=\"Select Description Type\", value=\"Full_description\")\n",
        "\n",
        "        # Start button renamed to \"Quiz to start\"\n",
        "        start_button = gr.Button(\"Quiz to start\")\n",
        "\n",
        "        description_output = gr.Textbox(label=\"Description\", interactive=False)\n",
        "        ipa_input = gr.Textbox(label=\"Enter IPA\", placeholder=\"Type IPA symbol here\")\n",
        "        submit_button = gr.Button(\"Submit\", visible=False)  # Initially hidden until start is clicked\n",
        "        result_output = gr.Textbox(label=\"Result\", interactive=False)\n",
        "        quit_button = gr.Button(\"Quit\")\n",
        "\n",
        "        # Start quiz and reset session data for the user\n",
        "        def start(segment_type, description_type, name):\n",
        "            # Initialize/reset user session\n",
        "            user_sessions[name] = {\n",
        "                \"score\": 0,\n",
        "                \"trials\": 0,\n",
        "                \"used_questions\": [],\n",
        "                \"correct_ipa\": \"\"\n",
        "            }\n",
        "            description, correct_ipa, used_questions = generate_question(segment_type, description_type, user_sessions[name][\"used_questions\"])\n",
        "            user_sessions[name][\"correct_ipa\"] = correct_ipa\n",
        "            user_sessions[name][\"used_questions\"] = used_questions\n",
        "            return description, \"\", gr.update(visible=True), user_sessions[name][\"score\"], user_sessions[name][\"trials\"]\n",
        "\n",
        "        # Submit the answer and check\n",
        "        def submit(name, user_ipa):\n",
        "            session = user_sessions[name]\n",
        "            result, score, trials = submit_answer(user_ipa, session[\"correct_ipa\"], session[\"score\"], session[\"trials\"])\n",
        "            session[\"score\"] = score\n",
        "            session[\"trials\"] = trials\n",
        "\n",
        "            # Generate new question after submitting the answer\n",
        "            description, correct_ipa, used_questions = generate_question(segment_type.value, description_type.value, session[\"used_questions\"])\n",
        "            session[\"correct_ipa\"] = correct_ipa\n",
        "            session[\"used_questions\"] = used_questions\n",
        "            return description, \"\", result, gr.update(visible=True), result, score, trials\n",
        "\n",
        "        # Quit and show final results\n",
        "        def quit(name):\n",
        "            session = user_sessions[name]\n",
        "            return quit_quiz(session[\"score\"], session[\"trials\"], name)\n",
        "\n",
        "        # Bind actions\n",
        "        start_button.click(fn=start, inputs=[segment_type, description_type, name_input], outputs=[description_output, ipa_input, submit_button, result_output, result_output])\n",
        "        submit_button.click(fn=submit, inputs=[name_input, ipa_input], outputs=[description_output, ipa_input, result_output, result_output, result_output])\n",
        "        quit_button.click(fn=quit, inputs=[name_input], outputs=[result_output])\n",
        "\n",
        "    return app\n",
        "\n",
        "app = gradio_app()\n",
        "app.launch()\n"
      ],
      "metadata": {
        "cellView": "form",
        "id": "mX5-1EuADwax"
      },
      "execution_count": null,
      "outputs": []
    }
  ]
}